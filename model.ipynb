{
 "cells": [
  {
   "cell_type": "markdown",
   "id": "3241d0d5",
   "metadata": {},
   "source": [
    "# importing libraries"
   ]
  },
  {
   "cell_type": "code",
   "execution_count": 1,
   "id": "55642354",
   "metadata": {},
   "outputs": [],
   "source": [
    "import numpy as np\n",
    "import pandas as pd\n",
    "import matplotlib.pyplot as plt \n",
    "import seaborn as sns\n",
    "import warnings\n",
    "from sklearn.preprocessing import LabelEncoder\n",
    "import tkinter\n",
    "from tkinter import *\n",
    "from PIL import ImageTk, Image\n",
    "import string"
   ]
  },
  {
   "cell_type": "markdown",
   "id": "4a6f3f77",
   "metadata": {},
   "source": [
    "# Importing Data"
   ]
  },
  {
   "cell_type": "code",
   "execution_count": 2,
   "id": "eb88bca6",
   "metadata": {},
   "outputs": [
    {
     "data": {
      "text/html": [
       "<div>\n",
       "<style scoped>\n",
       "    .dataframe tbody tr th:only-of-type {\n",
       "        vertical-align: middle;\n",
       "    }\n",
       "\n",
       "    .dataframe tbody tr th {\n",
       "        vertical-align: top;\n",
       "    }\n",
       "\n",
       "    .dataframe thead th {\n",
       "        text-align: right;\n",
       "    }\n",
       "</style>\n",
       "<table border=\"1\" class=\"dataframe\">\n",
       "  <thead>\n",
       "    <tr style=\"text-align: right;\">\n",
       "      <th></th>\n",
       "      <th>region</th>\n",
       "      <th>are_you_pregnant</th>\n",
       "      <th>discussion_includes_husband</th>\n",
       "      <th>gilr_referred_to_health_post_or_ msi_outreach_team_to_take_up_a_method</th>\n",
       "      <th>girl_age</th>\n",
       "      <th>location_of_smart_ start_follow_up</th>\n",
       "      <th>method_received</th>\n",
       "      <th>number_of_children</th>\n",
       "      <th>pregnancy_ test</th>\n",
       "      <th>referred_ by</th>\n",
       "      <th>session_type</th>\n",
       "      <th>used_ec_or_condoms_last_time_you_had_sex</th>\n",
       "    </tr>\n",
       "  </thead>\n",
       "  <tbody>\n",
       "    <tr>\n",
       "      <th>0</th>\n",
       "      <td>Oromiya</td>\n",
       "      <td>UN - Unknown</td>\n",
       "      <td>No</td>\n",
       "      <td>No</td>\n",
       "      <td>19</td>\n",
       "      <td>Home</td>\n",
       "      <td>None</td>\n",
       "      <td>0</td>\n",
       "      <td>No - test given</td>\n",
       "      <td>WDA</td>\n",
       "      <td>Individual Session</td>\n",
       "      <td>None</td>\n",
       "    </tr>\n",
       "    <tr>\n",
       "      <th>1</th>\n",
       "      <td>Oromiya</td>\n",
       "      <td>N - Not pregnant</td>\n",
       "      <td>No</td>\n",
       "      <td>No</td>\n",
       "      <td>23</td>\n",
       "      <td>Home</td>\n",
       "      <td>None</td>\n",
       "      <td>2</td>\n",
       "      <td>No - test given</td>\n",
       "      <td>Navigator</td>\n",
       "      <td>Group Session</td>\n",
       "      <td>None</td>\n",
       "    </tr>\n",
       "    <tr>\n",
       "      <th>2</th>\n",
       "      <td>Oromiya</td>\n",
       "      <td>N - Not pregnant</td>\n",
       "      <td>No</td>\n",
       "      <td>Yes</td>\n",
       "      <td>20</td>\n",
       "      <td>Home</td>\n",
       "      <td>Implant 5 year Jadelle</td>\n",
       "      <td>1</td>\n",
       "      <td>No - test given</td>\n",
       "      <td>Navigator</td>\n",
       "      <td>Group Session</td>\n",
       "      <td>None</td>\n",
       "    </tr>\n",
       "    <tr>\n",
       "      <th>3</th>\n",
       "      <td>Oromiya</td>\n",
       "      <td>N - Not pregnant</td>\n",
       "      <td>No</td>\n",
       "      <td>Yes</td>\n",
       "      <td>24</td>\n",
       "      <td>Home</td>\n",
       "      <td>Implant 3 year Implanon</td>\n",
       "      <td>2</td>\n",
       "      <td>No - test given</td>\n",
       "      <td>HEW</td>\n",
       "      <td>Group Session</td>\n",
       "      <td>None</td>\n",
       "    </tr>\n",
       "    <tr>\n",
       "      <th>4</th>\n",
       "      <td>Oromiya</td>\n",
       "      <td>N - Not pregnant</td>\n",
       "      <td>Yes</td>\n",
       "      <td>Yes</td>\n",
       "      <td>19</td>\n",
       "      <td>Health Post</td>\n",
       "      <td>IUCD</td>\n",
       "      <td>1</td>\n",
       "      <td>No - test given</td>\n",
       "      <td>Navigator</td>\n",
       "      <td>Group Session</td>\n",
       "      <td>None</td>\n",
       "    </tr>\n",
       "  </tbody>\n",
       "</table>\n",
       "</div>"
      ],
      "text/plain": [
       "   region   are_you_pregnant discussion_includes_husband   \\\n",
       "0  Oromiya      UN - Unknown                           No   \n",
       "1  Oromiya  N - Not pregnant                           No   \n",
       "2  Oromiya  N - Not pregnant                           No   \n",
       "3  Oromiya  N - Not pregnant                           No   \n",
       "4  Oromiya  N - Not pregnant                          Yes   \n",
       "\n",
       "  gilr_referred_to_health_post_or_ msi_outreach_team_to_take_up_a_method  \\\n",
       "0                                                 No                       \n",
       "1                                                 No                       \n",
       "2                                                Yes                       \n",
       "3                                                Yes                       \n",
       "4                                                Yes                       \n",
       "\n",
       "   girl_age location_of_smart_ start_follow_up          method_received  \\\n",
       "0        19                              Home                      None   \n",
       "1        23                              Home                      None   \n",
       "2        20                              Home    Implant 5 year Jadelle   \n",
       "3        24                              Home   Implant 3 year Implanon   \n",
       "4        19                       Health Post                      IUCD   \n",
       "\n",
       "   number_of_children  pregnancy_ test referred_ by        session_type  \\\n",
       "0                   0  No - test given          WDA  Individual Session   \n",
       "1                   2  No - test given    Navigator       Group Session   \n",
       "2                   1  No - test given    Navigator       Group Session   \n",
       "3                   2  No - test given          HEW       Group Session   \n",
       "4                   1  No - test given    Navigator       Group Session   \n",
       "\n",
       "  used_ec_or_condoms_last_time_you_had_sex  \n",
       "0                                     None  \n",
       "1                                     None  \n",
       "2                                     None  \n",
       "3                                     None  \n",
       "4                                     None  "
      ]
     },
     "execution_count": 2,
     "metadata": {},
     "output_type": "execute_result"
    }
   ],
   "source": [
    "data = pd.read_excel('OTF.xlsx') \n",
    "data.head()"
   ]
  },
  {
   "cell_type": "code",
   "execution_count": 3,
   "id": "603a25a7",
   "metadata": {},
   "outputs": [
    {
     "data": {
      "text/plain": [
       "Index(['region ', 'are_you_pregnant', 'discussion_includes_husband ',\n",
       "       'gilr_referred_to_health_post_or_ msi_outreach_team_to_take_up_a_method',\n",
       "       'girl_age', 'location_of_smart_ start_follow_up', 'method_received',\n",
       "       'number_of_children', 'pregnancy_ test', 'referred_ by', 'session_type',\n",
       "       'used_ec_or_condoms_last_time_you_had_sex'],\n",
       "      dtype='object')"
      ]
     },
     "execution_count": 3,
     "metadata": {},
     "output_type": "execute_result"
    }
   ],
   "source": [
    "data.columns"
   ]
  },
  {
   "cell_type": "code",
   "execution_count": 4,
   "id": "a905aa65",
   "metadata": {},
   "outputs": [
    {
     "data": {
      "text/html": [
       "<div>\n",
       "<style scoped>\n",
       "    .dataframe tbody tr th:only-of-type {\n",
       "        vertical-align: middle;\n",
       "    }\n",
       "\n",
       "    .dataframe tbody tr th {\n",
       "        vertical-align: top;\n",
       "    }\n",
       "\n",
       "    .dataframe thead th {\n",
       "        text-align: right;\n",
       "    }\n",
       "</style>\n",
       "<table border=\"1\" class=\"dataframe\">\n",
       "  <thead>\n",
       "    <tr style=\"text-align: right;\">\n",
       "      <th></th>\n",
       "      <th>region</th>\n",
       "      <th>are_you_pregnant</th>\n",
       "      <th>discussion_includes_husband</th>\n",
       "      <th>gilr_referred_to_health_post_or_ msi_outreach_team_to_take_up_a_method</th>\n",
       "      <th>girl_age</th>\n",
       "      <th>location_of_smart_ start_follow_up</th>\n",
       "      <th>method_received</th>\n",
       "      <th>number_of_children</th>\n",
       "      <th>pregnancy_ test</th>\n",
       "      <th>referred_ by</th>\n",
       "      <th>session_type</th>\n",
       "      <th>used_ec_or_condoms_last_time_you_had_sex</th>\n",
       "    </tr>\n",
       "  </thead>\n",
       "  <tbody>\n",
       "    <tr>\n",
       "      <th>0</th>\n",
       "      <td>Oromiya</td>\n",
       "      <td>UN - Unknown</td>\n",
       "      <td>No</td>\n",
       "      <td>No</td>\n",
       "      <td>19</td>\n",
       "      <td>Home</td>\n",
       "      <td>None</td>\n",
       "      <td>0</td>\n",
       "      <td>No - test given</td>\n",
       "      <td>WDA</td>\n",
       "      <td>Individual Session</td>\n",
       "      <td>None</td>\n",
       "    </tr>\n",
       "    <tr>\n",
       "      <th>1</th>\n",
       "      <td>Oromiya</td>\n",
       "      <td>N - Not pregnant</td>\n",
       "      <td>No</td>\n",
       "      <td>No</td>\n",
       "      <td>23</td>\n",
       "      <td>Home</td>\n",
       "      <td>None</td>\n",
       "      <td>2</td>\n",
       "      <td>No - test given</td>\n",
       "      <td>Navigator</td>\n",
       "      <td>Group Session</td>\n",
       "      <td>None</td>\n",
       "    </tr>\n",
       "    <tr>\n",
       "      <th>2</th>\n",
       "      <td>Oromiya</td>\n",
       "      <td>N - Not pregnant</td>\n",
       "      <td>No</td>\n",
       "      <td>Yes</td>\n",
       "      <td>20</td>\n",
       "      <td>Home</td>\n",
       "      <td>Implant 5 year Jadelle</td>\n",
       "      <td>1</td>\n",
       "      <td>No - test given</td>\n",
       "      <td>Navigator</td>\n",
       "      <td>Group Session</td>\n",
       "      <td>None</td>\n",
       "    </tr>\n",
       "    <tr>\n",
       "      <th>3</th>\n",
       "      <td>Oromiya</td>\n",
       "      <td>N - Not pregnant</td>\n",
       "      <td>No</td>\n",
       "      <td>Yes</td>\n",
       "      <td>24</td>\n",
       "      <td>Home</td>\n",
       "      <td>Implant 3 year Implanon</td>\n",
       "      <td>2</td>\n",
       "      <td>No - test given</td>\n",
       "      <td>HEW</td>\n",
       "      <td>Group Session</td>\n",
       "      <td>None</td>\n",
       "    </tr>\n",
       "    <tr>\n",
       "      <th>4</th>\n",
       "      <td>Oromiya</td>\n",
       "      <td>N - Not pregnant</td>\n",
       "      <td>Yes</td>\n",
       "      <td>Yes</td>\n",
       "      <td>19</td>\n",
       "      <td>Health Post</td>\n",
       "      <td>IUCD</td>\n",
       "      <td>1</td>\n",
       "      <td>No - test given</td>\n",
       "      <td>Navigator</td>\n",
       "      <td>Group Session</td>\n",
       "      <td>None</td>\n",
       "    </tr>\n",
       "  </tbody>\n",
       "</table>\n",
       "</div>"
      ],
      "text/plain": [
       "   region   are_you_pregnant discussion_includes_husband   \\\n",
       "0  Oromiya      UN - Unknown                           No   \n",
       "1  Oromiya  N - Not pregnant                           No   \n",
       "2  Oromiya  N - Not pregnant                           No   \n",
       "3  Oromiya  N - Not pregnant                           No   \n",
       "4  Oromiya  N - Not pregnant                          Yes   \n",
       "\n",
       "  gilr_referred_to_health_post_or_ msi_outreach_team_to_take_up_a_method  \\\n",
       "0                                                 No                       \n",
       "1                                                 No                       \n",
       "2                                                Yes                       \n",
       "3                                                Yes                       \n",
       "4                                                Yes                       \n",
       "\n",
       "   girl_age location_of_smart_ start_follow_up          method_received  \\\n",
       "0        19                              Home                      None   \n",
       "1        23                              Home                      None   \n",
       "2        20                              Home    Implant 5 year Jadelle   \n",
       "3        24                              Home   Implant 3 year Implanon   \n",
       "4        19                       Health Post                      IUCD   \n",
       "\n",
       "   number_of_children  pregnancy_ test referred_ by        session_type  \\\n",
       "0                   0  No - test given          WDA  Individual Session   \n",
       "1                   2  No - test given    Navigator       Group Session   \n",
       "2                   1  No - test given    Navigator       Group Session   \n",
       "3                   2  No - test given          HEW       Group Session   \n",
       "4                   1  No - test given    Navigator       Group Session   \n",
       "\n",
       "  used_ec_or_condoms_last_time_you_had_sex  \n",
       "0                                     None  \n",
       "1                                     None  \n",
       "2                                     None  \n",
       "3                                     None  \n",
       "4                                     None  "
      ]
     },
     "execution_count": 4,
     "metadata": {},
     "output_type": "execute_result"
    }
   ],
   "source": [
    "data.head()"
   ]
  },
  {
   "cell_type": "markdown",
   "id": "4c787424",
   "metadata": {},
   "source": [
    "# Data preproccessing"
   ]
  },
  {
   "cell_type": "markdown",
   "id": "db202963",
   "metadata": {},
   "source": [
    "# Data cleaning "
   ]
  },
  {
   "cell_type": "code",
   "execution_count": 5,
   "id": "52aa8f5e",
   "metadata": {},
   "outputs": [
    {
     "data": {
      "text/plain": [
       "region                                                                    0\n",
       "are_you_pregnant                                                          0\n",
       "discussion_includes_husband                                               0\n",
       "gilr_referred_to_health_post_or_ msi_outreach_team_to_take_up_a_method    0\n",
       "girl_age                                                                  0\n",
       "location_of_smart_ start_follow_up                                        0\n",
       "method_received                                                           0\n",
       "number_of_children                                                        0\n",
       "pregnancy_ test                                                           0\n",
       "referred_ by                                                              0\n",
       "session_type                                                              0\n",
       "used_ec_or_condoms_last_time_you_had_sex                                  0\n",
       "dtype: int64"
      ]
     },
     "execution_count": 5,
     "metadata": {},
     "output_type": "execute_result"
    }
   ],
   "source": [
    "# Check missing\n",
    "\n",
    "data.isnull().sum()"
   ]
  },
  {
   "cell_type": "code",
   "execution_count": 6,
   "id": "6774c280",
   "metadata": {},
   "outputs": [
    {
     "data": {
      "text/plain": [
       "<AxesSubplot:>"
      ]
     },
     "execution_count": 6,
     "metadata": {},
     "output_type": "execute_result"
    },
    {
     "data": {
      "image/png": "[encoded data removed]",
      "text/plain": [
       "<Figure size 432x288 with 2 Axes>"
      ]
     },
     "metadata": {
      "needs_background": "light"
     },
     "output_type": "display_data"
    }
   ],
   "source": [
    "# Check missing graphically\n",
    "\n",
    "sns.heatmap(data.isnull())"
   ]
  },
  {
   "cell_type": "markdown",
   "id": "f8988d3e",
   "metadata": {},
   "source": [
    "# Data transformation"
   ]
  },
  {
   "cell_type": "markdown",
   "id": "86a22a42",
   "metadata": {},
   "source": [
    "# Modify and rename attribute name"
   ]
  },
  {
   "cell_type": "code",
   "execution_count": 7,
   "id": "cebb16b9",
   "metadata": {},
   "outputs": [
    {
     "data": {
      "text/plain": [
       "Index(['region ', 'are_you_pregnant', 'discussion_includes_husband ',\n",
       "       'gilr_referred_to_health_post_or_ msi_outreach_team_to_take_up_a_method',\n",
       "       'girl_age', 'location_of_smart_ start_follow_up', 'method_received',\n",
       "       'number_of_children', 'pregnancy_ test', 'referred_ by', 'session_type',\n",
       "       'used_ec_or_condoms_last_time_you_had_sex'],\n",
       "      dtype='object')"
      ]
     },
     "execution_count": 7,
     "metadata": {},
     "output_type": "execute_result"
    }
   ],
   "source": [
    "data.columns"
   ]
  },
  {
   "cell_type": "code",
   "execution_count": 8,
   "id": "9ca582f5",
   "metadata": {},
   "outputs": [
    {
     "data": {
      "text/plain": [
       "Index(['Region', 'Pregnant', 'Hus', 'Referred', 'Age', 'Premise', 'Method',\n",
       "       'Children', 'P_test', 'Referred_by', 'S_type', 'CEC'],\n",
       "      dtype='object')"
      ]
     },
     "execution_count": 8,
     "metadata": {},
     "output_type": "execute_result"
    }
   ],
   "source": [
    "data.rename(columns = {\"gilr_referred_to_health_post_or_ msi_outreach_team_to_take_up_a_method\":\"Referred\", \"location_of_smart_ start_follow_up\":\"Premise\", \"pregnancy_ test\":\"P_test\", \"region \":\"Region\", \"discussion_includes_husband \":\"Hus\", \"referred_ by\":\"Referred_by\", \"girl_age\":\"Age\", \"method_received\":\"Method\", \"number_of_children\":\"Children\", \"referred_by\":\"Referred_by\", \"session_type\":\"S_type\", \"used_ec_or_condoms_last_time_you_had_sex\":\"CEC\", \"are_you_pregnant\":\"Pregnant\"}, inplace= True)\n",
    "data.columns"
   ]
  },
  {
   "cell_type": "markdown",
   "id": "8f32ebd9",
   "metadata": {},
   "source": [
    "# Modify and rename attribute value"
   ]
  },
  {
   "cell_type": "code",
   "execution_count": 9,
   "id": "45402dab",
   "metadata": {},
   "outputs": [],
   "source": [
    "data['Pregnant'].replace({'N - Not pregnant': 'NP','UN - Unknown': 'UN'}, inplace= True)"
   ]
  },
  {
   "cell_type": "code",
   "execution_count": 10,
   "id": "29b5fd80",
   "metadata": {},
   "outputs": [],
   "source": [
    "data['Referred_by'].replace({'Friend/peer': 'Friend/Peer'}, inplace= True)"
   ]
  },
  {
   "cell_type": "markdown",
   "id": "d74b3112",
   "metadata": {},
   "source": [
    "# Convert Text categories in to numeric categories (Indexing)"
   ]
  },
  {
   "cell_type": "code",
   "execution_count": 11,
   "id": "7efba145",
   "metadata": {},
   "outputs": [],
   "source": [
    "df=data\n",
    "cols = ['Region', 'Pregnant', 'Hus', 'Age', 'Premise', 'Children', 'P_test', 'Referred_by', 'S_type', 'CEC', 'Referred', 'Method']\n",
    "data = df[cols]\n",
    "label_encoder = LabelEncoder()\n",
    "data.Region = label_encoder.fit_transform(data['Region'])\n",
    "data.Hus = label_encoder.fit_transform(data['Hus'])\n",
    "data.Premise = label_encoder.fit_transform(data['Premise'])\n",
    "data.Children = label_encoder.fit_transform(data['Children'])\n",
    "data.P_test = label_encoder.fit_transform(data['P_test'])\n",
    "data.Referred_by = label_encoder.fit_transform(data['Referred_by'])\n",
    "data.S_type = label_encoder.fit_transform(data['S_type'])\n",
    "data.CEC = label_encoder.fit_transform(data['CEC'])\n",
    "data.Pregnant = label_encoder.fit_transform(data['Pregnant'])\n",
    "data.Referred = label_encoder.fit_transform(data['Referred'])\n",
    "data.Method = label_encoder.fit_transform(data['Method'])"
   ]
  },
  {
   "cell_type": "code",
   "execution_count": 12,
   "id": "d2c5a6dd",
   "metadata": {},
   "outputs": [
    {
     "data": {
      "text/html": [
       "<div>\n",
       "<style scoped>\n",
       "    .dataframe tbody tr th:only-of-type {\n",
       "        vertical-align: middle;\n",
       "    }\n",
       "\n",
       "    .dataframe tbody tr th {\n",
       "        vertical-align: top;\n",
       "    }\n",
       "\n",
       "    .dataframe thead th {\n",
       "        text-align: right;\n",
       "    }\n",
       "</style>\n",
       "<table border=\"1\" class=\"dataframe\">\n",
       "  <thead>\n",
       "    <tr style=\"text-align: right;\">\n",
       "      <th></th>\n",
       "      <th>Region</th>\n",
       "      <th>Pregnant</th>\n",
       "      <th>Hus</th>\n",
       "      <th>Age</th>\n",
       "      <th>Premise</th>\n",
       "      <th>Children</th>\n",
       "      <th>P_test</th>\n",
       "      <th>Referred_by</th>\n",
       "      <th>S_type</th>\n",
       "      <th>CEC</th>\n",
       "      <th>Referred</th>\n",
       "      <th>Method</th>\n",
       "    </tr>\n",
       "  </thead>\n",
       "  <tbody>\n",
       "    <tr>\n",
       "      <th>0</th>\n",
       "      <td>0</td>\n",
       "      <td>1</td>\n",
       "      <td>0</td>\n",
       "      <td>19</td>\n",
       "      <td>1</td>\n",
       "      <td>0</td>\n",
       "      <td>0</td>\n",
       "      <td>5</td>\n",
       "      <td>1</td>\n",
       "      <td>0</td>\n",
       "      <td>0</td>\n",
       "      <td>5</td>\n",
       "    </tr>\n",
       "    <tr>\n",
       "      <th>1</th>\n",
       "      <td>0</td>\n",
       "      <td>0</td>\n",
       "      <td>0</td>\n",
       "      <td>23</td>\n",
       "      <td>1</td>\n",
       "      <td>2</td>\n",
       "      <td>0</td>\n",
       "      <td>4</td>\n",
       "      <td>0</td>\n",
       "      <td>0</td>\n",
       "      <td>0</td>\n",
       "      <td>5</td>\n",
       "    </tr>\n",
       "    <tr>\n",
       "      <th>2</th>\n",
       "      <td>0</td>\n",
       "      <td>0</td>\n",
       "      <td>0</td>\n",
       "      <td>20</td>\n",
       "      <td>1</td>\n",
       "      <td>1</td>\n",
       "      <td>0</td>\n",
       "      <td>4</td>\n",
       "      <td>0</td>\n",
       "      <td>0</td>\n",
       "      <td>1</td>\n",
       "      <td>3</td>\n",
       "    </tr>\n",
       "    <tr>\n",
       "      <th>3</th>\n",
       "      <td>0</td>\n",
       "      <td>0</td>\n",
       "      <td>0</td>\n",
       "      <td>24</td>\n",
       "      <td>1</td>\n",
       "      <td>2</td>\n",
       "      <td>0</td>\n",
       "      <td>2</td>\n",
       "      <td>0</td>\n",
       "      <td>0</td>\n",
       "      <td>1</td>\n",
       "      <td>2</td>\n",
       "    </tr>\n",
       "    <tr>\n",
       "      <th>4</th>\n",
       "      <td>0</td>\n",
       "      <td>0</td>\n",
       "      <td>1</td>\n",
       "      <td>19</td>\n",
       "      <td>0</td>\n",
       "      <td>1</td>\n",
       "      <td>0</td>\n",
       "      <td>4</td>\n",
       "      <td>0</td>\n",
       "      <td>0</td>\n",
       "      <td>1</td>\n",
       "      <td>1</td>\n",
       "    </tr>\n",
       "  </tbody>\n",
       "</table>\n",
       "</div>"
      ],
      "text/plain": [
       "   Region  Pregnant  Hus  Age  Premise  Children  P_test  Referred_by  S_type  \\\n",
       "0       0         1    0   19        1         0       0            5       1   \n",
       "1       0         0    0   23        1         2       0            4       0   \n",
       "2       0         0    0   20        1         1       0            4       0   \n",
       "3       0         0    0   24        1         2       0            2       0   \n",
       "4       0         0    1   19        0         1       0            4       0   \n",
       "\n",
       "   CEC  Referred  Method  \n",
       "0    0         0       5  \n",
       "1    0         0       5  \n",
       "2    0         1       3  \n",
       "3    0         1       2  \n",
       "4    0         1       1  "
      ]
     },
     "execution_count": 12,
     "metadata": {},
     "output_type": "execute_result"
    }
   ],
   "source": [
    "data.head()"
   ]
  },
  {
   "cell_type": "code",
   "execution_count": 13,
   "id": "4ff53b15",
   "metadata": {},
   "outputs": [
    {
     "data": {
      "text/html": [
       "<div>\n",
       "<style scoped>\n",
       "    .dataframe tbody tr th:only-of-type {\n",
       "        vertical-align: middle;\n",
       "    }\n",
       "\n",
       "    .dataframe tbody tr th {\n",
       "        vertical-align: top;\n",
       "    }\n",
       "\n",
       "    .dataframe thead th {\n",
       "        text-align: right;\n",
       "    }\n",
       "</style>\n",
       "<table border=\"1\" class=\"dataframe\">\n",
       "  <thead>\n",
       "    <tr style=\"text-align: right;\">\n",
       "      <th></th>\n",
       "      <th>Region</th>\n",
       "      <th>Pregnant</th>\n",
       "      <th>Hus</th>\n",
       "      <th>Referred</th>\n",
       "      <th>Age</th>\n",
       "      <th>Premise</th>\n",
       "      <th>Method</th>\n",
       "      <th>Children</th>\n",
       "      <th>P_test</th>\n",
       "      <th>Referred_by</th>\n",
       "      <th>S_type</th>\n",
       "      <th>CEC</th>\n",
       "    </tr>\n",
       "  </thead>\n",
       "  <tbody>\n",
       "    <tr>\n",
       "      <th>0</th>\n",
       "      <td>Oromiya</td>\n",
       "      <td>UN</td>\n",
       "      <td>No</td>\n",
       "      <td>No</td>\n",
       "      <td>19</td>\n",
       "      <td>Home</td>\n",
       "      <td>None</td>\n",
       "      <td>0</td>\n",
       "      <td>No - test given</td>\n",
       "      <td>WDA</td>\n",
       "      <td>Individual Session</td>\n",
       "      <td>None</td>\n",
       "    </tr>\n",
       "    <tr>\n",
       "      <th>1</th>\n",
       "      <td>Oromiya</td>\n",
       "      <td>NP</td>\n",
       "      <td>No</td>\n",
       "      <td>No</td>\n",
       "      <td>23</td>\n",
       "      <td>Home</td>\n",
       "      <td>None</td>\n",
       "      <td>2</td>\n",
       "      <td>No - test given</td>\n",
       "      <td>Navigator</td>\n",
       "      <td>Group Session</td>\n",
       "      <td>None</td>\n",
       "    </tr>\n",
       "    <tr>\n",
       "      <th>2</th>\n",
       "      <td>Oromiya</td>\n",
       "      <td>NP</td>\n",
       "      <td>No</td>\n",
       "      <td>Yes</td>\n",
       "      <td>20</td>\n",
       "      <td>Home</td>\n",
       "      <td>Implant 5 year Jadelle</td>\n",
       "      <td>1</td>\n",
       "      <td>No - test given</td>\n",
       "      <td>Navigator</td>\n",
       "      <td>Group Session</td>\n",
       "      <td>None</td>\n",
       "    </tr>\n",
       "    <tr>\n",
       "      <th>3</th>\n",
       "      <td>Oromiya</td>\n",
       "      <td>NP</td>\n",
       "      <td>No</td>\n",
       "      <td>Yes</td>\n",
       "      <td>24</td>\n",
       "      <td>Home</td>\n",
       "      <td>Implant 3 year Implanon</td>\n",
       "      <td>2</td>\n",
       "      <td>No - test given</td>\n",
       "      <td>HEW</td>\n",
       "      <td>Group Session</td>\n",
       "      <td>None</td>\n",
       "    </tr>\n",
       "    <tr>\n",
       "      <th>4</th>\n",
       "      <td>Oromiya</td>\n",
       "      <td>NP</td>\n",
       "      <td>Yes</td>\n",
       "      <td>Yes</td>\n",
       "      <td>19</td>\n",
       "      <td>Health Post</td>\n",
       "      <td>IUCD</td>\n",
       "      <td>1</td>\n",
       "      <td>No - test given</td>\n",
       "      <td>Navigator</td>\n",
       "      <td>Group Session</td>\n",
       "      <td>None</td>\n",
       "    </tr>\n",
       "  </tbody>\n",
       "</table>\n",
       "</div>"
      ],
      "text/plain": [
       "    Region Pregnant  Hus Referred  Age       Premise                   Method  \\\n",
       "0  Oromiya       UN   No       No   19         Home                      None   \n",
       "1  Oromiya       NP   No       No   23         Home                      None   \n",
       "2  Oromiya       NP   No      Yes   20         Home    Implant 5 year Jadelle   \n",
       "3  Oromiya       NP   No      Yes   24         Home   Implant 3 year Implanon   \n",
       "4  Oromiya       NP  Yes      Yes   19  Health Post                      IUCD   \n",
       "\n",
       "   Children           P_test Referred_by              S_type   CEC  \n",
       "0         0  No - test given         WDA  Individual Session  None  \n",
       "1         2  No - test given   Navigator       Group Session  None  \n",
       "2         1  No - test given   Navigator       Group Session  None  \n",
       "3         2  No - test given         HEW       Group Session  None  \n",
       "4         1  No - test given   Navigator       Group Session  None  "
      ]
     },
     "execution_count": 13,
     "metadata": {},
     "output_type": "execute_result"
    }
   ],
   "source": [
    "df.head()"
   ]
  },
  {
   "cell_type": "markdown",
   "id": "22b0db2b",
   "metadata": {},
   "source": [
    "# 1. girl referred to health post or msi outreach team to take up a method"
   ]
  },
  {
   "cell_type": "markdown",
   "id": "7a144750",
   "metadata": {},
   "source": [
    "# separate dependant and indpendant class"
   ]
  },
  {
   "cell_type": "code",
   "execution_count": 14,
   "id": "500ed173",
   "metadata": {},
   "outputs": [],
   "source": [
    "referred_x = data[[\"Region\", \"Hus\", \"Premise\", \"Children\", \"P_test\", \"Referred_by\", \"S_type\", \"CEC\", \"Pregnant\"]]\n",
    "referred_y = data[[\"Referred\"]]"
   ]
  },
  {
   "cell_type": "markdown",
   "id": "7c70d478",
   "metadata": {},
   "source": [
    "# Check Class Balance"
   ]
  },
  {
   "cell_type": "code",
   "execution_count": 15,
   "id": "1024ff9c",
   "metadata": {},
   "outputs": [
    {
     "data": {
      "image/png": "[encoded data removed]",
      "text/plain": [
       "<Figure size 432x288 with 1 Axes>"
      ]
     },
     "metadata": {
      "needs_background": "light"
     },
     "output_type": "display_data"
    }
   ],
   "source": [
    "warnings.filterwarnings('ignore')\n",
    "class_count = df['Referred'].value_counts()\n",
    "sns.barplot(class_count.index, class_count.values, alpha=0.9)\n",
    "plt.title('Frequency Distribution of Class')\n",
    "plt.ylabel('Number of girls', fontsize=12)\n",
    "plt.xlabel('Referred', fontsize=12)\n",
    "plt.show()"
   ]
  },
  {
   "cell_type": "code",
   "execution_count": 16,
   "id": "a351af61",
   "metadata": {},
   "outputs": [
    {
     "data": {
      "text/plain": [
       "Yes    27561\n",
       "No      5451\n",
       "Name: Referred, dtype: int64"
      ]
     },
     "execution_count": 16,
     "metadata": {},
     "output_type": "execute_result"
    }
   ],
   "source": [
    "df['Referred'].value_counts()"
   ]
  },
  {
   "cell_type": "markdown",
   "id": "bac44163",
   "metadata": {},
   "source": [
    "# Apply over-sampling with smote"
   ]
  },
  {
   "cell_type": "code",
   "execution_count": 17,
   "id": "54b792b5",
   "metadata": {},
   "outputs": [],
   "source": [
    "from imblearn import under_sampling, over_sampling\n",
    "from imblearn.over_sampling import SMOTE\n",
    "smote = SMOTE()\n",
    "referred_smote_x,referred_smote_y= smote.fit_resample(referred_x,referred_y)"
   ]
  },
  {
   "cell_type": "code",
   "execution_count": 18,
   "id": "148f4160",
   "metadata": {},
   "outputs": [
    {
     "data": {
      "image/png": "[encoded data removed]",
      "text/plain": [
       "<Figure size 432x288 with 1 Axes>"
      ]
     },
     "metadata": {
      "needs_background": "light"
     },
     "output_type": "display_data"
    }
   ],
   "source": [
    "warnings.filterwarnings('ignore')\n",
    "class_count = referred_smote_y['Referred'].value_counts()\n",
    "sns.barplot(class_count.index, class_count.values, alpha=0.9)\n",
    "plt.title('Frequency Distribution of Class')\n",
    "plt.ylabel('Number of girls', fontsize=12)\n",
    "plt.xlabel('Referred', fontsize=12)\n",
    "plt.show()"
   ]
  },
  {
   "cell_type": "markdown",
   "id": "b605cb82",
   "metadata": {},
   "source": [
    "# Split traing and test dataset"
   ]
  },
  {
   "cell_type": "code",
   "execution_count": 19,
   "id": "e0c8d34b",
   "metadata": {},
   "outputs": [],
   "source": [
    "from sklearn.model_selection import train_test_split\n",
    "\n",
    "x_train,x_test,y_train,y_test=train_test_split(referred_x,referred_y,test_size=0.3,random_state=0)\n",
    "x_train_smote,x_test_smote,y_train_smote,y_test_smote=train_test_split(referred_smote_x,referred_smote_y,test_size=0.3,random_state=0)"
   ]
  },
  {
   "cell_type": "code",
   "execution_count": 20,
   "id": "eaeb9db7",
   "metadata": {},
   "outputs": [
    {
     "data": {
      "text/plain": [
       "(23108, 9)"
      ]
     },
     "execution_count": 20,
     "metadata": {},
     "output_type": "execute_result"
    }
   ],
   "source": [
    "x_train.shape"
   ]
  },
  {
   "cell_type": "code",
   "execution_count": 21,
   "id": "b6b0484b",
   "metadata": {},
   "outputs": [
    {
     "data": {
      "text/plain": [
       "(38585, 9)"
      ]
     },
     "execution_count": 21,
     "metadata": {},
     "output_type": "execute_result"
    }
   ],
   "source": [
    "x_train_smote.shape"
   ]
  },
  {
   "cell_type": "markdown",
   "id": "f6e9b940",
   "metadata": {},
   "source": [
    "# Random foresr Algorithm"
   ]
  },
  {
   "cell_type": "markdown",
   "id": "8b9ff9a1",
   "metadata": {},
   "source": [
    "# Random Forest"
   ]
  },
  {
   "cell_type": "code",
   "execution_count": 22,
   "id": "335296fc",
   "metadata": {},
   "outputs": [
    {
     "data": {
      "text/html": [
       "<style>#sk-container-id-1 {color: black;background-color: white;}#sk-container-id-1 pre{padding: 0;}#sk-container-id-1 div.sk-toggleable {background-color: white;}#sk-container-id-1 label.sk-toggleable__label {cursor: pointer;display: block;width: 100%;margin-bottom: 0;padding: 0.3em;box-sizing: border-box;text-align: center;}#sk-container-id-1 label.sk-toggleable__label-arrow:before {content: \"▸\";float: left;margin-right: 0.25em;color: #696969;}#sk-container-id-1 label.sk-toggleable__label-arrow:hover:before {color: black;}#sk-container-id-1 div.sk-estimator:hover label.sk-toggleable__label-arrow:before {color: black;}#sk-container-id-1 div.sk-toggleable__content {max-height: 0;max-width: 0;overflow: hidden;text-align: left;background-color: #f0f8ff;}#sk-container-id-1 div.sk-toggleable__content pre {margin: 0.2em;color: black;border-radius: 0.25em;background-color: #f0f8ff;}#sk-container-id-1 input.sk-toggleable__control:checked~div.sk-toggleable__content {max-height: 200px;max-width: 100%;overflow: auto;}#sk-container-id-1 input.sk-toggleable__control:checked~label.sk-toggleable__label-arrow:before {content: \"▾\";}#sk-container-id-1 div.sk-estimator input.sk-toggleable__control:checked~label.sk-toggleable__label {background-color: #d4ebff;}#sk-container-id-1 div.sk-label input.sk-toggleable__control:checked~label.sk-toggleable__label {background-color: #d4ebff;}#sk-container-id-1 input.sk-hidden--visually {border: 0;clip: rect(1px 1px 1px 1px);clip: rect(1px, 1px, 1px, 1px);height: 1px;margin: -1px;overflow: hidden;padding: 0;position: absolute;width: 1px;}#sk-container-id-1 div.sk-estimator {font-family: monospace;background-color: #f0f8ff;border: 1px dotted black;border-radius: 0.25em;box-sizing: border-box;margin-bottom: 0.5em;}#sk-container-id-1 div.sk-estimator:hover {background-color: #d4ebff;}#sk-container-id-1 div.sk-parallel-item::after {content: \"\";width: 100%;border-bottom: 1px solid gray;flex-grow: 1;}#sk-container-id-1 div.sk-label:hover label.sk-toggleable__label {background-color: #d4ebff;}#sk-container-id-1 div.sk-serial::before {content: \"\";position: absolute;border-left: 1px solid gray;box-sizing: border-box;top: 0;bottom: 0;left: 50%;z-index: 0;}#sk-container-id-1 div.sk-serial {display: flex;flex-direction: column;align-items: center;background-color: white;padding-right: 0.2em;padding-left: 0.2em;position: relative;}#sk-container-id-1 div.sk-item {position: relative;z-index: 1;}#sk-container-id-1 div.sk-parallel {display: flex;align-items: stretch;justify-content: center;background-color: white;position: relative;}#sk-container-id-1 div.sk-item::before, #sk-container-id-1 div.sk-parallel-item::before {content: \"\";position: absolute;border-left: 1px solid gray;box-sizing: border-box;top: 0;bottom: 0;left: 50%;z-index: -1;}#sk-container-id-1 div.sk-parallel-item {display: flex;flex-direction: column;z-index: 1;position: relative;background-color: white;}#sk-container-id-1 div.sk-parallel-item:first-child::after {align-self: flex-end;width: 50%;}#sk-container-id-1 div.sk-parallel-item:last-child::after {align-self: flex-start;width: 50%;}#sk-container-id-1 div.sk-parallel-item:only-child::after {width: 0;}#sk-container-id-1 div.sk-dashed-wrapped {border: 1px dashed gray;margin: 0 0.4em 0.5em 0.4em;box-sizing: border-box;padding-bottom: 0.4em;background-color: white;}#sk-container-id-1 div.sk-label label {font-family: monospace;font-weight: bold;display: inline-block;line-height: 1.2em;}#sk-container-id-1 div.sk-label-container {text-align: center;}#sk-container-id-1 div.sk-container {/* jupyter's `normalize.less` sets `[hidden] { display: none; }` but bootstrap.min.css set `[hidden] { display: none !important; }` so we also need the `!important` here to be able to override the default hidden behavior on the sphinx rendered scikit-learn.org. See: https://github.com/scikit-learn/scikit-learn/issues/21755 */display: inline-block !important;position: relative;}#sk-container-id-1 div.sk-text-repr-fallback {display: none;}</style><div id=\"sk-container-id-1\" class=\"sk-top-container\"><div class=\"sk-text-repr-fallback\"><pre>RandomForestClassifier()</pre><b>In a Jupyter environment, please rerun this cell to show the HTML representation or trust the notebook. <br />On GitHub, the HTML representation is unable to render, please try loading this page with nbviewer.org.</b></div><div class=\"sk-container\" hidden><div class=\"sk-item\"><div class=\"sk-estimator sk-toggleable\"><input class=\"sk-toggleable__control sk-hidden--visually\" id=\"sk-estimator-id-1\" type=\"checkbox\" checked><label for=\"sk-estimator-id-1\" class=\"sk-toggleable__label sk-toggleable__label-arrow\">RandomForestClassifier</label><div class=\"sk-toggleable__content\"><pre>RandomForestClassifier()</pre></div></div></div></div></div>"
      ],
      "text/plain": [
       "RandomForestClassifier()"
      ]
     },
     "execution_count": 22,
     "metadata": {},
     "output_type": "execute_result"
    }
   ],
   "source": [
    "from sklearn.ensemble import RandomForestClassifier \n",
    "rand_forest =  RandomForestClassifier()\n",
    "rand_forest.fit(referred_x,referred_y)"
   ]
  },
  {
   "cell_type": "code",
   "execution_count": 23,
   "id": "54d5467e",
   "metadata": {},
   "outputs": [
    {
     "data": {
      "text/plain": [
       "0.877228665397265"
      ]
     },
     "execution_count": 23,
     "metadata": {},
     "output_type": "execute_result"
    }
   ],
   "source": [
    "#with unbalanced data\n",
    "rand_forest.fit(referred_x,referred_y)\n",
    "value=rand_forest.score(x_train,y_train)\n",
    "value"
   ]
  },
  {
   "cell_type": "code",
   "execution_count": 24,
   "id": "5723f188",
   "metadata": {},
   "outputs": [
    {
     "data": {
      "text/plain": [
       "0.7018530517040301"
      ]
     },
     "execution_count": 24,
     "metadata": {},
     "output_type": "execute_result"
    }
   ],
   "source": [
    "#balanced class with smote\n",
    "rand_forest.fit(referred_x,referred_y)\n",
    "value=rand_forest.score(x_train_smote,y_train_smote)\n",
    "value"
   ]
  },
  {
   "cell_type": "markdown",
   "id": "674c0e19",
   "metadata": {},
   "source": [
    "# Cross Validation"
   ]
  },
  {
   "cell_type": "code",
   "execution_count": 25,
   "id": "0bb4209f",
   "metadata": {},
   "outputs": [
    {
     "name": "stdout",
     "output_type": "stream",
     "text": [
      "Cross Validation Accuracy DT: 0.8667\n"
     ]
    }
   ],
   "source": [
    "# evaluate Models using 10-fold cross-validation\n",
    "from numpy import mean\n",
    "from sklearn.datasets import make_classification\n",
    "from sklearn.model_selection import KFold\n",
    "from sklearn.model_selection import cross_val_score\n",
    "cv = KFold(n_splits=10, random_state=1, shuffle=True)\n",
    "\n",
    "#with unbalanced data\n",
    "rand_forest_cv_accuracy = cross_val_score(rand_forest, x_train, y_train, cv=cv).mean()\n",
    "print(\"Cross Validation Accuracy DT: %.4f\" % rand_forest_cv_accuracy)"
   ]
  },
  {
   "cell_type": "code",
   "execution_count": 26,
   "id": "fc216232",
   "metadata": {},
   "outputs": [
    {
     "name": "stdout",
     "output_type": "stream",
     "text": [
      "Cross Validation Accuracy DT: 0.7773\n"
     ]
    }
   ],
   "source": [
    "#balanced class with smote\n",
    "rand_forest_cv_accuracy1 = cross_val_score(rand_forest, x_train_smote, y_train_smote, cv=cv).mean()\n",
    "print(\"Cross Validation Accuracy DT: %.4f\" % rand_forest_cv_accuracy1)"
   ]
  },
  {
   "cell_type": "code",
   "execution_count": 27,
   "id": "9cb02734",
   "metadata": {},
   "outputs": [],
   "source": [
    "referred_x = data[[\"Region\", \"Hus\", \"Premise\", \"Children\", \"P_test\", \"Referred_by\", \"S_type\", \"CEC\", \"Pregnant\"]]\n",
    "referred_y = data[[\"Referred\"]]\n",
    "\n",
    "\n",
    "x_train,x_test,y_train,y_test=train_test_split(referred_x,referred_y,test_size=0.3,random_state=0)\n",
    "x_train_smote,x_test_smote,y_train_smote,y_test_smote=train_test_split(referred_smote_x,referred_smote_y,test_size=0.3,random_state=0)"
   ]
  },
  {
   "cell_type": "markdown",
   "id": "46117722",
   "metadata": {},
   "source": [
    "# confusion matrix"
   ]
  },
  {
   "cell_type": "code",
   "execution_count": 28,
   "id": "6073c045",
   "metadata": {},
   "outputs": [
    {
     "name": "stdout",
     "output_type": "stream",
     "text": [
      "              precision    recall  f1-score   support\n",
      "\n",
      "           0       0.92      0.44      0.59      8321\n",
      "           1       0.63      0.96      0.76      8216\n",
      "\n",
      "    accuracy                           0.70     16537\n",
      "   macro avg       0.78      0.70      0.68     16537\n",
      "weighted avg       0.78      0.70      0.68     16537\n",
      "\n"
     ]
    }
   ],
   "source": [
    "import numpy as np\n",
    "from sklearn.metrics import classification_report\n",
    "\n",
    "predict=rand_forest.predict(x_test_smote)\n",
    "\n",
    "print(classification_report(y_test_smote, predict))"
   ]
  },
  {
   "cell_type": "code",
   "execution_count": 29,
   "id": "e1fc7e4f",
   "metadata": {},
   "outputs": [
    {
     "data": {
      "image/png": "[encoded data removed]",
      "text/plain": [
       "<Figure size 720x360 with 2 Axes>"
      ]
     },
     "metadata": {
      "needs_background": "light"
     },
     "output_type": "display_data"
    }
   ],
   "source": [
    "from sklearn.metrics import confusion_matrix\n",
    "import matplotlib.pyplot as plt\n",
    "from sklearn.metrics import plot_confusion_matrix\n",
    "\n",
    "matrix=plot_confusion_matrix(rand_forest,x_test_smote,y_test_smote,cmap=plt.cm.Reds)\n",
    "# matrix.ax_.set_title('Confusion Matrix',color='white')\n",
    "# plt.xlabel('True Label',color='white')\n",
    "# plt.ylabel('True Label',color='white')\n",
    "plt.gcf().axes[0].tick_params(color='white')\n",
    "plt.gcf().axes[1].tick_params(color='white')\n",
    "plt.gcf().set_size_inches(10,5)\n",
    "plt.show()"
   ]
  },
  {
   "cell_type": "markdown",
   "id": "b3202f02",
   "metadata": {},
   "source": [
    "# 2. contraceptive method received"
   ]
  },
  {
   "cell_type": "markdown",
   "id": "a2d21bb8",
   "metadata": {},
   "source": [
    "# separate dependant and indpendant class"
   ]
  },
  {
   "cell_type": "code",
   "execution_count": 30,
   "id": "da3a9cbb",
   "metadata": {},
   "outputs": [],
   "source": [
    "method_x = data[[\"Region\", \"Hus\", \"Premise\", \"Children\", \"P_test\", \"Referred_by\", \"S_type\", \"CEC\", \"Pregnant\",\"Referred\"]]\n",
    "method_y = data[[\"Method\"]]"
   ]
  },
  {
   "cell_type": "markdown",
   "id": "d76928b8",
   "metadata": {},
   "source": [
    "# Check Class Balance"
   ]
  },
  {
   "cell_type": "code",
   "execution_count": 31,
   "id": "de95e373",
   "metadata": {},
   "outputs": [
    {
     "data": {
      "text/plain": [
       "Implant 5 year Jadelle     11150\n",
       "Implant 3 year Implanon     8470\n",
       "Injection                   6292\n",
       "None                        5451\n",
       "Daily Pill                  1424\n",
       "IUCD                         225\n",
       "Name: Method, dtype: int64"
      ]
     },
     "execution_count": 31,
     "metadata": {},
     "output_type": "execute_result"
    }
   ],
   "source": [
    "df['Method'].value_counts()"
   ]
  },
  {
   "cell_type": "code",
   "execution_count": 32,
   "id": "fe4aec18",
   "metadata": {},
   "outputs": [
    {
     "data": {
      "image/png": "[encoded data removed]",
      "text/plain": [
       "<Figure size 432x288 with 1 Axes>"
      ]
     },
     "metadata": {
      "needs_background": "light"
     },
     "output_type": "display_data"
    }
   ],
   "source": [
    "warnings.filterwarnings('ignore')\n",
    "class_count = df['Method'].value_counts()\n",
    "sns.barplot(class_count.index, class_count.values, alpha=0.9)\n",
    "plt.title('Frequency Distribution of Class')\n",
    "plt.ylabel('Number of girls', fontsize=12)\n",
    "plt.xlabel('Referred', fontsize=12)\n",
    "plt.show()"
   ]
  },
  {
   "cell_type": "markdown",
   "id": "75a4a901",
   "metadata": {},
   "source": [
    "# Apply over-sampling with smote"
   ]
  },
  {
   "cell_type": "code",
   "execution_count": 33,
   "id": "777eb7ec",
   "metadata": {},
   "outputs": [],
   "source": [
    "from imblearn import under_sampling, over_sampling\n",
    "from imblearn.over_sampling import SMOTE\n",
    "smote = SMOTE()\n",
    "method_smote_x,method_smote_y= smote.fit_resample(method_x,method_y)"
   ]
  },
  {
   "cell_type": "code",
   "execution_count": 34,
   "id": "71fcf6a2",
   "metadata": {},
   "outputs": [
    {
     "data": {
      "image/png": "[encoded data removed]",
      "text/plain": [
       "<Figure size 432x288 with 1 Axes>"
      ]
     },
     "metadata": {
      "needs_background": "light"
     },
     "output_type": "display_data"
    }
   ],
   "source": [
    "warnings.filterwarnings('ignore')\n",
    "class_count = method_smote_y['Method'].value_counts()\n",
    "sns.barplot(class_count.index, class_count.values, alpha=0.9)\n",
    "plt.title('Frequency Distribution of Class')\n",
    "plt.ylabel('Number of girls', fontsize=12)\n",
    "plt.xlabel('Referred', fontsize=12)\n",
    "plt.show()"
   ]
  },
  {
   "cell_type": "markdown",
   "id": "529e2e65",
   "metadata": {},
   "source": [
    "# Split traing and test dataset"
   ]
  },
  {
   "cell_type": "code",
   "execution_count": 35,
   "id": "d9244405",
   "metadata": {},
   "outputs": [],
   "source": [
    "from sklearn.model_selection import train_test_split\n",
    "\n",
    "x_train_method,x_test_method,y_train_method,y_test_method=train_test_split(method_x,method_y,test_size=0.3,random_state=0)\n",
    "x_train_smote_method,x_test_smote_method,y_train_smote_method,y_test_smote_method=train_test_split(method_smote_x,method_smote_y,test_size=0.3,random_state=0)"
   ]
  },
  {
   "cell_type": "markdown",
   "id": "f59a18b6",
   "metadata": {},
   "source": [
    "# Random Forest Algorithm"
   ]
  },
  {
   "cell_type": "code",
   "execution_count": 36,
   "id": "78062e32",
   "metadata": {},
   "outputs": [
    {
     "data": {
      "text/html": [
       "<style>#sk-container-id-2 {color: black;background-color: white;}#sk-container-id-2 pre{padding: 0;}#sk-container-id-2 div.sk-toggleable {background-color: white;}#sk-container-id-2 label.sk-toggleable__label {cursor: pointer;display: block;width: 100%;margin-bottom: 0;padding: 0.3em;box-sizing: border-box;text-align: center;}#sk-container-id-2 label.sk-toggleable__label-arrow:before {content: \"▸\";float: left;margin-right: 0.25em;color: #696969;}#sk-container-id-2 label.sk-toggleable__label-arrow:hover:before {color: black;}#sk-container-id-2 div.sk-estimator:hover label.sk-toggleable__label-arrow:before {color: black;}#sk-container-id-2 div.sk-toggleable__content {max-height: 0;max-width: 0;overflow: hidden;text-align: left;background-color: #f0f8ff;}#sk-container-id-2 div.sk-toggleable__content pre {margin: 0.2em;color: black;border-radius: 0.25em;background-color: #f0f8ff;}#sk-container-id-2 input.sk-toggleable__control:checked~div.sk-toggleable__content {max-height: 200px;max-width: 100%;overflow: auto;}#sk-container-id-2 input.sk-toggleable__control:checked~label.sk-toggleable__label-arrow:before {content: \"▾\";}#sk-container-id-2 div.sk-estimator input.sk-toggleable__control:checked~label.sk-toggleable__label {background-color: #d4ebff;}#sk-container-id-2 div.sk-label input.sk-toggleable__control:checked~label.sk-toggleable__label {background-color: #d4ebff;}#sk-container-id-2 input.sk-hidden--visually {border: 0;clip: rect(1px 1px 1px 1px);clip: rect(1px, 1px, 1px, 1px);height: 1px;margin: -1px;overflow: hidden;padding: 0;position: absolute;width: 1px;}#sk-container-id-2 div.sk-estimator {font-family: monospace;background-color: #f0f8ff;border: 1px dotted black;border-radius: 0.25em;box-sizing: border-box;margin-bottom: 0.5em;}#sk-container-id-2 div.sk-estimator:hover {background-color: #d4ebff;}#sk-container-id-2 div.sk-parallel-item::after {content: \"\";width: 100%;border-bottom: 1px solid gray;flex-grow: 1;}#sk-container-id-2 div.sk-label:hover label.sk-toggleable__label {background-color: #d4ebff;}#sk-container-id-2 div.sk-serial::before {content: \"\";position: absolute;border-left: 1px solid gray;box-sizing: border-box;top: 0;bottom: 0;left: 50%;z-index: 0;}#sk-container-id-2 div.sk-serial {display: flex;flex-direction: column;align-items: center;background-color: white;padding-right: 0.2em;padding-left: 0.2em;position: relative;}#sk-container-id-2 div.sk-item {position: relative;z-index: 1;}#sk-container-id-2 div.sk-parallel {display: flex;align-items: stretch;justify-content: center;background-color: white;position: relative;}#sk-container-id-2 div.sk-item::before, #sk-container-id-2 div.sk-parallel-item::before {content: \"\";position: absolute;border-left: 1px solid gray;box-sizing: border-box;top: 0;bottom: 0;left: 50%;z-index: -1;}#sk-container-id-2 div.sk-parallel-item {display: flex;flex-direction: column;z-index: 1;position: relative;background-color: white;}#sk-container-id-2 div.sk-parallel-item:first-child::after {align-self: flex-end;width: 50%;}#sk-container-id-2 div.sk-parallel-item:last-child::after {align-self: flex-start;width: 50%;}#sk-container-id-2 div.sk-parallel-item:only-child::after {width: 0;}#sk-container-id-2 div.sk-dashed-wrapped {border: 1px dashed gray;margin: 0 0.4em 0.5em 0.4em;box-sizing: border-box;padding-bottom: 0.4em;background-color: white;}#sk-container-id-2 div.sk-label label {font-family: monospace;font-weight: bold;display: inline-block;line-height: 1.2em;}#sk-container-id-2 div.sk-label-container {text-align: center;}#sk-container-id-2 div.sk-container {/* jupyter's `normalize.less` sets `[hidden] { display: none; }` but bootstrap.min.css set `[hidden] { display: none !important; }` so we also need the `!important` here to be able to override the default hidden behavior on the sphinx rendered scikit-learn.org. See: https://github.com/scikit-learn/scikit-learn/issues/21755 */display: inline-block !important;position: relative;}#sk-container-id-2 div.sk-text-repr-fallback {display: none;}</style><div id=\"sk-container-id-2\" class=\"sk-top-container\"><div class=\"sk-text-repr-fallback\"><pre>RandomForestClassifier()</pre><b>In a Jupyter environment, please rerun this cell to show the HTML representation or trust the notebook. <br />On GitHub, the HTML representation is unable to render, please try loading this page with nbviewer.org.</b></div><div class=\"sk-container\" hidden><div class=\"sk-item\"><div class=\"sk-estimator sk-toggleable\"><input class=\"sk-toggleable__control sk-hidden--visually\" id=\"sk-estimator-id-2\" type=\"checkbox\" checked><label for=\"sk-estimator-id-2\" class=\"sk-toggleable__label sk-toggleable__label-arrow\">RandomForestClassifier</label><div class=\"sk-toggleable__content\"><pre>RandomForestClassifier()</pre></div></div></div></div></div>"
      ],
      "text/plain": [
       "RandomForestClassifier()"
      ]
     },
     "execution_count": 36,
     "metadata": {},
     "output_type": "execute_result"
    }
   ],
   "source": [
    "from sklearn.ensemble import RandomForestClassifier \n",
    "method_rand_forest =  RandomForestClassifier()\n",
    "method_rand_forest.fit(method_x,method_y)"
   ]
  },
  {
   "cell_type": "code",
   "execution_count": 37,
   "id": "f23b55a2",
   "metadata": {},
   "outputs": [
    {
     "data": {
      "text/plain": [
       "0.6259304137095378"
      ]
     },
     "execution_count": 37,
     "metadata": {},
     "output_type": "execute_result"
    }
   ],
   "source": [
    "#with unbalanced data\n",
    "method_rand_forest.fit(method_x,method_y)\n",
    "value=method_rand_forest.score(x_train_method,y_train_method)\n",
    "value"
   ]
  },
  {
   "cell_type": "code",
   "execution_count": 38,
   "id": "f3f1fc45",
   "metadata": {},
   "outputs": [
    {
     "data": {
      "text/plain": [
       "0.45069399957292333"
      ]
     },
     "execution_count": 38,
     "metadata": {},
     "output_type": "execute_result"
    }
   ],
   "source": [
    "#balanced class with smote\n",
    "method_rand_forest.fit(method_x,method_y)\n",
    "value=method_rand_forest.score(x_train_smote_method,y_train_smote_method)\n",
    "value"
   ]
  },
  {
   "cell_type": "markdown",
   "id": "1ea55dd6",
   "metadata": {},
   "source": [
    "# Cross Validation"
   ]
  },
  {
   "cell_type": "code",
   "execution_count": 39,
   "id": "48d20a6c",
   "metadata": {},
   "outputs": [
    {
     "name": "stdout",
     "output_type": "stream",
     "text": [
      "Unbalanced Cross Validation Accuracy DT: 0.5929\n"
     ]
    }
   ],
   "source": [
    "#with unbalanced data\n",
    "method_rand_forest_accuracy = cross_val_score(method_rand_forest, x_train_method, y_train_method, cv=cv).mean()\n",
    "print(\"Unbalanced Cross Validation Accuracy DT: %.4f\" % method_rand_forest_accuracy)"
   ]
  },
  {
   "cell_type": "code",
   "execution_count": 40,
   "id": "f2e801c5",
   "metadata": {},
   "outputs": [
    {
     "name": "stdout",
     "output_type": "stream",
     "text": [
      "Balanced Cross Validation Accuracy DT: 0.5859\n"
     ]
    }
   ],
   "source": [
    "#balanced class with smote\n",
    "method_rand_forest_accuracy1 = cross_val_score(method_rand_forest, x_train_smote_method, y_train_smote_method, cv=cv).mean()\n",
    "print(\"Balanced Cross Validation Accuracy DT: %.4f\" % method_rand_forest_accuracy1)"
   ]
  },
  {
   "cell_type": "markdown",
   "id": "954b8256",
   "metadata": {},
   "source": [
    "# confusion matrix"
   ]
  },
  {
   "cell_type": "code",
   "execution_count": 41,
   "id": "17999a1c",
   "metadata": {},
   "outputs": [
    {
     "name": "stdout",
     "output_type": "stream",
     "text": [
      "              precision    recall  f1-score   support\n",
      "\n",
      "           0       0.90      0.02      0.04      3334\n",
      "           1       0.99      0.02      0.05      3373\n",
      "           2       0.35      0.35      0.35      3369\n",
      "           3       0.31      0.79      0.44      3302\n",
      "           4       0.36      0.50      0.42      3255\n",
      "           5       1.00      1.00      1.00      3437\n",
      "\n",
      "    accuracy                           0.45     20070\n",
      "   macro avg       0.65      0.45      0.38     20070\n",
      "weighted avg       0.65      0.45      0.38     20070\n",
      "\n"
     ]
    }
   ],
   "source": [
    "predict=method_rand_forest.predict(x_test_smote_method)\n",
    "\n",
    "print(classification_report(y_test_smote_method, predict))"
   ]
  },
  {
   "cell_type": "code",
   "execution_count": 42,
   "id": "d92e6d0a",
   "metadata": {},
   "outputs": [
    {
     "data": {
      "image/png": "[encoded data removed]",
      "text/plain": [
       "<Figure size 720x360 with 2 Axes>"
      ]
     },
     "metadata": {
      "needs_background": "light"
     },
     "output_type": "display_data"
    }
   ],
   "source": [
    "from sklearn.metrics import confusion_matrix\n",
    "import matplotlib.pyplot as plt\n",
    "from sklearn.metrics import plot_confusion_matrix\n",
    "\n",
    "matrix=plot_confusion_matrix(method_rand_forest,x_test_smote_method,y_test_smote_method,cmap=plt.cm.Reds)\n",
    "# matrix.ax_.set_title('Confusion Matrix',color='white')\n",
    "# plt.xlabel('True Label',color='white')\n",
    "# plt.ylabel('True Label',color='white')\n",
    "plt.gcf().axes[0].tick_params(color='white')\n",
    "plt.gcf().axes[1].tick_params(color='white')\n",
    "plt.gcf().set_size_inches(10,5)\n",
    "plt.show()"
   ]
  },
  {
   "cell_type": "code",
   "execution_count": 43,
   "id": "d507d4c2",
   "metadata": {},
   "outputs": [
    {
     "data": {
      "text/plain": [
       "Index(['Region', 'Pregnant', 'Hus', 'Age', 'Premise', 'Children', 'P_test',\n",
       "       'Referred_by', 'S_type', 'CEC', 'Referred', 'Method'],\n",
       "      dtype='object')"
      ]
     },
     "execution_count": 43,
     "metadata": {},
     "output_type": "execute_result"
    }
   ],
   "source": [
    "data.columns"
   ]
  },
  {
   "cell_type": "code",
   "execution_count": 44,
   "id": "a10c2dc2",
   "metadata": {},
   "outputs": [
    {
     "data": {
      "text/plain": [
       "array([0, 2, 1])"
      ]
     },
     "execution_count": 44,
     "metadata": {},
     "output_type": "execute_result"
    }
   ],
   "source": [
    "data['Region'].unique()"
   ]
  },
  {
   "cell_type": "code",
   "execution_count": 45,
   "id": "72df8591",
   "metadata": {},
   "outputs": [
    {
     "data": {
      "text/html": [
       "<div>\n",
       "<style scoped>\n",
       "    .dataframe tbody tr th:only-of-type {\n",
       "        vertical-align: middle;\n",
       "    }\n",
       "\n",
       "    .dataframe tbody tr th {\n",
       "        vertical-align: top;\n",
       "    }\n",
       "\n",
       "    .dataframe thead th {\n",
       "        text-align: right;\n",
       "    }\n",
       "</style>\n",
       "<table border=\"1\" class=\"dataframe\">\n",
       "  <thead>\n",
       "    <tr style=\"text-align: right;\">\n",
       "      <th></th>\n",
       "      <th>Region</th>\n",
       "      <th>Pregnant</th>\n",
       "      <th>Hus</th>\n",
       "      <th>Age</th>\n",
       "      <th>Premise</th>\n",
       "      <th>Children</th>\n",
       "      <th>P_test</th>\n",
       "      <th>Referred_by</th>\n",
       "      <th>S_type</th>\n",
       "      <th>CEC</th>\n",
       "      <th>Referred</th>\n",
       "      <th>Method</th>\n",
       "    </tr>\n",
       "  </thead>\n",
       "  <tbody>\n",
       "    <tr>\n",
       "      <th>0</th>\n",
       "      <td>0</td>\n",
       "      <td>1</td>\n",
       "      <td>0</td>\n",
       "      <td>19</td>\n",
       "      <td>1</td>\n",
       "      <td>0</td>\n",
       "      <td>0</td>\n",
       "      <td>5</td>\n",
       "      <td>1</td>\n",
       "      <td>0</td>\n",
       "      <td>0</td>\n",
       "      <td>5</td>\n",
       "    </tr>\n",
       "    <tr>\n",
       "      <th>1</th>\n",
       "      <td>0</td>\n",
       "      <td>0</td>\n",
       "      <td>0</td>\n",
       "      <td>23</td>\n",
       "      <td>1</td>\n",
       "      <td>2</td>\n",
       "      <td>0</td>\n",
       "      <td>4</td>\n",
       "      <td>0</td>\n",
       "      <td>0</td>\n",
       "      <td>0</td>\n",
       "      <td>5</td>\n",
       "    </tr>\n",
       "    <tr>\n",
       "      <th>2</th>\n",
       "      <td>0</td>\n",
       "      <td>0</td>\n",
       "      <td>0</td>\n",
       "      <td>20</td>\n",
       "      <td>1</td>\n",
       "      <td>1</td>\n",
       "      <td>0</td>\n",
       "      <td>4</td>\n",
       "      <td>0</td>\n",
       "      <td>0</td>\n",
       "      <td>1</td>\n",
       "      <td>3</td>\n",
       "    </tr>\n",
       "    <tr>\n",
       "      <th>3</th>\n",
       "      <td>0</td>\n",
       "      <td>0</td>\n",
       "      <td>0</td>\n",
       "      <td>24</td>\n",
       "      <td>1</td>\n",
       "      <td>2</td>\n",
       "      <td>0</td>\n",
       "      <td>2</td>\n",
       "      <td>0</td>\n",
       "      <td>0</td>\n",
       "      <td>1</td>\n",
       "      <td>2</td>\n",
       "    </tr>\n",
       "    <tr>\n",
       "      <th>4</th>\n",
       "      <td>0</td>\n",
       "      <td>0</td>\n",
       "      <td>1</td>\n",
       "      <td>19</td>\n",
       "      <td>0</td>\n",
       "      <td>1</td>\n",
       "      <td>0</td>\n",
       "      <td>4</td>\n",
       "      <td>0</td>\n",
       "      <td>0</td>\n",
       "      <td>1</td>\n",
       "      <td>1</td>\n",
       "    </tr>\n",
       "  </tbody>\n",
       "</table>\n",
       "</div>"
      ],
      "text/plain": [
       "   Region  Pregnant  Hus  Age  Premise  Children  P_test  Referred_by  S_type  \\\n",
       "0       0         1    0   19        1         0       0            5       1   \n",
       "1       0         0    0   23        1         2       0            4       0   \n",
       "2       0         0    0   20        1         1       0            4       0   \n",
       "3       0         0    0   24        1         2       0            2       0   \n",
       "4       0         0    1   19        0         1       0            4       0   \n",
       "\n",
       "   CEC  Referred  Method  \n",
       "0    0         0       5  \n",
       "1    0         0       5  \n",
       "2    0         1       3  \n",
       "3    0         1       2  \n",
       "4    0         1       1  "
      ]
     },
     "execution_count": 45,
     "metadata": {},
     "output_type": "execute_result"
    }
   ],
   "source": [
    "data.head()"
   ]
  },
  {
   "cell_type": "markdown",
   "id": "89c9d6b7",
   "metadata": {},
   "source": [
    "# Prediction"
   ]
  },
  {
   "cell_type": "code",
   "execution_count": 46,
   "id": "fb3f2828",
   "metadata": {},
   "outputs": [
    {
     "name": "stdout",
     "output_type": "stream",
     "text": [
      "33012\n"
     ]
    },
    {
     "data": {
      "text/plain": [
       "1    27561\n",
       "0     5451\n",
       "Name: Referred, dtype: int64"
      ]
     },
     "execution_count": 46,
     "metadata": {},
     "output_type": "execute_result"
    }
   ],
   "source": [
    "# X1 = data3[[\"Region\", \"Hus\", \"Premise\", \"Children\", \"P_test\", \"Referred_by\", \"S_type\", \"CEC\", \"Pregnant\", \"Referred\"]]\n",
    "# Y1 = data3[[\"Method\"]]\n",
    "print(data['Method'].value_counts().sum())\n",
    "data['Method'].count()\n",
    "data['Referred'].value_counts()"
   ]
  },
  {
   "cell_type": "code",
   "execution_count": 47,
   "id": "7be18ec4",
   "metadata": {},
   "outputs": [
    {
     "data": {
      "text/plain": [
       "1    27561\n",
       "0     5451\n",
       "Name: Referred, dtype: int64"
      ]
     },
     "execution_count": 47,
     "metadata": {},
     "output_type": "execute_result"
    }
   ],
   "source": [
    "data['Referred'].value_counts()"
   ]
  },
  {
   "cell_type": "code",
   "execution_count": 48,
   "id": "d5e7d685",
   "metadata": {},
   "outputs": [
    {
     "data": {
      "text/plain": [
       "Index(['Region', 'Pregnant', 'Hus', 'Age', 'Premise', 'Children', 'P_test',\n",
       "       'Referred_by', 'S_type', 'CEC', 'Referred', 'Method'],\n",
       "      dtype='object')"
      ]
     },
     "execution_count": 48,
     "metadata": {},
     "output_type": "execute_result"
    }
   ],
   "source": [
    "data.columns"
   ]
  },
  {
   "cell_type": "code",
   "execution_count": 49,
   "id": "7bdb8870",
   "metadata": {},
   "outputs": [],
   "source": [
    "new_data = [[0, 0, 1, 1, 0, 5, 1, 0,1]]\n",
    "# 0=Daily Pill\n",
    "# 1=IUCD        \n",
    "# 2=Implant 3 year Implanon\n",
    "# 3=Implant 5 year Jadelle\n",
    "# 4=Injection\n",
    "# 5=None"
   ]
  },
  {
   "cell_type": "code",
   "execution_count": 50,
   "id": "3bb26442",
   "metadata": {},
   "outputs": [
    {
     "data": {
      "text/plain": [
       "array([0])"
      ]
     },
     "execution_count": 50,
     "metadata": {},
     "output_type": "execute_result"
    }
   ],
   "source": [
    "new_output = rand_forest.predict(new_data)\n",
    "new_output"
   ]
  },
  {
   "cell_type": "code",
   "execution_count": 51,
   "id": "41350cdf",
   "metadata": {},
   "outputs": [
    {
     "data": {
      "text/plain": [
       "Index(['Region', 'Pregnant', 'Hus', 'Age', 'Premise', 'Children', 'P_test',\n",
       "       'Referred_by', 'S_type', 'CEC', 'Referred', 'Method'],\n",
       "      dtype='object')"
      ]
     },
     "execution_count": 51,
     "metadata": {},
     "output_type": "execute_result"
    }
   ],
   "source": [
    "data.columns"
   ]
  },
  {
   "cell_type": "code",
   "execution_count": 52,
   "id": "5d5bb577",
   "metadata": {},
   "outputs": [
    {
     "data": {
      "text/plain": [
       "array(['None', 'Used Condoms', 'Used EC'], dtype=object)"
      ]
     },
     "execution_count": 52,
     "metadata": {},
     "output_type": "execute_result"
    }
   ],
   "source": [
    "df['CEC'].unique()"
   ]
  },
  {
   "cell_type": "code",
   "execution_count": 53,
   "id": "0ed7b267",
   "metadata": {},
   "outputs": [
    {
     "data": {
      "text/plain": [
       "1    14608\n",
       "0    13482\n",
       "2     4922\n",
       "Name: Region, dtype: int64"
      ]
     },
     "execution_count": 53,
     "metadata": {},
     "output_type": "execute_result"
    }
   ],
   "source": [
    "data['Region'].value_counts()"
   ]
  },
  {
   "cell_type": "code",
   "execution_count": 54,
   "id": "288fd167",
   "metadata": {},
   "outputs": [
    {
     "data": {
      "text/plain": [
       "SNNP       14608\n",
       "Oromiya    13482\n",
       "Sidama      4922\n",
       "Name: Region, dtype: int64"
      ]
     },
     "execution_count": 54,
     "metadata": {},
     "output_type": "execute_result"
    }
   ],
   "source": [
    "df['Region'].value_counts()"
   ]
  },
  {
   "cell_type": "code",
   "execution_count": 55,
   "id": "a8eb1397",
   "metadata": {},
   "outputs": [
    {
     "data": {
      "text/plain": [
       "0    19985\n",
       "1    13027\n",
       "Name: Hus, dtype: int64"
      ]
     },
     "execution_count": 55,
     "metadata": {},
     "output_type": "execute_result"
    }
   ],
   "source": [
    "data['Hus'].value_counts()"
   ]
  },
  {
   "cell_type": "code",
   "execution_count": 56,
   "id": "63b092c6",
   "metadata": {},
   "outputs": [
    {
     "data": {
      "text/plain": [
       "No     19985\n",
       "Yes    13027\n",
       "Name: Hus, dtype: int64"
      ]
     },
     "execution_count": 56,
     "metadata": {},
     "output_type": "execute_result"
    }
   ],
   "source": [
    "df['Hus'].value_counts()"
   ]
  },
  {
   "cell_type": "code",
   "execution_count": 57,
   "id": "655b5abf",
   "metadata": {},
   "outputs": [
    {
     "data": {
      "text/plain": [
       "2    8948\n",
       "1    8842\n",
       "3    7871\n",
       "4    4922\n",
       "0    2429\n",
       "Name: Children, dtype: int64"
      ]
     },
     "execution_count": 57,
     "metadata": {},
     "output_type": "execute_result"
    }
   ],
   "source": [
    "data['Children'].value_counts()"
   ]
  },
  {
   "cell_type": "code",
   "execution_count": 58,
   "id": "a44394d4",
   "metadata": {},
   "outputs": [
    {
     "data": {
      "text/plain": [
       "2    8948\n",
       "1    8842\n",
       "3    7871\n",
       "4    4922\n",
       "0    2429\n",
       "Name: Children, dtype: int64"
      ]
     },
     "execution_count": 58,
     "metadata": {},
     "output_type": "execute_result"
    }
   ],
   "source": [
    "df['Children'].value_counts()"
   ]
  },
  {
   "cell_type": "code",
   "execution_count": 59,
   "id": "5a9b664c",
   "metadata": {},
   "outputs": [
    {
     "data": {
      "text/plain": [
       "Group Session         20092\n",
       "Individual Session    12920\n",
       "Name: S_type, dtype: int64"
      ]
     },
     "execution_count": 59,
     "metadata": {},
     "output_type": "execute_result"
    }
   ],
   "source": [
    "df['S_type'].value_counts()"
   ]
  },
  {
   "cell_type": "code",
   "execution_count": 60,
   "id": "d08aa44d",
   "metadata": {},
   "outputs": [
    {
     "data": {
      "text/plain": [
       "0    20092\n",
       "1    12920\n",
       "Name: S_type, dtype: int64"
      ]
     },
     "execution_count": 60,
     "metadata": {},
     "output_type": "execute_result"
    }
   ],
   "source": [
    "data['S_type'].value_counts()"
   ]
  },
  {
   "cell_type": "code",
   "execution_count": 61,
   "id": "da3403d7",
   "metadata": {},
   "outputs": [
    {
     "data": {
      "text/plain": [
       "NP    26943\n",
       "UN     6069\n",
       "Name: Pregnant, dtype: int64"
      ]
     },
     "execution_count": 61,
     "metadata": {},
     "output_type": "execute_result"
    }
   ],
   "source": [
    "df['Pregnant'].value_counts()"
   ]
  },
  {
   "cell_type": "code",
   "execution_count": 62,
   "id": "3053e31d",
   "metadata": {},
   "outputs": [
    {
     "data": {
      "text/plain": [
       "0    26943\n",
       "1     6069\n",
       "Name: Pregnant, dtype: int64"
      ]
     },
     "execution_count": 62,
     "metadata": {},
     "output_type": "execute_result"
    }
   ],
   "source": [
    "data['Pregnant'].value_counts()"
   ]
  },
  {
   "cell_type": "code",
   "execution_count": null,
   "id": "5e622d8b",
   "metadata": {},
   "outputs": [],
   "source": [
    "# X = data3[[\"Region\", \"Hus\", \"Premise\", \"Children\", \"P_test\", \"Referred_by\", \"S_type\", \"CEC\", \"Pregnant\"]]\n",
    "# Y = data3[[\"Referred\"]]\n",
    "\n",
    "# X1 = data3[[\"Region\", \"Hus\", \"Premise\", \"Children\", \"P_test\", \"Referred_by\", \"S_type\", \"CEC\", \"Pregnant\", \"Referred\"]]\n",
    "# Y1 = data3[[\"Method\"]]\n",
    "\n",
    "def pridictReferred(Region,Hus,Premise,Children,P_test,Referred_by,S_type,CEC,Pregnant):\n",
    "    \n",
    "    data=[]\n",
    "    \n",
    "    data.append(Region) \n",
    "    \n",
    "    data.append(Hus)\n",
    "    \n",
    "    data.append(Premise)\n",
    "    \n",
    "    data.append(Children)\n",
    "    \n",
    "    data.append(P_test)\n",
    "    \n",
    "    data.append(Referred_by)\n",
    "    \n",
    "    data.append(S_type)\n",
    "    \n",
    "    data.append(CEC)\n",
    "    \n",
    "    data.append(Pregnant)\n",
    "    \n",
    "    result=rand_forest.predict([data])\n",
    "    return result\n",
    "\n",
    "def pridictMethod(Region,Hus,Premise,Children,P_test,Referred_by,S_type,CEC,Pregnant,Referred):\n",
    "    \n",
    "    data=[]\n",
    "    \n",
    "    data.append(Region) \n",
    "    \n",
    "    data.append(Hus)\n",
    "    \n",
    "    data.append(Premise)\n",
    "    \n",
    "    data.append(Children)\n",
    "    \n",
    "    data.append(P_test)\n",
    "    \n",
    "    data.append(Referred_by)\n",
    "    \n",
    "    data.append(S_type)\n",
    "    \n",
    "    data.append(CEC)\n",
    "    \n",
    "    data.append(Pregnant)\n",
    "    \n",
    "    data.append(Referred)\n",
    "    \n",
    "    result=method_rand_forest.predict([data])\n",
    "    return result\n",
    "    \n",
    "# 'N_Age','N_Gender','N_Nationality','N_FlightID','N_CabinClass','Tiketed_Date'    \n",
    "def dataPredictor():\n",
    "    \n",
    "    regions=[\"Oromiya\",\"SNNP\",\"Sidama\"]\n",
    "   \n",
    "    i=1\n",
    "    for region in regions:\n",
    "        if(region==regionmenu.get()):\n",
    "            Region=i\n",
    "        i=i+1\n",
    "        \n",
    "    if(discussion_includes_husbandmenu.get()==\"YES\"):\n",
    "        Hus=1       \n",
    "    else:\n",
    "        Hus=0 \n",
    "        \n",
    "    Premises=[\"Health Post\",\"Home\",\"Meeting hall\"]\n",
    "   \n",
    "    i=1\n",
    "    for premise in Premises:\n",
    "        if(premise==Follow_up_locationlblmenu.get()):\n",
    "            Premise=i\n",
    "        i=i+1    \n",
    "        \n",
    "    NumChildren=[\"0\",\"1\",\"2\",\"3\",\"4\"]\n",
    "    \n",
    "    i=1\n",
    "    for child in NumChildren:\n",
    "        if(child==number_of_childrenlblmenu.get()):\n",
    "            Children=i\n",
    "        i=i+1  \n",
    "        \n",
    "    if(discussion_includes_husbandmenu.get()==\"YES\"):\n",
    "        P_test=1       \n",
    "    else:\n",
    "        P_test=0 \n",
    "        \n",
    "    Referreds=['WDA', 'Navigator', 'HEW', 'Husband', 'Friend/peer']\n",
    "    \n",
    "    i=1\n",
    "    for referred in Referreds:\n",
    "        if(referred==referred_bylblmenu.get()):\n",
    "            Referred_by=i\n",
    "        i=i+1  \n",
    "\n",
    "        \n",
    "    if(discussion_includes_husbandmenu.get()==\"Individual Session\"):\n",
    "        S_type=1       \n",
    "    else:\n",
    "        S_type=0   \n",
    "\n",
    "    CECs=['None', 'Used Condoms', 'Used EC']  \n",
    "    \n",
    "    i=1\n",
    "    for cec in CECs:\n",
    "        if(cec==CEClblmenu.get()):\n",
    "            CEC=i\n",
    "        i=i+1 \n",
    "    if(discussion_includes_husbandmenu.get()==\"YES\"):\n",
    "        P_test=1       \n",
    "    else:\n",
    "        P_test=0 \n",
    "    if(are_you_pregnantmenu.get()==\"Unknown\"):\n",
    "        Pregnant=1       \n",
    "    else:\n",
    "        Pregnant=0 \n",
    "    \n",
    "    referredResult=pridictReferred(Region,Hus,Premise,Children,P_test,Referred_by,S_type,CEC,Pregnant)\n",
    "    if(referredResult[0]==0):\n",
    "        ReferredlblMessege.config(text=\"The Referred is NO\")\n",
    "        \n",
    "    elif(referredResult[0]==1):\n",
    "        ReferredlblMessege.config(text=\"The Referred is YES\")\n",
    "        \n",
    "    methodResult=pridictMethod(Region,Hus,Premise,Children,P_test,Referred_by,S_type,CEC,Pregnant,referredResult[0])\n",
    "    \n",
    "    if(methodResult[0]==0):\n",
    "        \n",
    "        MethodlblMessege.config(text=\"The Method is Daily Pill\")\n",
    "        \n",
    "    elif(methodResult[0]==1):\n",
    "        \n",
    "        MethodlblMessege.config(text=\"The Method is IUCD\")\n",
    "        \n",
    "    elif(methodResult[0]==2):\n",
    "        \n",
    "        MethodlblMessege.config(text=\"The Method is Implant 3 year Implanon\")\n",
    "        \n",
    "    elif(methodResult[0]==3):\n",
    "        \n",
    "        MethodlblMessege.config(text=\"The Method is Implant 5 year Jadelle\")\n",
    "        \n",
    "    elif(methodResult[0]==4):\n",
    "        \n",
    "        MethodlblMessege.config(text=\"The Method is Injection\")\n",
    "        \n",
    "    elif(methodResult[0]==5):\n",
    "        \n",
    "        MethodlblMessege.config(text=\"The Method is None\")\n",
    "        \n",
    "def ErrorMessage(message):\n",
    "    \n",
    "    lblError.config(text=message)\n",
    "window = Tk()\n",
    "\n",
    "\n",
    "window.title(\"Welcome to refferd and method prediction system \")\n",
    "\n",
    "window.geometry('1000x600')\n",
    "\n",
    "lbl1 = Label(window, text=\"Let us predict refferd and method \",font=(50),fg=\"green\")\n",
    "\n",
    "lbl1.grid(column=1, row=1,padx=10, pady=10)\n",
    "\n",
    "\n",
    "regionlbl = Label(window, text=\"Region\",font=(12),fg=\"green\", anchor=\"w\", width=15)\n",
    "\n",
    "regionlbl.grid(column=0, row=4,padx=0, pady=10)\n",
    "\n",
    "regionlbl.grid(column=0, row=4,padx=0, pady=10)\n",
    "\n",
    "\n",
    "regionmenu= StringVar()\n",
    "\n",
    "regionmenu.set(\"Oromiya\")\n",
    "\n",
    "drop= OptionMenu(window, regionmenu, \"Oromiya\", \"Sidama\",\"SNNP\")\n",
    "\n",
    "drop.grid(row=4, column=1,padx=20, pady=10)\n",
    "\n",
    "drop.config(width = 25)\n",
    "\n",
    "drop.config(bg = \"White\")\n",
    "drop.grid()\n",
    "\n",
    "\n",
    "are_you_pregnantlbl = Label(window, text=\"Are you pregnant\",font=(12),fg=\"green\",anchor=\"w\", width=15)\n",
    "\n",
    "are_you_pregnantlbl.grid(column=0, row=5,padx=0, pady=5)\n",
    "\n",
    "are_you_pregnantlbl.grid(column=0, row=5,padx=0, pady=5)\n",
    "\n",
    "\n",
    "are_you_pregnantmenu= StringVar()\n",
    "\n",
    "are_you_pregnantmenu.set(\"Unknown\")\n",
    "\n",
    "drop= OptionMenu(window, are_you_pregnantmenu, \"Unknown\", \"Not pregnant\")\n",
    "\n",
    "drop.grid(row=5, column=1,padx=20, pady=10)\n",
    "\n",
    "drop.config(width = 25)\n",
    "\n",
    "drop.config(bg = \"White\")\n",
    "\n",
    "drop.grid()\n",
    "\n",
    "\n",
    "\n",
    "discussion_includes_husbandlbl = Label(window, text=\"Discussion includes husband\",font=(12),fg=\"green\",anchor=\"w\", width=15)\n",
    "\n",
    "discussion_includes_husbandlbl.grid(column=0, row=6,padx=20, pady=2)\n",
    "\n",
    "discussion_includes_husbandlbl.grid(column=0, row=6,padx=20, pady=2)\n",
    "\n",
    "\n",
    "discussion_includes_husbandmenu= StringVar()\n",
    "\n",
    "discussion_includes_husbandmenu.set(\"YES\")\n",
    "\n",
    "drop= OptionMenu(window, discussion_includes_husbandmenu, \"YES\", \"NO\")\n",
    "\n",
    "drop.grid(row=6, column=1,padx=20, pady=10)\n",
    "\n",
    "drop.config(width = 25)\n",
    "\n",
    "drop.config(bg = \"White\")\n",
    "\n",
    "drop.grid()\n",
    "\n",
    "\n",
    "Follow_up_locationlbl = Label(window, text=\"Follow up location\",font=(12),fg=\"green\",anchor=\"w\", width=15)\n",
    "\n",
    "Follow_up_locationlbl.grid(column=0, row=7,padx=20, pady=2)\n",
    "\n",
    "Follow_up_locationlbl.grid(column=0, row=7,padx=20, pady=2)\n",
    "\n",
    "\n",
    "Follow_up_locationlblmenu= StringVar()\n",
    "\n",
    "Follow_up_locationlblmenu.set(\"Home\")\n",
    "\n",
    "drop= OptionMenu(window, Follow_up_locationlblmenu, \"Home\",\"Health Post\",\"Meeting hall\")\n",
    "\n",
    "drop.grid(row=7, column=1,padx=20, pady=10)\n",
    "\n",
    "drop.config(width = 25)\n",
    "\n",
    "drop.config(bg = \"White\")\n",
    "\n",
    "drop.grid()\n",
    "\n",
    "\n",
    "number_of_childrenlbl = Label(window, text=\"number of children\",font=(12),fg=\"green\",anchor=\"w\", width=15)\n",
    "\n",
    "number_of_childrenlbl.grid(column=0, row=8,padx=20, pady=2)\n",
    "\n",
    "number_of_childrenlbl.grid(column=0, row=8,padx=20, pady=2)\n",
    "\n",
    "number_of_childrenlblmenu= StringVar()\n",
    "\n",
    "number_of_childrenlblmenu.set(\"0\")\n",
    "\n",
    "drop= OptionMenu(window, number_of_childrenlblmenu, \"0\", \"1\",\"2\",\"3\",\"4\")\n",
    "\n",
    "drop.grid(row=8, column=1)\n",
    "\n",
    "drop.config(width = 25)\n",
    "\n",
    "drop.config(bg = \"White\")\n",
    "\n",
    "drop.grid()\n",
    "\n",
    "\n",
    "pregnancy_testlbl = Label(window, text=\"pregnancy test\",font=(12),fg=\"green\",anchor=\"w\", width=15)\n",
    "\n",
    "pregnancy_testlbl.grid(column=0, row=9,padx=20, pady=2)\n",
    "\n",
    "pregnancy_testlbl.grid(column=0, row=9,padx=20, pady=2)\n",
    "\n",
    "\n",
    "pregnancy_testlblmenu= StringVar()\n",
    "\n",
    "pregnancy_testlblmenu.set(\"No-test given\")\n",
    "\n",
    "drop= OptionMenu(window, pregnancy_testlblmenu, 'No-test given', 'Tested-negative')\n",
    "\n",
    "drop.grid(row=9, column=1,padx=20, pady=10)\n",
    "\n",
    "drop.config(width = 25)\n",
    "\n",
    "drop.config(bg = \"White\")\n",
    "\n",
    "drop.grid()\n",
    "\n",
    "\n",
    "referred_bylbl = Label(window, text=\"Referred by\",font=(12),fg=\"green\",anchor=\"w\", width=15)\n",
    "\n",
    "referred_bylbl.grid(column=0, row=10,padx=20, pady=2)\n",
    "\n",
    "referred_bylbl.grid(column=0, row=10,padx=20, pady=2)\n",
    "\n",
    "referred_bylblmenu= StringVar()\n",
    "\n",
    "referred_bylblmenu.set(\"Navigator\")\n",
    "\n",
    "drop= OptionMenu(window, referred_bylblmenu, 'WDA', 'Navigator', 'HEW', 'Husband', 'Friend/peer',\n",
    "       'Community Leader', 'Friend/Peer')\n",
    "\n",
    "drop.grid(row=10, column=1,padx=20, pady=10)\n",
    "\n",
    "drop.config(width = 25)\n",
    "\n",
    "drop.config(bg = \"White\")\n",
    "\n",
    "drop.grid()\n",
    "\n",
    "Sessionlbl = Label(window, text=\"Session type\",font=(12),fg=\"green\",anchor=\"w\", width=15)\n",
    "\n",
    "Sessionlbl.grid(column=0, row=11,padx=20, pady=2)\n",
    "\n",
    "Sessionlbl.grid(column=0, row=11,padx=20, pady=2)\n",
    "\n",
    "\n",
    "Sessionlblmenu= StringVar()\n",
    "\n",
    "Sessionlblmenu.set(\"Individual Session\")\n",
    "\n",
    "drop= OptionMenu(window, Sessionlblmenu,'Individual Session', 'Group Session')\n",
    "\n",
    "drop.grid(row=11, column=1,padx=20, pady=10)\n",
    "\n",
    "drop.config(width = 25)\n",
    "\n",
    "drop.config(bg = \"White\")\n",
    "\n",
    "drop.grid()\n",
    "\n",
    "\n",
    "CEClbl = Label(window, text=\"CEC\",font=(12),fg=\"green\",anchor=\"w\", width=15)\n",
    "\n",
    "CEClbl.grid(column=0, row=12,padx=20, pady=2)\n",
    "\n",
    "CEClbl.grid(column=0, row=12,padx=20, pady=2)\n",
    "\n",
    "\n",
    "CEClblmenu= StringVar()\n",
    "\n",
    "CEClblmenu.set(\"None\")\n",
    "\n",
    "drop= OptionMenu(window, CEClblmenu,'None', 'Used Condoms', 'Used EC')\n",
    "\n",
    "drop.grid(row=12, column=1,padx=20, pady=10)\n",
    "\n",
    "drop.config(width = 25)\n",
    "\n",
    "drop.config(bg = \"White\")\n",
    "\n",
    "drop.grid()\n",
    "\n",
    "btn = Button(window, text=\"pridict\",font=(12), command=dataPredictor, bg=\"green\", fg=\"white\",anchor=\"e\")\n",
    "# btn = Button(window, text=\"pridict\",font=(12), bg=\"green\", fg=\"white\")\n",
    "\n",
    "btn.grid(column=1, row=13,padx=0)\n",
    "\n",
    "ReferredlblMessege=Label(window, text=\" \",font=(18), fg=\"blue\", anchor=\"w\", width=30)\n",
    "\n",
    "ReferredlblMessege.grid(column=2, row=4,padx=20, pady=0)\n",
    "\n",
    "MethodlblMessege=Label(window, text=\" \",font=(18), fg=\"blue\",anchor=\"w\", width=30)\n",
    "\n",
    "MethodlblMessege.grid(column=2, row=5,padx=20, pady=0)\n",
    "\n",
    "\n",
    "window.mainloop()\n",
    "\n"
   ]
  },
  {
   "cell_type": "code",
   "execution_count": null,
   "id": "f9215e65",
   "metadata": {},
   "outputs": [],
   "source": []
  },
  {
   "cell_type": "code",
   "execution_count": null,
   "id": "0f22d229",
   "metadata": {},
   "outputs": [],
   "source": []
  }
 ],
 "metadata": {
  "kernelspec": {
   "display_name": "Python 3 (ipykernel)",
   "language": "python",
   "name": "python3"
  },
  "language_info": {
   "codemirror_mode": {
    "name": "ipython",
    "version": 3
   },
   "file_extension": ".py",
   "mimetype": "text/x-python",
   "name": "python",
   "nbconvert_exporter": "python",
   "pygments_lexer": "ipython3",
   "version": "3.9.7"
  }
 },
 "nbformat": 4,
 "nbformat_minor": 5
}
