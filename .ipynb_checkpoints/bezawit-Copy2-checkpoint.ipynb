{
 "cells": [
  {
   "cell_type": "markdown",
   "id": "3241d0d5",
   "metadata": {},
   "source": [
    "# importing libraries"
   ]
  },
  {
   "cell_type": "code",
   "execution_count": null,
   "id": "55642354",
   "metadata": {},
   "outputs": [],
   "source": [
    "import numpy as np\n",
    "import pandas as pd\n",
    "import matplotlib.pyplot as plt \n",
    "import seaborn as sns\n",
    "import warnings\n",
    "from sklearn.preprocessing import LabelEncoder\n",
    "import tkinter\n",
    "from tkinter import *\n",
    "from PIL import ImageTk, Image\n",
    "import string"
   ]
  },
  {
   "cell_type": "markdown",
   "id": "4a6f3f77",
   "metadata": {},
   "source": [
    "# Importing Data"
   ]
  },
  {
   "cell_type": "code",
   "execution_count": null,
   "id": "eb88bca6",
   "metadata": {},
   "outputs": [],
   "source": [
    "data = pd.read_excel('OTF.xlsx') \n",
    "data.head()"
   ]
  },
  {
   "cell_type": "code",
   "execution_count": null,
   "id": "603a25a7",
   "metadata": {},
   "outputs": [],
   "source": [
    "data.columns"
   ]
  },
  {
   "cell_type": "code",
   "execution_count": null,
   "id": "a905aa65",
   "metadata": {},
   "outputs": [],
   "source": [
    "data.head()"
   ]
  },
  {
   "cell_type": "markdown",
   "id": "4c787424",
   "metadata": {},
   "source": [
    "# Data preproccessing"
   ]
  },
  {
   "cell_type": "markdown",
   "id": "db202963",
   "metadata": {},
   "source": [
    "# Data cleaning "
   ]
  },
  {
   "cell_type": "code",
   "execution_count": null,
   "id": "52aa8f5e",
   "metadata": {},
   "outputs": [],
   "source": [
    "# Check missing\n",
    "\n",
    "data.isnull().sum()"
   ]
  },
  {
   "cell_type": "code",
   "execution_count": null,
   "id": "6774c280",
   "metadata": {},
   "outputs": [],
   "source": [
    "# Check missing graphically\n",
    "\n",
    "sns.heatmap(data.isnull())"
   ]
  },
  {
   "cell_type": "markdown",
   "id": "f8988d3e",
   "metadata": {},
   "source": [
    "# Data transformation"
   ]
  },
  {
   "cell_type": "markdown",
   "id": "86a22a42",
   "metadata": {},
   "source": [
    "# Modify and rename attribute name"
   ]
  },
  {
   "cell_type": "code",
   "execution_count": null,
   "id": "cebb16b9",
   "metadata": {},
   "outputs": [],
   "source": [
    "data.columns"
   ]
  },
  {
   "cell_type": "code",
   "execution_count": null,
   "id": "9ca582f5",
   "metadata": {},
   "outputs": [],
   "source": [
    "data.rename(columns = {\"gilr_referred_to_health_post_or_ msi_outreach_team_to_take_up_a_method\":\"Referred\", \"location_of_smart_ start_follow_up\":\"Premise\", \"pregnancy_ test\":\"P_test\", \"region \":\"Region\", \"discussion_includes_husband \":\"Hus\", \"referred_ by\":\"Referred_by\", \"girl_age\":\"Age\", \"method_received\":\"Method\", \"number_of_children\":\"Children\", \"referred_by\":\"Referred_by\", \"session_type\":\"S_type\", \"used_ec_or_condoms_last_time_you_had_sex\":\"CEC\", \"are_you_pregnant\":\"Pregnant\"}, inplace= True)\n",
    "data.columns"
   ]
  },
  {
   "cell_type": "markdown",
   "id": "8f32ebd9",
   "metadata": {},
   "source": [
    "# Modify and rename attribute value"
   ]
  },
  {
   "cell_type": "code",
   "execution_count": null,
   "id": "45402dab",
   "metadata": {},
   "outputs": [],
   "source": [
    "data['Pregnant'].replace({'N - Not pregnant': 'NP','UN - Unknown': 'UN'}, inplace= True)"
   ]
  },
  {
   "cell_type": "code",
   "execution_count": null,
   "id": "29b5fd80",
   "metadata": {},
   "outputs": [],
   "source": [
    "data['Referred_by'].replace({'Friend/peer': 'Friend/Peer'}, inplace= True)"
   ]
  },
  {
   "cell_type": "markdown",
   "id": "d74b3112",
   "metadata": {},
   "source": [
    "# Convert Text categories in to numeric categories (Indexing)"
   ]
  },
  {
   "cell_type": "code",
   "execution_count": null,
   "id": "7efba145",
   "metadata": {},
   "outputs": [],
   "source": [
    "df=data\n",
    "cols = ['Region', 'Pregnant', 'Hus', 'Age', 'Premise', 'Children', 'P_test', 'Referred_by', 'S_type', 'CEC', 'Referred', 'Method']\n",
    "data = df[cols]\n",
    "label_encoder = LabelEncoder()\n",
    "data.Region = label_encoder.fit_transform(data['Region'])\n",
    "data.Hus = label_encoder.fit_transform(data['Hus'])\n",
    "data.Premise = label_encoder.fit_transform(data['Premise'])\n",
    "data.Children = label_encoder.fit_transform(data['Children'])\n",
    "data.P_test = label_encoder.fit_transform(data['P_test'])\n",
    "data.Referred_by = label_encoder.fit_transform(data['Referred_by'])\n",
    "data.S_type = label_encoder.fit_transform(data['S_type'])\n",
    "data.CEC = label_encoder.fit_transform(data['CEC'])\n",
    "data.Pregnant = label_encoder.fit_transform(data['Pregnant'])\n",
    "data.Referred = label_encoder.fit_transform(data['Referred'])\n",
    "data.Method = label_encoder.fit_transform(data['Method'])"
   ]
  },
  {
   "cell_type": "code",
   "execution_count": null,
   "id": "d2c5a6dd",
   "metadata": {},
   "outputs": [],
   "source": [
    "data.head()"
   ]
  },
  {
   "cell_type": "code",
   "execution_count": null,
   "id": "4ff53b15",
   "metadata": {},
   "outputs": [],
   "source": [
    "df.head()"
   ]
  },
  {
   "cell_type": "markdown",
   "id": "22b0db2b",
   "metadata": {},
   "source": [
    "# 1. girl referred to health post or msi outreach team to take up a method"
   ]
  },
  {
   "cell_type": "markdown",
   "id": "7a144750",
   "metadata": {},
   "source": [
    "# separate dependant and indpendant class"
   ]
  },
  {
   "cell_type": "code",
   "execution_count": null,
   "id": "500ed173",
   "metadata": {},
   "outputs": [],
   "source": [
    "referred_x = data[[\"Region\", \"Hus\", \"Age\", \"Premise\", \"Children\", \"P_test\", \"Referred_by\", \"S_type\", \"CEC\", \"Pregnant\"]]\n",
    "referred_y = data[[\"Referred\"]]"
   ]
  },
  {
   "cell_type": "markdown",
   "id": "7c70d478",
   "metadata": {},
   "source": [
    "# Check Class Balance"
   ]
  },
  {
   "cell_type": "code",
   "execution_count": null,
   "id": "a351af61",
   "metadata": {},
   "outputs": [],
   "source": [
    "df['Referred'].value_counts()"
   ]
  },
  {
   "cell_type": "code",
   "execution_count": null,
   "id": "1024ff9c",
   "metadata": {},
   "outputs": [],
   "source": [
    "warnings.filterwarnings('ignore')\n",
    "class_count = df['Referred'].value_counts()\n",
    "sns.barplot(class_count.index, class_count.values, alpha=0.9)\n",
    "plt.title('Frequency Distribution of Class')\n",
    "plt.ylabel('Number of girls', fontsize=12)\n",
    "plt.xlabel('Referred', fontsize=12)\n",
    "plt.show()"
   ]
  },
  {
   "cell_type": "markdown",
   "id": "bac44163",
   "metadata": {},
   "source": [
    "# Apply over-sampling with smote"
   ]
  },
  {
   "cell_type": "code",
   "execution_count": null,
   "id": "54b792b5",
   "metadata": {},
   "outputs": [],
   "source": [
    "from imblearn import under_sampling, over_sampling\n",
    "from imblearn.over_sampling import SMOTE\n",
    "smote = SMOTE()\n",
    "referred_smote_x,referred_smote_y= smote.fit_resample(referred_x,referred_y)"
   ]
  },
  {
   "cell_type": "code",
   "execution_count": null,
   "id": "148f4160",
   "metadata": {},
   "outputs": [],
   "source": [
    "warnings.filterwarnings('ignore')\n",
    "class_count = referred_smote_y['Referred'].value_counts()\n",
    "sns.barplot(class_count.index, class_count.values, alpha=0.9)\n",
    "plt.title('Frequency Distribution of Class')\n",
    "plt.ylabel('Number of girls', fontsize=12)\n",
    "plt.xlabel('Referred', fontsize=12)\n",
    "plt.show()"
   ]
  },
  {
   "cell_type": "markdown",
   "id": "b605cb82",
   "metadata": {},
   "source": [
    "# Split traing and test dataset"
   ]
  },
  {
   "cell_type": "code",
   "execution_count": null,
   "id": "e0c8d34b",
   "metadata": {},
   "outputs": [],
   "source": [
    "from sklearn.model_selection import train_test_split\n",
    "\n",
    "x_train,x_test,y_train,y_test=train_test_split(referred_x,referred_y,test_size=0.3,random_state=0)\n",
    "x_train_smote,x_test_smote,y_train_smote,y_test_smote=train_test_split(referred_smote_x,referred_smote_y,test_size=0.3,random_state=0)"
   ]
  },
  {
   "cell_type": "code",
   "execution_count": null,
   "id": "eaeb9db7",
   "metadata": {},
   "outputs": [],
   "source": [
    "x_train.shape"
   ]
  },
  {
   "cell_type": "code",
   "execution_count": null,
   "id": "b6b0484b",
   "metadata": {},
   "outputs": [],
   "source": [
    "x_train_smote.shape"
   ]
  },
  {
   "cell_type": "markdown",
   "id": "f6e9b940",
   "metadata": {},
   "source": [
    "# Select Algorithm"
   ]
  },
  {
   "cell_type": "markdown",
   "id": "33babfe8",
   "metadata": {},
   "source": [
    "# Decision Tree"
   ]
  },
  {
   "cell_type": "code",
   "execution_count": null,
   "id": "6eab3da0",
   "metadata": {},
   "outputs": [],
   "source": [
    "from sklearn.tree import DecisionTreeClassifier,export_graphviz\n",
    "dt_clf = DecisionTreeClassifier()"
   ]
  },
  {
   "cell_type": "code",
   "execution_count": null,
   "id": "b673526b",
   "metadata": {},
   "outputs": [],
   "source": [
    "#with unbalanced data\n",
    "dt_clf.fit(referred_x,referred_y)\n",
    "value=dt_clf.score(x_train,y_train)\n",
    "value"
   ]
  },
  {
   "cell_type": "code",
   "execution_count": null,
   "id": "81fd8e06",
   "metadata": {},
   "outputs": [],
   "source": [
    "#balanced class with smote\n",
    "dt_clf.fit(referred_x,referred_y)\n",
    "value=dt_clf.score(x_train_smote,y_train_smote)\n",
    "value"
   ]
  },
  {
   "cell_type": "markdown",
   "id": "d7f09fc9",
   "metadata": {},
   "source": [
    "# Cross Validation"
   ]
  },
  {
   "cell_type": "code",
   "execution_count": null,
   "id": "22453169",
   "metadata": {},
   "outputs": [],
   "source": [
    "# evaluate Models using 10-fold cross-validation\n",
    "from numpy import mean\n",
    "from sklearn.datasets import make_classification\n",
    "from sklearn.model_selection import KFold\n",
    "from sklearn.model_selection import cross_val_score\n",
    "cv = KFold(n_splits=10, random_state=1, shuffle=True)"
   ]
  },
  {
   "cell_type": "code",
   "execution_count": null,
   "id": "91ddd498",
   "metadata": {},
   "outputs": [],
   "source": [
    "#with unbalanced data\n",
    "dt_cv_accuracy = cross_val_score(dt_clf, x_train, y_train, cv=cv).mean()\n",
    "print(\"Unbalanced Cross Validation Accuracy DT: %.4f\" % dt_cv_accuracy)"
   ]
  },
  {
   "cell_type": "code",
   "execution_count": null,
   "id": "7af441da",
   "metadata": {},
   "outputs": [],
   "source": [
    "#balanced class with smote\n",
    "dt_cv_accuracy1 = cross_val_score(dt_clf, x_train_smote, y_train_smote, cv=cv).mean()\n",
    "print(\"Balanced Cross Validation Accuracy DT: %.4f\" % dt_cv_accuracy1)"
   ]
  },
  {
   "cell_type": "markdown",
   "id": "8b9ff9a1",
   "metadata": {},
   "source": [
    "# Random Forest"
   ]
  },
  {
   "cell_type": "code",
   "execution_count": null,
   "id": "335296fc",
   "metadata": {},
   "outputs": [],
   "source": [
    "from sklearn.ensemble import RandomForestClassifier \n",
    "rand_forest =  RandomForestClassifier()"
   ]
  },
  {
   "cell_type": "code",
   "execution_count": null,
   "id": "54d5467e",
   "metadata": {},
   "outputs": [],
   "source": [
    "#with unbalanced data\n",
    "rand_forest.fit(referred_x,referred_y)\n",
    "value=rand_forest.score(x_train,y_train)\n",
    "value"
   ]
  },
  {
   "cell_type": "code",
   "execution_count": null,
   "id": "5723f188",
   "metadata": {},
   "outputs": [],
   "source": [
    "#balanced class with smote\n",
    "rand_forest.fit(referred_x,referred_y)\n",
    "value=rand_forest.score(x_train_smote,y_train_smote)\n",
    "value"
   ]
  },
  {
   "cell_type": "markdown",
   "id": "674c0e19",
   "metadata": {},
   "source": [
    "# Cross Validation"
   ]
  },
  {
   "cell_type": "code",
   "execution_count": null,
   "id": "0bb4209f",
   "metadata": {},
   "outputs": [],
   "source": [
    "#with unbalanced data\n",
    "rand_forest_cv_accuracy = cross_val_score(rand_forest, x_train, y_train, cv=cv).mean()\n",
    "print(\"Cross Validation Accuracy DT: %.4f\" % rand_forest_cv_accuracy)"
   ]
  },
  {
   "cell_type": "code",
   "execution_count": null,
   "id": "fc216232",
   "metadata": {},
   "outputs": [],
   "source": [
    "#balanced class with smote\n",
    "rand_forest_cv_accuracy = cross_val_score(rand_forest, x_train_smote, y_train_smote, cv=cv).mean()\n",
    "print(\"Cross Validation Accuracy DT: %.4f\" % rand_forest_cv_accuracy)"
   ]
  },
  {
   "cell_type": "markdown",
   "id": "22f8fe1e",
   "metadata": {},
   "source": [
    "# Gradiant Boosting"
   ]
  },
  {
   "cell_type": "code",
   "execution_count": null,
   "id": "fa043455",
   "metadata": {},
   "outputs": [],
   "source": [
    "from sklearn.ensemble import GradientBoostingClassifier\n",
    "gbMod = GradientBoostingClassifier()"
   ]
  },
  {
   "cell_type": "code",
   "execution_count": null,
   "id": "f85479d7",
   "metadata": {},
   "outputs": [],
   "source": [
    "#with unbalanced data\n",
    "gbMod.fit(referred_x,referred_y)\n",
    "value=gbMod.score(x_train,y_train)\n",
    "value"
   ]
  },
  {
   "cell_type": "code",
   "execution_count": null,
   "id": "d93ba9a5",
   "metadata": {},
   "outputs": [],
   "source": [
    "#balanced class with smote\n",
    "gbMod.fit(referred_x,referred_y)\n",
    "value=gbMod.score(x_train_smote,y_train_smote)\n",
    "value"
   ]
  },
  {
   "cell_type": "markdown",
   "id": "e0ff9179",
   "metadata": {},
   "source": [
    "# Cross Validation"
   ]
  },
  {
   "cell_type": "code",
   "execution_count": null,
   "id": "9d93e1c4",
   "metadata": {},
   "outputs": [],
   "source": [
    "#with unbalanced data\n",
    "gbMod_cv_accuracy = cross_val_score(gbMod, x_train, y_train, cv=cv).mean()\n",
    "print(\"Cross Validation Accuracy DT: %.4f\" % gbMod_cv_accuracy)"
   ]
  },
  {
   "cell_type": "code",
   "execution_count": null,
   "id": "8b3e24bb",
   "metadata": {},
   "outputs": [],
   "source": [
    "#balanced class with smote\n",
    "gbMod_cv_accuracy = cross_val_score(gbMod, x_train_smote, y_train_smote, cv=cv).mean()\n",
    "print(\"Cross Validation Accuracy DT: %.4f\" % gbMod_cv_accuracy)"
   ]
  },
  {
   "cell_type": "markdown",
   "id": "2bff57ab",
   "metadata": {},
   "source": [
    "# Multi-layer neural network"
   ]
  },
  {
   "cell_type": "code",
   "execution_count": null,
   "id": "010ff9c2",
   "metadata": {},
   "outputs": [],
   "source": [
    "from sklearn.neural_network import MLPClassifier\n",
    "mLPClassifier=MLPClassifier()"
   ]
  },
  {
   "cell_type": "code",
   "execution_count": null,
   "id": "d1f96978",
   "metadata": {},
   "outputs": [],
   "source": [
    "#with unbalanced data\n",
    "mLPClassifier.fit(referred_x,referred_y)\n",
    "value=mLPClassifier.score(x_train,y_train)\n",
    "value"
   ]
  },
  {
   "cell_type": "code",
   "execution_count": null,
   "id": "d231a388",
   "metadata": {},
   "outputs": [],
   "source": [
    "#balanced class with smote\n",
    "mLPClassifier.fit(referred_x,referred_y)\n",
    "value=mLPClassifier.score(x_train_smote,y_train_smote)\n",
    "value"
   ]
  },
  {
   "cell_type": "markdown",
   "id": "2da4924d",
   "metadata": {},
   "source": [
    "# Cross Validation"
   ]
  },
  {
   "cell_type": "code",
   "execution_count": null,
   "id": "e82d29bb",
   "metadata": {},
   "outputs": [],
   "source": [
    "#with unbalanced data\n",
    "mLPClassifier_cv_accuracy = cross_val_score(mLPClassifier, x_train, y_train, cv=cv).mean()\n",
    "print(\"Cross Validation Accuracy DT: %.4f\" % mLPClassifier_cv_accuracy)"
   ]
  },
  {
   "cell_type": "code",
   "execution_count": null,
   "id": "cefd02ae",
   "metadata": {},
   "outputs": [],
   "source": [
    "#balanced class with smote\n",
    "mLPClassifier_cv_accuracy = cross_val_score(mLPClassifier, x_train_smote, y_train_smote, cv=cv).mean()\n",
    "print(\"Cross Validation Accuracy DT: %.4f\" % mLPClassifier_cv_accuracy)"
   ]
  },
  {
   "cell_type": "markdown",
   "id": "9d7d95f8",
   "metadata": {},
   "source": [
    "# Apply Feature Selection"
   ]
  },
  {
   "cell_type": "code",
   "execution_count": null,
   "id": "b02adbd4",
   "metadata": {},
   "outputs": [],
   "source": [
    "from sklearn.feature_selection import SelectKBest, chi2\n",
    "\n",
    "feature_selector = SelectKBest(chi2, k = \"all\")\n",
    "fit = feature_selector.fit(referred_x,referred_y)\n",
    "\n",
    "p_values = pd.DataFrame(fit.pvalues_)\n",
    "scores = pd.DataFrame(fit.scores_)\n",
    "input_variable_names = pd.DataFrame(referred_x.columns)\n",
    "summary_stats = pd.concat([input_variable_names, p_values, scores], axis = 1)\n",
    "summary_stats.columns = [\"input_variable\", \"p_value\", \"chi2_score\"]\n",
    "summary_stats.sort_values(by = \"p_value\", inplace = True)\n",
    "\n",
    "p_value_threshold = 0.05\n",
    "score_threshold = 5\n",
    "\n",
    "selected_variables = summary_stats.loc[(summary_stats[\"chi2_score\"] >= score_threshold) &\n",
    "                                       (summary_stats[\"p_value\"] <= p_value_threshold)]\n",
    "selected_variables1 = selected_variables[\"input_variable\"]\n",
    "X_new = referred_x[selected_variables]\n",
    "selected_variables1"
   ]
  },
  {
   "cell_type": "code",
   "execution_count": null,
   "id": "9cb02734",
   "metadata": {},
   "outputs": [],
   "source": [
    "referred_x = data[[\"Region\", \"Hus\", \"Premise\", \"Children\", \"P_test\", \"Referred_by\", \"S_type\", \"CEC\", \"Pregnant\"]]\n",
    "referred_y = data[[\"Referred\"]]\n",
    "\n",
    "\n",
    "x_train,x_test,y_train,y_test=train_test_split(referred_x,referred_y,test_size=0.3,random_state=0)\n",
    "x_train_smote,x_test_smote,y_train_smote,y_test_smote=train_test_split(referred_smote_x,referred_smote_y,test_size=0.3,random_state=0)"
   ]
  },
  {
   "cell_type": "markdown",
   "id": "79f6939a",
   "metadata": {},
   "source": [
    "# After applying feature selection"
   ]
  },
  {
   "cell_type": "markdown",
   "id": "a9cca1f0",
   "metadata": {},
   "source": [
    "# Decision Tree"
   ]
  },
  {
   "cell_type": "code",
   "execution_count": null,
   "id": "2a89900c",
   "metadata": {},
   "outputs": [],
   "source": [
    "#with unbalanced data\n",
    "dt_cv_accuracy = cross_val_score(dt_clf, x_train, y_train, cv=cv).mean()\n",
    "print(\"Unbalanced Cross Validation Accuracy DT: %.4f\" % dt_cv_accuracy)\n",
    "\n",
    "#balanced class with smote\n",
    "dt_cv_accuracy1 = cross_val_score(dt_clf, x_train_smote, y_train_smote, cv=cv).mean()\n",
    "print(\"Balanced Cross Validation Accuracy DT: %.4f\" % dt_cv_accuracy1)\n"
   ]
  },
  {
   "cell_type": "markdown",
   "id": "8101fed7",
   "metadata": {},
   "source": [
    "# Random Forest"
   ]
  },
  {
   "cell_type": "code",
   "execution_count": null,
   "id": "03b1b4d2",
   "metadata": {},
   "outputs": [],
   "source": [
    "#with unbalanced data\n",
    "rand_forest_cv_accuracy = cross_val_score(rand_forest, x_train, y_train, cv=cv).mean()\n",
    "print(\"Unbalanced Cross Validation Accuracy DT: %.4f\" % rand_forest_cv_accuracy)\n",
    "\n",
    "#balanced class with smote\n",
    "rand_forest_cv_accuracy = cross_val_score(rand_forest, x_train_smote, y_train_smote, cv=cv).mean()\n",
    "print(\"Balanced Cross Validation Accuracy DT: %.4f\" % rand_forest_cv_accuracy)"
   ]
  },
  {
   "cell_type": "markdown",
   "id": "034a6de0",
   "metadata": {},
   "source": [
    "# Gradiant Boosting"
   ]
  },
  {
   "cell_type": "code",
   "execution_count": null,
   "id": "a473bb14",
   "metadata": {},
   "outputs": [],
   "source": [
    "#with unbalanced data\n",
    "gbMod_cv_accuracy = cross_val_score(gbMod, x_train, y_train, cv=cv).mean()\n",
    "print(\"Unbalanced Cross Validation Accuracy DT: %.4f\" % gbMod_cv_accuracy)\n",
    "\n",
    "#balanced class with smote\n",
    "gbMod_cv_accuracy = cross_val_score(gbMod, x_train_smote, y_train_smote, cv=cv).mean()\n",
    "print(\"Balanced Cross Validation Accuracy DT: %.4f\" % gbMod_cv_accuracy)"
   ]
  },
  {
   "cell_type": "markdown",
   "id": "02112da9",
   "metadata": {},
   "source": [
    "# Multi-layer neural network"
   ]
  },
  {
   "cell_type": "code",
   "execution_count": null,
   "id": "e25e5715",
   "metadata": {},
   "outputs": [],
   "source": [
    "#with unbalanced data\n",
    "mLPClassifier_cv_accuracy = cross_val_score(mLPClassifier, x_train, y_train, cv=cv).mean()\n",
    "print(\"Unbalanced Cross Validation Accuracy DT: %.4f\" % mLPClassifier_cv_accuracy)\n",
    "\n",
    "#balanced class with smote\n",
    "mLPClassifier_cv_accuracy = cross_val_score(mLPClassifier, x_train_smote, y_train_smote, cv=cv).mean()\n",
    "print(\"Balanced Cross Validation Accuracy DT: %.4f\" % mLPClassifier_cv_accuracy)"
   ]
  },
  {
   "cell_type": "markdown",
   "id": "b3202f02",
   "metadata": {},
   "source": [
    "# 2. contraceptive method received"
   ]
  },
  {
   "cell_type": "markdown",
   "id": "a2d21bb8",
   "metadata": {},
   "source": [
    "# separate dependant and indpendant class"
   ]
  },
  {
   "cell_type": "code",
   "execution_count": null,
   "id": "da3a9cbb",
   "metadata": {},
   "outputs": [],
   "source": [
    "method_x = data[[\"Region\", \"Hus\", \"Age\", \"Premise\", \"Children\", \"P_test\", \"Referred_by\", \"S_type\", \"CEC\", \"Pregnant\",\"Referred\"]]\n",
    "method_y = data[[\"Method\"]]"
   ]
  },
  {
   "cell_type": "markdown",
   "id": "d76928b8",
   "metadata": {},
   "source": [
    "# Check Class Balance"
   ]
  },
  {
   "cell_type": "code",
   "execution_count": null,
   "id": "de95e373",
   "metadata": {},
   "outputs": [],
   "source": [
    "df['Method'].value_counts()"
   ]
  },
  {
   "cell_type": "code",
   "execution_count": null,
   "id": "fe4aec18",
   "metadata": {},
   "outputs": [],
   "source": [
    "warnings.filterwarnings('ignore')\n",
    "class_count = df['Method'].value_counts()\n",
    "sns.barplot(class_count.index, class_count.values, alpha=0.9)\n",
    "plt.title('Frequency Distribution of Class')\n",
    "plt.ylabel('Number of girls', fontsize=12)\n",
    "plt.xlabel('Referred', fontsize=12)\n",
    "plt.show()"
   ]
  },
  {
   "cell_type": "markdown",
   "id": "75a4a901",
   "metadata": {},
   "source": [
    "# Apply over-sampling with smote"
   ]
  },
  {
   "cell_type": "code",
   "execution_count": null,
   "id": "777eb7ec",
   "metadata": {},
   "outputs": [],
   "source": [
    "from imblearn import under_sampling, over_sampling\n",
    "from imblearn.over_sampling import SMOTE\n",
    "smote = SMOTE()\n",
    "method_smote_x,method_smote_y= smote.fit_resample(method_x,method_y)"
   ]
  },
  {
   "cell_type": "code",
   "execution_count": null,
   "id": "71fcf6a2",
   "metadata": {},
   "outputs": [],
   "source": [
    "warnings.filterwarnings('ignore')\n",
    "class_count = method_smote_y['Method'].value_counts()\n",
    "sns.barplot(class_count.index, class_count.values, alpha=0.9)\n",
    "plt.title('Frequency Distribution of Class')\n",
    "plt.ylabel('Number of girls', fontsize=12)\n",
    "plt.xlabel('Referred', fontsize=12)\n",
    "plt.show()"
   ]
  },
  {
   "cell_type": "markdown",
   "id": "529e2e65",
   "metadata": {},
   "source": [
    "# Split traing and test dataset"
   ]
  },
  {
   "cell_type": "code",
   "execution_count": null,
   "id": "d9244405",
   "metadata": {},
   "outputs": [],
   "source": [
    "from sklearn.model_selection import train_test_split\n",
    "\n",
    "x_train,x_test,y_train,y_test=train_test_split(method_x,method_y,test_size=0.3,random_state=0)\n",
    "x_train_smote,x_test_smote,y_train_smote,y_test_smote=train_test_split(method_smote_x,method_smote_y,test_size=0.3,random_state=0)"
   ]
  },
  {
   "cell_type": "markdown",
   "id": "7bd42d39",
   "metadata": {},
   "source": [
    "# Select Algorithm"
   ]
  },
  {
   "cell_type": "markdown",
   "id": "4c5c335c",
   "metadata": {},
   "source": [
    "# Decision Tree"
   ]
  },
  {
   "cell_type": "code",
   "execution_count": null,
   "id": "3dc6c1a7",
   "metadata": {},
   "outputs": [],
   "source": [
    "from sklearn.tree import DecisionTreeClassifier,export_graphviz\n",
    "method_dt_clf = DecisionTreeClassifier()\n"
   ]
  },
  {
   "cell_type": "code",
   "execution_count": null,
   "id": "f968dae7",
   "metadata": {},
   "outputs": [],
   "source": [
    "#with unbalanced data\n",
    "method_dt_clf.fit(method_x,method_y)\n",
    "value=method_dt_clf.score(x_train,y_train)\n",
    "value"
   ]
  },
  {
   "cell_type": "code",
   "execution_count": null,
   "id": "9df9bdc5",
   "metadata": {},
   "outputs": [],
   "source": [
    "#balanced class with smote\n",
    "method_dt_clf.fit(method_x,method_y)\n",
    "value=method_dt_clf.score(x_train_smote,y_train_smote)\n",
    "value"
   ]
  },
  {
   "cell_type": "markdown",
   "id": "83a78406",
   "metadata": {},
   "source": [
    "# Cross Validation"
   ]
  },
  {
   "cell_type": "code",
   "execution_count": null,
   "id": "4d65afe2",
   "metadata": {},
   "outputs": [],
   "source": [
    "#with unbalanced data\n",
    "dt_cv_accuracy = cross_val_score(dt_clf, x_train, y_train, cv=cv).mean()\n",
    "print(\"Unbalanced Cross Validation Accuracy DT: %.4f\" % dt_cv_accuracy)"
   ]
  },
  {
   "cell_type": "code",
   "execution_count": null,
   "id": "e33ca81b",
   "metadata": {},
   "outputs": [],
   "source": [
    "#balanced class with smote\n",
    "dt_cv_accuracy1 = cross_val_score(dt_clf, x_train_smote, y_train_smote, cv=cv).mean()\n",
    "print(\"Balanced Cross Validation Accuracy DT: %.4f\" % dt_cv_accuracy1)"
   ]
  },
  {
   "cell_type": "markdown",
   "id": "f59a18b6",
   "metadata": {},
   "source": [
    "# Random Forest"
   ]
  },
  {
   "cell_type": "code",
   "execution_count": null,
   "id": "78062e32",
   "metadata": {},
   "outputs": [],
   "source": []
  },
  {
   "cell_type": "code",
   "execution_count": null,
   "id": "f23b55a2",
   "metadata": {},
   "outputs": [],
   "source": []
  },
  {
   "cell_type": "code",
   "execution_count": null,
   "id": "f3f1fc45",
   "metadata": {},
   "outputs": [],
   "source": []
  },
  {
   "cell_type": "code",
   "execution_count": null,
   "id": "7a804409",
   "metadata": {},
   "outputs": [],
   "source": []
  },
  {
   "cell_type": "code",
   "execution_count": null,
   "id": "48d20a6c",
   "metadata": {},
   "outputs": [],
   "source": []
  },
  {
   "cell_type": "code",
   "execution_count": null,
   "id": "f2e801c5",
   "metadata": {},
   "outputs": [],
   "source": []
  },
  {
   "cell_type": "code",
   "execution_count": null,
   "id": "d79e6221",
   "metadata": {},
   "outputs": [],
   "source": []
  },
  {
   "cell_type": "code",
   "execution_count": null,
   "id": "30547c80",
   "metadata": {},
   "outputs": [],
   "source": []
  },
  {
   "cell_type": "code",
   "execution_count": null,
   "id": "1a4fea4e",
   "metadata": {},
   "outputs": [],
   "source": []
  },
  {
   "cell_type": "code",
   "execution_count": null,
   "id": "175539c2",
   "metadata": {},
   "outputs": [],
   "source": []
  },
  {
   "cell_type": "code",
   "execution_count": null,
   "id": "cd9f42f5",
   "metadata": {},
   "outputs": [],
   "source": []
  },
  {
   "cell_type": "code",
   "execution_count": null,
   "id": "3db04051",
   "metadata": {},
   "outputs": [],
   "source": []
  },
  {
   "cell_type": "code",
   "execution_count": null,
   "id": "3b927dd4",
   "metadata": {},
   "outputs": [],
   "source": []
  },
  {
   "cell_type": "code",
   "execution_count": null,
   "id": "f6e04f79",
   "metadata": {},
   "outputs": [],
   "source": []
  },
  {
   "cell_type": "code",
   "execution_count": null,
   "id": "385e379c",
   "metadata": {},
   "outputs": [],
   "source": []
  },
  {
   "cell_type": "code",
   "execution_count": null,
   "id": "c5f27ee9",
   "metadata": {},
   "outputs": [],
   "source": []
  },
  {
   "cell_type": "code",
   "execution_count": null,
   "id": "9f84637b",
   "metadata": {},
   "outputs": [],
   "source": []
  },
  {
   "cell_type": "code",
   "execution_count": null,
   "id": "871091ff",
   "metadata": {},
   "outputs": [],
   "source": []
  },
  {
   "cell_type": "code",
   "execution_count": null,
   "id": "2da90fe3",
   "metadata": {},
   "outputs": [],
   "source": []
  },
  {
   "cell_type": "code",
   "execution_count": null,
   "id": "188955dd",
   "metadata": {},
   "outputs": [],
   "source": []
  },
  {
   "cell_type": "code",
   "execution_count": null,
   "id": "ccf3865f",
   "metadata": {},
   "outputs": [],
   "source": []
  },
  {
   "cell_type": "code",
   "execution_count": null,
   "id": "4b9be7e2",
   "metadata": {},
   "outputs": [],
   "source": []
  },
  {
   "cell_type": "code",
   "execution_count": null,
   "id": "c973006c",
   "metadata": {
    "scrolled": true
   },
   "outputs": [],
   "source": [
    "# different contraceptive methods\n",
    "warnings.filterwarnings('ignore')\n",
    "plt.rcParams['figure.figsize'] = (10, 6)\n",
    "plt.style.use('Solarize_Light2')\n",
    "\n",
    "data_n = data['method_received'].value_counts()\n",
    "data_n.head(10).plot.bar(color = 'teal')\n",
    "\n",
    "plt.title('Contraceptive Methods Recieved',fontsize = 30, color = 'black')\n",
    "plt.xticks(rotation = 90)\n",
    "plt.show()"
   ]
  },
  {
   "cell_type": "code",
   "execution_count": null,
   "id": "a0a7a36e",
   "metadata": {},
   "outputs": [],
   "source": []
  },
  {
   "cell_type": "code",
   "execution_count": null,
   "id": "fe9de4a4",
   "metadata": {},
   "outputs": [],
   "source": []
  },
  {
   "cell_type": "code",
   "execution_count": null,
   "id": "9d035ba5",
   "metadata": {},
   "outputs": [],
   "source": []
  },
  {
   "cell_type": "code",
   "execution_count": null,
   "id": "f6e5789f",
   "metadata": {},
   "outputs": [],
   "source": []
  },
  {
   "cell_type": "code",
   "execution_count": null,
   "id": "1925b1bc",
   "metadata": {},
   "outputs": [],
   "source": []
  },
  {
   "cell_type": "code",
   "execution_count": null,
   "id": "31c6dafe",
   "metadata": {},
   "outputs": [],
   "source": []
  },
  {
   "cell_type": "code",
   "execution_count": null,
   "id": "5b0ad37e",
   "metadata": {},
   "outputs": [],
   "source": []
  },
  {
   "cell_type": "code",
   "execution_count": null,
   "id": "55eb4533",
   "metadata": {},
   "outputs": [],
   "source": [
    "# different contraceptive methods\n",
    "warnings.filterwarnings('ignore')\n",
    "plt.rcParams['figure.figsize'] = (10, 6)\n",
    "plt.style.use('Solarize_Light2')\n",
    "\n",
    "data_n = data['are_you_pregnant'].value_counts()\n",
    "data_n.head(10).plot.bar(color = 'teal')\n",
    "plt.title('Pregnancy Status ',fontsize = 30, color = 'black')\n",
    "plt.xticks(rotation = 90)\n",
    "plt.show()"
   ]
  },
  {
   "cell_type": "markdown",
   "id": "1302c8b1",
   "metadata": {},
   "source": [
    "# Data Cleaning"
   ]
  },
  {
   "cell_type": "code",
   "execution_count": null,
   "id": "ed2d1abd",
   "metadata": {},
   "outputs": [],
   "source": [
    "data.isnull().sum()"
   ]
  },
  {
   "cell_type": "code",
   "execution_count": null,
   "id": "4adb9cbf",
   "metadata": {},
   "outputs": [],
   "source": [
    "data.girl_age.hist()"
   ]
  },
  {
   "cell_type": "code",
   "execution_count": null,
   "id": "9480c719",
   "metadata": {},
   "outputs": [],
   "source": [
    "#define values\n",
    "values = [15, 16, 17, 18, 19, 20, 21, 22, 23, 24]\n",
    "\n",
    "#drop rows that contain any value in the list\n",
    "data1 = data[data.girl_age.isin(values) == True]"
   ]
  },
  {
   "cell_type": "code",
   "execution_count": null,
   "id": "663dca2c",
   "metadata": {},
   "outputs": [],
   "source": [
    "data1"
   ]
  },
  {
   "cell_type": "markdown",
   "id": "f8808ec8",
   "metadata": {},
   "source": [
    "# Referred"
   ]
  },
  {
   "cell_type": "code",
   "execution_count": null,
   "id": "d8008a62",
   "metadata": {},
   "outputs": [],
   "source": [
    "#define values\n",
    "region_values = ['Sidama']\n",
    "\n",
    "#drop rows that contain any value in the list\n",
    "data2 = data1[data1['region '].isin(region_values) == False]"
   ]
  },
  {
   "cell_type": "code",
   "execution_count": null,
   "id": "6288a8ca",
   "metadata": {},
   "outputs": [],
   "source": [
    "data2"
   ]
  },
  {
   "cell_type": "code",
   "execution_count": null,
   "id": "dd112ef2",
   "metadata": {},
   "outputs": [],
   "source": []
  },
  {
   "cell_type": "markdown",
   "id": "02c969a4",
   "metadata": {},
   "source": [
    "# Normalization"
   ]
  },
  {
   "cell_type": "code",
   "execution_count": null,
   "id": "861ea4ce",
   "metadata": {},
   "outputs": [],
   "source": [
    "t = data1['are_you_pregnant'].value_counts()\n",
    "table = pd.DataFrame(data=t.values, index=t.index, columns=['Pregnant Count'])\n",
    "\n",
    "table.rename({'index': 'Division'}, axis='columns', inplace=True)\n",
    "table\n"
   ]
  },
  {
   "cell_type": "code",
   "execution_count": null,
   "id": "baf53220",
   "metadata": {},
   "outputs": [],
   "source": [
    "data2.are_you_pregnant.replace({'N - Not pregnan': 'NP',\n",
    "                            'UN - Unknown': 'UN',\n",
    "                               'ghvg':'UN'}, inplace= True)"
   ]
  },
  {
   "cell_type": "code",
   "execution_count": null,
   "id": "77138140",
   "metadata": {},
   "outputs": [],
   "source": [
    "data2.rename(columns = {\"gilr_referred_to_health_post_or_ msi_outreach_team_to_take_up_a_method\":\"Referred\", \"location_of_smart_ start_follow_up\":\"Premise\", \"pregnancy_ test\":\"P_test\", \"region \":\"Region\", \"discussion_includes_husband \":\"Hus\", \"referred_ by\":\"Referred_by\", \"girl_age\":\"Age\", \"method_received\":\"Method\", \"number_of_children\":\"Children\", \"referred_by\":\"Referred_by\", \"session_type\":\"S_type\", \"used_ec_or_condoms_last_time_you_had_sex\":\"CEC\", \"are_you_pregnant\":\"Pregnant\"}, inplace= True)\n",
    "data2.columns"
   ]
  },
  {
   "cell_type": "code",
   "execution_count": null,
   "id": "f88e15b0",
   "metadata": {
    "scrolled": true
   },
   "outputs": [],
   "source": [
    "r = data1['referred_ by'].value_counts()\n",
    "table = pd.DataFrame(data=r.values, index=r.index, columns=['Reffered by Count'])\n",
    "\n",
    "table.rename({'index': 'Division'}, axis='columns', inplace=True)\n",
    "table"
   ]
  },
  {
   "cell_type": "code",
   "execution_count": null,
   "id": "6478e02b",
   "metadata": {},
   "outputs": [],
   "source": [
    "data2.Referred_by.replace({'Friend/peer': 'Friend/Peer'}, inplace= True)"
   ]
  },
  {
   "cell_type": "code",
   "execution_count": null,
   "id": "4b57eaa0",
   "metadata": {},
   "outputs": [],
   "source": [
    "r = data2['Referred_by'].value_counts()\n",
    "table = pd.DataFrame(data=r.values, index=r.index, columns=['Reffered by Count'])\n",
    "\n",
    "table.rename({'index': 'Division'}, axis='columns', inplace=True)\n",
    "table"
   ]
  },
  {
   "cell_type": "code",
   "execution_count": null,
   "id": "12c51b30",
   "metadata": {
    "scrolled": false
   },
   "outputs": [],
   "source": [
    "cols = ['Region', 'Pregnant', 'Hus', 'Age', 'Premise', 'Children', 'P_test', 'Referred_by', 'S_type', 'CEC', 'Referred', 'Method']\n",
    "data3 = data2[cols]\n",
    "data3.head(5)"
   ]
  },
  {
   "cell_type": "markdown",
   "id": "3f9a4972",
   "metadata": {},
   "source": [
    "# Data Transformation"
   ]
  },
  {
   "cell_type": "code",
   "execution_count": null,
   "id": "b88986e3",
   "metadata": {},
   "outputs": [],
   "source": [
    "label_encoder = LabelEncoder()"
   ]
  },
  {
   "cell_type": "code",
   "execution_count": null,
   "id": "1b8bd592",
   "metadata": {},
   "outputs": [],
   "source": [
    "data3.Region = label_encoder.fit_transform(data3['Region'])\n",
    "data3.Hus = label_encoder.fit_transform(data3['Hus'])\n",
    "data3.Premise = label_encoder.fit_transform(data3['Premise'])\n",
    "data3.Children = label_encoder.fit_transform(data3['Children'])\n",
    "data3.P_test = label_encoder.fit_transform(data3['P_test'])\n",
    "data3.Referred_by = label_encoder.fit_transform(data3['Referred_by'])\n",
    "data3.S_type = label_encoder.fit_transform(data3['S_type'])\n",
    "data3.CEC = label_encoder.fit_transform(data3['CEC'])\n",
    "data3.Pregnant = label_encoder.fit_transform(data3['Pregnant'])\n",
    "data3.Referred = label_encoder.fit_transform(data3['Referred'])\n",
    "data3.Method = label_encoder.fit_transform(data3['Method'])"
   ]
  },
  {
   "cell_type": "code",
   "execution_count": null,
   "id": "35b76fb8",
   "metadata": {},
   "outputs": [],
   "source": [
    "data3.head()"
   ]
  },
  {
   "cell_type": "markdown",
   "id": "53637056",
   "metadata": {},
   "source": [
    "# 1. girl referred to health post or msi outreach team to take up a method"
   ]
  },
  {
   "cell_type": "code",
   "execution_count": null,
   "id": "b63e0ac7",
   "metadata": {},
   "outputs": [],
   "source": [
    "data4 = data3.drop(columns=[\"Method\"], axis = 1)"
   ]
  },
  {
   "cell_type": "code",
   "execution_count": null,
   "id": "806ba855",
   "metadata": {},
   "outputs": [],
   "source": [
    "x = data3[[\"Region\", \"Hus\", \"Age\", \"Premise\", \"Children\", \"P_test\", \"Referred_by\", \"S_type\", \"CEC\", \"Pregnant\"]]\n",
    "y = data3[[\"Referred\"]]"
   ]
  },
  {
   "cell_type": "markdown",
   "id": "1e1a522e",
   "metadata": {},
   "source": [
    "# Class Balancing"
   ]
  },
  {
   "cell_type": "code",
   "execution_count": null,
   "id": "5db7dff6",
   "metadata": {},
   "outputs": [],
   "source": [
    "warnings.filterwarnings('ignore')\n",
    "class_count = data3['Referred'].value_counts()\n",
    "sns.set(style=\"darkgrid\")\n",
    "sns.barplot(class_count.index, class_count.values, alpha=0.9)\n",
    "plt.title('Frequency Distribution of Class')\n",
    "plt.ylabel('Number of girls', fontsize=12)\n",
    "plt.xlabel('Referred', fontsize=12)\n",
    "plt.show()"
   ]
  },
  {
   "cell_type": "markdown",
   "id": "d5d505a6",
   "metadata": {},
   "source": [
    "#over-sampling with smote"
   ]
  },
  {
   "cell_type": "code",
   "execution_count": null,
   "id": "7248a92a",
   "metadata": {},
   "outputs": [],
   "source": [
    "# pip install imblearn"
   ]
  },
  {
   "cell_type": "code",
   "execution_count": null,
   "id": "5b96b9c7",
   "metadata": {},
   "outputs": [],
   "source": [
    "from imblearn import under_sampling, over_sampling\n",
    "from imblearn.over_sampling import SMOTE\n"
   ]
  },
  {
   "cell_type": "code",
   "execution_count": null,
   "id": "5251ea43",
   "metadata": {},
   "outputs": [],
   "source": [
    "smote = SMOTE()\n",
    "X_re ,Y_re= smote.fit_resample(x,y)"
   ]
  },
  {
   "cell_type": "code",
   "execution_count": null,
   "id": "c148ca06",
   "metadata": {},
   "outputs": [],
   "source": [
    "len(X_re)"
   ]
  },
  {
   "cell_type": "markdown",
   "id": "cf716835",
   "metadata": {},
   "source": [
    "#under sampling with random under sampler"
   ]
  },
  {
   "cell_type": "code",
   "execution_count": null,
   "id": "a8d60df4",
   "metadata": {},
   "outputs": [],
   "source": [
    "from imblearn.under_sampling import RandomUnderSampler"
   ]
  },
  {
   "cell_type": "code",
   "execution_count": null,
   "id": "3b8fba2c",
   "metadata": {},
   "outputs": [],
   "source": [
    "under = RandomUnderSampler()\n",
    "X_res ,Y_res= under.fit_resample(x, y)"
   ]
  },
  {
   "cell_type": "code",
   "execution_count": null,
   "id": "70509837",
   "metadata": {},
   "outputs": [],
   "source": [
    "len(X_res)"
   ]
  },
  {
   "cell_type": "markdown",
   "id": "a635e020",
   "metadata": {},
   "source": [
    "# Cross Validation"
   ]
  },
  {
   "cell_type": "code",
   "execution_count": null,
   "id": "a6fb752d",
   "metadata": {},
   "outputs": [],
   "source": [
    "# evaluate Models using 10-fold cross-validation\n",
    "from numpy import mean\n",
    "#from numpy import std\n",
    "from sklearn.datasets import make_classification\n",
    "from sklearn.model_selection import KFold\n",
    "from sklearn.model_selection import cross_val_score\n",
    "# prepare the cross-validation procedure\n",
    "cv = KFold(n_splits=10, random_state=1, shuffle=True)\n",
    "#cv2 = KFold(n_splits=5, random_state=1, shuffle=True)\n",
    "# create model"
   ]
  },
  {
   "cell_type": "markdown",
   "id": "cf4f1780",
   "metadata": {},
   "source": [
    "# Algorithm"
   ]
  },
  {
   "cell_type": "markdown",
   "id": "762c23b4",
   "metadata": {},
   "source": [
    "#Decision Tree"
   ]
  },
  {
   "cell_type": "code",
   "execution_count": null,
   "id": "669a53cb",
   "metadata": {},
   "outputs": [],
   "source": [
    "from sklearn.tree import DecisionTreeClassifier,export_graphviz\n",
    "dt_clf = DecisionTreeClassifier()\n",
    "\n",
    "#with unbalanced data\n",
    "dt_cv_accuracy = cross_val_score(dt_clf, x, y, cv=cv).mean()\n",
    "print(\"Cross Validation Accuracy DT: %.4f\" % dt_cv_accuracy)\n",
    "\n",
    "#balanced class with smote\n",
    "dt_cv_accuracy1 = cross_val_score(dt_clf, X_re, Y_re, cv=cv).mean()\n",
    "print(\"Cross Validation Accuracy DT: %.4f\" % dt_cv_accuracy1)"
   ]
  },
  {
   "cell_type": "code",
   "execution_count": null,
   "id": "eee3ceb7",
   "metadata": {},
   "outputs": [],
   "source": [
    "#with unbalanced data\n",
    "dt_cv_accuracy = cross_val_score(dt_clf, x, y, cv=cv).mean()\n",
    "print(\"Cross Validation Accuracy DT: %.4f\" % dt_cv_accuracy)\n",
    "\n",
    "#balanced class with smote\n",
    "dt_cv_accuracy1 = cross_val_score(dt_clf, X_re, Y_re, cv=cv).mean()\n",
    "print(\"Cross Validation Accuracy DT: %.4f\" % dt_cv_accuracy1)"
   ]
  },
  {
   "cell_type": "code",
   "execution_count": null,
   "id": "0b78b692",
   "metadata": {},
   "outputs": [],
   "source": [
    "#balanced class with smote\n",
    "dt_cv_accuracy1 = cross_val_score(dt_clf, X_re, Y_re, cv=cv).mean()\n",
    "print(\"Cross Validation Accuracy DT: %.4f\" % dt_cv_accuracy1)"
   ]
  },
  {
   "cell_type": "code",
   "execution_count": null,
   "id": "fb3fd915",
   "metadata": {},
   "outputs": [],
   "source": [
    "#balanced data with random under sampler\n",
    "dt_cv_accuracy2 = cross_val_score(dt_clf, X_res, Y_res, cv=cv).mean()\n",
    "print(\"Cross Validation Accuracy DT: %.4f\" % dt_cv_accuracy2)"
   ]
  },
  {
   "cell_type": "markdown",
   "id": "8414bd03",
   "metadata": {},
   "source": [
    "#Gradiant Boosting"
   ]
  },
  {
   "cell_type": "code",
   "execution_count": null,
   "id": "4052b86d",
   "metadata": {},
   "outputs": [],
   "source": [
    "from sklearn.ensemble import GradientBoostingClassifier\n",
    "gbMod = GradientBoostingClassifier()"
   ]
  },
  {
   "cell_type": "code",
   "execution_count": null,
   "id": "8c006bde",
   "metadata": {},
   "outputs": [],
   "source": [
    "#with unbalanced data\n",
    "gb_accuracy = cross_val_score(gbMod, x, y, cv=cv).mean()\n",
    "print(\"Cross Validation Accuracy GB: %.4f\" % gb_accuracy)"
   ]
  },
  {
   "cell_type": "code",
   "execution_count": null,
   "id": "ffff601b",
   "metadata": {},
   "outputs": [],
   "source": [
    "#balanced data with smote\n",
    "gb_accuracy1 = cross_val_score(gbMod, X_re, Y_re, cv=cv).mean()\n",
    "print(\"Cross Validation Accuracy GB: %.4f\" % gb_accuracy1)"
   ]
  },
  {
   "cell_type": "code",
   "execution_count": null,
   "id": "a155a41f",
   "metadata": {},
   "outputs": [],
   "source": [
    "#balanced data with random under sampler\n",
    "gb_accuracy2 = cross_val_score(gbMod, X_res, Y_res, cv=cv).mean()\n",
    "print(\"Cross Validation Accuracy GB: %.4f\" % gb_accuracy2)"
   ]
  },
  {
   "cell_type": "markdown",
   "id": "0842adaa",
   "metadata": {},
   "source": [
    "#Random Forest"
   ]
  },
  {
   "cell_type": "code",
   "execution_count": null,
   "id": "cebd4820",
   "metadata": {},
   "outputs": [],
   "source": [
    "from sklearn.ensemble import RandomForestClassifier \n",
    "algorithm =  RandomForestClassifier()"
   ]
  },
  {
   "cell_type": "code",
   "execution_count": null,
   "id": "441c31d5",
   "metadata": {},
   "outputs": [],
   "source": [
    "#with unbalanced data\n",
    "scores = cross_val_score(algorithm, x, y, scoring='accuracy', cv=cv)\n",
    "# report performance\n",
    "print('Accuracy RF: %.4f' % mean(scores))"
   ]
  },
  {
   "cell_type": "code",
   "execution_count": null,
   "id": "f186b7d7",
   "metadata": {},
   "outputs": [],
   "source": [
    "#balanced data with smote\n",
    "scores1 = cross_val_score(algorithm, X_re, Y_re, scoring='accuracy', cv=cv)\n",
    "# report performance\n",
    "print('Accuracy RF: %.4f' % mean(scores1))"
   ]
  },
  {
   "cell_type": "code",
   "execution_count": null,
   "id": "4f0803bf",
   "metadata": {},
   "outputs": [],
   "source": [
    "#balanced data with random under sampler\n",
    "scores2 = cross_val_score(algorithm, X_res, Y_res, scoring='accuracy', cv=cv, n_jobs=-1)\n",
    "# report performance\n",
    "print('Accuracy RF: %.4f' % mean(scores2))"
   ]
  },
  {
   "cell_type": "markdown",
   "id": "5f34a573",
   "metadata": {},
   "source": [
    "#Multi-layer neural network"
   ]
  },
  {
   "cell_type": "code",
   "execution_count": null,
   "id": "e85a4948",
   "metadata": {},
   "outputs": [],
   "source": [
    "# Import MLPClassifer \n",
    "from sklearn.neural_network import MLPClassifier"
   ]
  },
  {
   "cell_type": "code",
   "execution_count": null,
   "id": "910a55b6",
   "metadata": {},
   "outputs": [],
   "source": [
    "#without class balancing\n",
    "model1 = MLPClassifier(hidden_layer_sizes=(5,2),#number of attritube * class values under square root \n",
    "                    random_state=1,\n",
    "                    verbose=False,\n",
    "                    learning_rate_init=0.01)\n",
    "# evaluate model\n",
    "scores = cross_val_score(model1, x, y, scoring='accuracy', cv=cv, n_jobs=-1)\n",
    "# report performance\n",
    "print('Accuracy of MLNN: %.4f' % mean(scores))"
   ]
  },
  {
   "cell_type": "code",
   "execution_count": null,
   "id": "0ec0e45c",
   "metadata": {},
   "outputs": [],
   "source": [
    "# evaluate model\n",
    "scores1 = cross_val_score(model1, X_re, Y_re, scoring='accuracy', cv=cv, n_jobs=-1)\n",
    "# report performance\n",
    "print('Accuracy of MLNN: %.4f' % mean(scores1))"
   ]
  },
  {
   "cell_type": "code",
   "execution_count": null,
   "id": "8f04ba67",
   "metadata": {},
   "outputs": [],
   "source": [
    "# evaluate model\n",
    "scores2 = cross_val_score(model1, X_res, Y_res, scoring='accuracy', cv=cv, n_jobs=-1)\n",
    "# report performance\n",
    "print('Accuracy of MLNN: %.4f' % mean(scores2))"
   ]
  },
  {
   "cell_type": "markdown",
   "id": "18db03a4",
   "metadata": {},
   "source": [
    "# Feature Selection"
   ]
  },
  {
   "cell_type": "markdown",
   "id": "80a7983d",
   "metadata": {},
   "source": [
    "#chi2 test for feature selection"
   ]
  },
  {
   "cell_type": "code",
   "execution_count": null,
   "id": "68ccac3f",
   "metadata": {},
   "outputs": [],
   "source": [
    "from sklearn.feature_selection import SelectKBest, chi2\n",
    "\n",
    "feature_selector = SelectKBest(chi2, k = \"all\")\n",
    "fit = feature_selector.fit(x,y)\n",
    "\n",
    "p_values = pd.DataFrame(fit.pvalues_)\n",
    "scores = pd.DataFrame(fit.scores_)\n",
    "input_variable_names = pd.DataFrame(x.columns)\n",
    "summary_stats = pd.concat([input_variable_names, p_values, scores], axis = 1)\n",
    "summary_stats.columns = [\"input_variable\", \"p_value\", \"chi2_score\"]\n",
    "summary_stats.sort_values(by = \"p_value\", inplace = True)\n",
    "\n",
    "p_value_threshold = 0.05\n",
    "score_threshold = 5\n",
    "\n",
    "selected_variables = summary_stats.loc[(summary_stats[\"chi2_score\"] >= score_threshold) &\n",
    "                                       (summary_stats[\"p_value\"] <= p_value_threshold)]\n",
    "selected_variables1 = selected_variables[\"input_variable\"]\n",
    "X_new = x[selected_variables]"
   ]
  },
  {
   "cell_type": "code",
   "execution_count": null,
   "id": "28e2d6d7",
   "metadata": {},
   "outputs": [],
   "source": [
    "selected_variables1"
   ]
  },
  {
   "cell_type": "code",
   "execution_count": null,
   "id": "f7c1db48",
   "metadata": {},
   "outputs": [],
   "source": [
    "X = data3[[\"Region\", \"Hus\", \"Premise\", \"Children\", \"P_test\", \"Referred_by\", \"S_type\", \"CEC\", \"Pregnant\"]]\n",
    "Y = data3[[\"Referred\"]]"
   ]
  },
  {
   "cell_type": "markdown",
   "id": "40ed4b90",
   "metadata": {},
   "source": [
    "#Decision tree"
   ]
  },
  {
   "cell_type": "code",
   "execution_count": null,
   "id": "0dc03b10",
   "metadata": {},
   "outputs": [],
   "source": [
    "dt_cv_accuracy1 = cross_val_score(dt_clf, X, Y, cv=cv).mean()\n",
    "print(\"Cross Validation Accuracy DT: %.4f\" % dt_cv_accuracy1)"
   ]
  },
  {
   "cell_type": "markdown",
   "id": "0e4e80f5",
   "metadata": {},
   "source": [
    "#Gradiant boosting"
   ]
  },
  {
   "cell_type": "code",
   "execution_count": null,
   "id": "27dcddc8",
   "metadata": {},
   "outputs": [],
   "source": [
    "gb_accuracy1 = cross_val_score(gbMod, X, Y, cv=cv).mean()\n",
    "print(\"Cross Validation Accuracy DT: %.4f\" % gb_accuracy1)"
   ]
  },
  {
   "cell_type": "markdown",
   "id": "0b145eae",
   "metadata": {},
   "source": [
    "#Random Forest"
   ]
  },
  {
   "cell_type": "code",
   "execution_count": null,
   "id": "450012c4",
   "metadata": {},
   "outputs": [],
   "source": [
    "scores1 = cross_val_score(algorithm, X, Y, scoring='accuracy', cv=cv, n_jobs=-1)\n",
    "# report performance\n",
    "print('Accuracy RF: %.4f' % mean(scores1))"
   ]
  },
  {
   "cell_type": "markdown",
   "id": "3bbfaa15",
   "metadata": {},
   "source": [
    "#Multi-layer neural network"
   ]
  },
  {
   "cell_type": "code",
   "execution_count": null,
   "id": "9fa3755c",
   "metadata": {},
   "outputs": [],
   "source": [
    "# evaluate model\n",
    "scores = cross_val_score(model1, X, Y, scoring='accuracy', cv=cv, n_jobs=-1)\n",
    "# report performance\n",
    "print('Accuracy of MLNN: %.3f' % mean(scores))"
   ]
  },
  {
   "cell_type": "markdown",
   "id": "685ff8c9",
   "metadata": {},
   "source": [
    "# Pridiction for referred"
   ]
  },
  {
   "cell_type": "code",
   "execution_count": null,
   "id": "42c531bc",
   "metadata": {},
   "outputs": [],
   "source": [
    "# final features \n",
    "# X = data3[[\"Region\", \"Hus\", \"Premise\", \"Children\", \"P_test\", \"Referred_by\", \"S_type\", \"CEC\", \"Pregnant\"]]\n",
    "# Y = data3[[\"Referred\"]]"
   ]
  },
  {
   "cell_type": "code",
   "execution_count": null,
   "id": "41b7628b",
   "metadata": {},
   "outputs": [],
   "source": [
    "data3.head(10)"
   ]
  },
  {
   "cell_type": "code",
   "execution_count": null,
   "id": "b52c0b54",
   "metadata": {},
   "outputs": [],
   "source": [
    "new_data = [[0,0,2, 2, 5, 1, 0, 0, 1]]\n",
    "# 0=NO\n",
    "# 1=YES"
   ]
  },
  {
   "cell_type": "code",
   "execution_count": null,
   "id": "e8fa91e5",
   "metadata": {},
   "outputs": [],
   "source": [
    "dt_clf.fit(X, Y)\n",
    "Referred_output = dt_clf.predict(new_data)\n",
    "Referred_output"
   ]
  },
  {
   "cell_type": "code",
   "execution_count": null,
   "id": "f647630f",
   "metadata": {},
   "outputs": [],
   "source": [
    " data3[\"Referred\"].value_counts()"
   ]
  },
  {
   "cell_type": "code",
   "execution_count": null,
   "id": "30bb5a02",
   "metadata": {},
   "outputs": [],
   "source": []
  },
  {
   "cell_type": "code",
   "execution_count": null,
   "id": "a80890f6",
   "metadata": {},
   "outputs": [],
   "source": []
  },
  {
   "cell_type": "markdown",
   "id": "0dd3f0f8",
   "metadata": {},
   "source": [
    "# 2. contraceptive method received"
   ]
  },
  {
   "cell_type": "code",
   "execution_count": null,
   "id": "96573f32",
   "metadata": {},
   "outputs": [],
   "source": [
    "x1 = data3[[\"Region\", \"Hus\", \"Age\", \"Premise\", \"Children\", \"P_test\", \"Referred_by\", \"S_type\", \"CEC\", \"Pregnant\", \"Referred\"]]\n",
    "y1 = data3[[\"Method\"]]"
   ]
  },
  {
   "cell_type": "code",
   "execution_count": null,
   "id": "a7d5d54e",
   "metadata": {},
   "outputs": [],
   "source": [
    "#define values\n",
    "values = ['None', 'none']\n",
    "\n",
    "#drop rows that contain any value in the list\n",
    "data6 = data2[data2.Method.isin(values) == False]"
   ]
  },
  {
   "cell_type": "code",
   "execution_count": null,
   "id": "9da91ca5",
   "metadata": {},
   "outputs": [],
   "source": [
    "data6"
   ]
  },
  {
   "cell_type": "code",
   "execution_count": null,
   "id": "e75bf8a9",
   "metadata": {},
   "outputs": [],
   "source": [
    "data6.Region = label_encoder.fit_transform(data6['Region'])\n",
    "data6.Hus = label_encoder.fit_transform(data6['Hus'])\n",
    "data6.Premise = label_encoder.fit_transform(data6['Premise'])\n",
    "data6.Children = label_encoder.fit_transform(data6['Children'])\n",
    "data6.P_test = label_encoder.fit_transform(data6['P_test'])\n",
    "data6.Referred_by = label_encoder.fit_transform(data6['Referred_by'])\n",
    "data6.S_type = label_encoder.fit_transform(data6['S_type'])\n",
    "data6.CEC = label_encoder.fit_transform(data6['CEC'])\n",
    "data6.Pregnant = label_encoder.fit_transform(data6['Pregnant'])\n",
    "data6.Referred = label_encoder.fit_transform(data6['Referred'])\n",
    "data6.Method = label_encoder.fit_transform(data6['Method'])"
   ]
  },
  {
   "cell_type": "markdown",
   "id": "aa91f4bf",
   "metadata": {},
   "source": [
    "# Class balancing"
   ]
  },
  {
   "cell_type": "code",
   "execution_count": null,
   "id": "26b61ab3",
   "metadata": {},
   "outputs": [],
   "source": [
    "warnings.filterwarnings('ignore')\n",
    "class_count = data6['Method'].value_counts()\n",
    "sns.set(style=\"darkgrid\")\n",
    "sns.barplot(class_count.index, class_count.values, alpha=0.9)\n",
    "plt.title('Frequency Distribution of Class')\n",
    "plt.ylabel('Number of girls', fontsize=12)\n",
    "plt.xlabel('Contraceptive method', fontsize=12)\n",
    "plt.show()"
   ]
  },
  {
   "cell_type": "markdown",
   "id": "864d84c7",
   "metadata": {},
   "source": [
    "#over sampling"
   ]
  },
  {
   "cell_type": "code",
   "execution_count": null,
   "id": "2ffd231f",
   "metadata": {},
   "outputs": [],
   "source": [
    "x_re ,y_re= smote.fit_resample(x1,y1)"
   ]
  },
  {
   "cell_type": "markdown",
   "id": "834d0140",
   "metadata": {},
   "source": [
    "#under sampling"
   ]
  },
  {
   "cell_type": "code",
   "execution_count": null,
   "id": "3d74057c",
   "metadata": {},
   "outputs": [],
   "source": [
    "x_res ,y_res= under.fit_resample(x1, y1)"
   ]
  },
  {
   "cell_type": "markdown",
   "id": "6dec5e1f",
   "metadata": {},
   "source": [
    "#Decision Tree"
   ]
  },
  {
   "cell_type": "code",
   "execution_count": null,
   "id": "70eda3be",
   "metadata": {},
   "outputs": [],
   "source": [
    "dt_accuracy = cross_val_score(dt_clf, x1, y1, cv=cv).mean()\n",
    "print(\"Cross Validation Accuracy DT: %.4f\" % dt_accuracy)"
   ]
  },
  {
   "cell_type": "code",
   "execution_count": null,
   "id": "5e7e35ba",
   "metadata": {},
   "outputs": [],
   "source": [
    "dt_accuracy1 = cross_val_score(dt_clf, x_re, y_re, cv=cv).mean()\n",
    "print(\"Cross Validation Accuracy DT: %.4f\" % dt_accuracy1)"
   ]
  },
  {
   "cell_type": "code",
   "execution_count": null,
   "id": "227b7afb",
   "metadata": {},
   "outputs": [],
   "source": [
    "dt_accuracy2 = cross_val_score(dt_clf, x_res, y_res, cv=cv).mean()\n",
    "print(\"Cross Validation Accuracy DT: %.4f\" % dt_accuracy2)"
   ]
  },
  {
   "cell_type": "code",
   "execution_count": null,
   "id": "d37707d6",
   "metadata": {},
   "outputs": [],
   "source": [
    "#Gradiant Boosting"
   ]
  },
  {
   "cell_type": "code",
   "execution_count": null,
   "id": "18e9420c",
   "metadata": {},
   "outputs": [],
   "source": [
    "gb_acc = cross_val_score(gbMod, x1, y1, cv=cv).mean()\n",
    "print(\"Cross Validation Accuracy DT: %.4f\" % gb_acc)"
   ]
  },
  {
   "cell_type": "code",
   "execution_count": null,
   "id": "f8bbad6c",
   "metadata": {},
   "outputs": [],
   "source": [
    "gb_acc1 = cross_val_score(gbMod, x_re, y_re, cv=cv, n_jobs=-1).mean()\n",
    "print(\"Cross Validation Accuracy DT: %.4f\" % gb_acc1)"
   ]
  },
  {
   "cell_type": "code",
   "execution_count": null,
   "id": "526b46f6",
   "metadata": {},
   "outputs": [],
   "source": [
    "gb_acc2 = cross_val_score(gbMod, x_res, y_res, cv=cv,  n_jobs=-1).mean()\n",
    "print(\"Cross Validation Accuracy DT: %.4f\" % gb_acc2)"
   ]
  },
  {
   "cell_type": "code",
   "execution_count": null,
   "id": "df0312c0",
   "metadata": {},
   "outputs": [],
   "source": [
    "#Random Forest"
   ]
  },
  {
   "cell_type": "code",
   "execution_count": null,
   "id": "d91b5648",
   "metadata": {},
   "outputs": [],
   "source": [
    "rf_acc = cross_val_score(algorithm, x1, y1, scoring='accuracy', cv=cv, n_jobs=-1)\n",
    "# report performance\n",
    "print('Accuracy RF: %.4f' % mean(rf_acc))"
   ]
  },
  {
   "cell_type": "code",
   "execution_count": null,
   "id": "d02d6efa",
   "metadata": {},
   "outputs": [],
   "source": [
    "rf_acc1 = cross_val_score(algorithm, x_re, y_re, scoring='accuracy', cv=cv, n_jobs=-1)\n",
    "# report performance\n",
    "print('Accuracy RF: %.4f' % mean(rf_acc1))"
   ]
  },
  {
   "cell_type": "code",
   "execution_count": null,
   "id": "e997283b",
   "metadata": {},
   "outputs": [],
   "source": [
    "rf_acc2 = cross_val_score(algorithm, x_res, y_res, scoring='accuracy', cv=cv, n_jobs=-1)\n",
    "# report performance\n",
    "print('Accuracy RF: %.4f' % mean(rf_acc2))"
   ]
  },
  {
   "cell_type": "code",
   "execution_count": null,
   "id": "79ef3af9",
   "metadata": {},
   "outputs": [],
   "source": [
    "#Multi-layer neural network"
   ]
  },
  {
   "cell_type": "code",
   "execution_count": null,
   "id": "c5d109c4",
   "metadata": {},
   "outputs": [],
   "source": [
    "# evaluate model\n",
    "mlnn_acc = cross_val_score(model1, x1, y1, scoring='accuracy', cv=cv, n_jobs=-1)\n",
    "# report performance\n",
    "print('Accuracy of MLNN: %.4f' % mean(mlnn_acc))"
   ]
  },
  {
   "cell_type": "code",
   "execution_count": null,
   "id": "28dadc4e",
   "metadata": {},
   "outputs": [],
   "source": [
    "# evaluate model\n",
    "mlnn_acc1 = cross_val_score(model1, x_re, y_re, scoring='accuracy', cv=cv, n_jobs=-1)\n",
    "# report performance\n",
    "print('Accuracy of MLNN: %.4f' % mean(mlnn_acc1))"
   ]
  },
  {
   "cell_type": "code",
   "execution_count": null,
   "id": "93f76e49",
   "metadata": {},
   "outputs": [],
   "source": [
    "# evaluate model\n",
    "mlnn_acc1 = cross_val_score(model1, x_res, y_res, scoring='accuracy', cv=cv, n_jobs=-1)\n",
    "# report performance\n",
    "print('Accuracy of MLNN: %.4f' % mean(mlnn_acc1))"
   ]
  },
  {
   "cell_type": "markdown",
   "id": "a61556d8",
   "metadata": {},
   "source": [
    "# Feature Selection"
   ]
  },
  {
   "cell_type": "code",
   "execution_count": null,
   "id": "62ded731",
   "metadata": {},
   "outputs": [],
   "source": [
    "from sklearn.feature_selection import SelectKBest, chi2\n",
    "\n",
    "feature_selector = SelectKBest(chi2, k = \"all\")\n",
    "fit = feature_selector.fit(x1,y1)\n",
    "\n",
    "p_values = pd.DataFrame(fit.pvalues_)\n",
    "scores = pd.DataFrame(fit.scores_)\n",
    "input_variable_names = pd.DataFrame(x1.columns)\n",
    "summary_stats = pd.concat([input_variable_names, p_values, scores], axis = 1)\n",
    "summary_stats.columns = [\"input_variable\", \"p_value\", \"chi2_score\"]\n",
    "summary_stats.sort_values(by = \"p_value\", inplace = True)\n",
    "\n",
    "p_value_threshold = 0.05\n",
    "score_threshold = 5\n",
    "\n",
    "selected_variabless = summary_stats.loc[(summary_stats[\"chi2_score\"] >= score_threshold) &\n",
    "                                       (summary_stats[\"p_value\"] <= p_value_threshold)]\n",
    "selected_variables2 = selected_variabless[\"input_variable\"]\n",
    "X_new = x1[selected_variabless]"
   ]
  },
  {
   "cell_type": "code",
   "execution_count": null,
   "id": "1304d31f",
   "metadata": {},
   "outputs": [],
   "source": [
    "selected_variables2"
   ]
  },
  {
   "cell_type": "code",
   "execution_count": null,
   "id": "19c3e746",
   "metadata": {},
   "outputs": [],
   "source": [
    "X1 = data3[[\"Region\", \"Hus\", \"Premise\", \"Children\", \"P_test\", \"Referred_by\", \"S_type\", \"CEC\", \"Pregnant\", \"Referred\"]]\n",
    "Y1 = data3[[\"Method\"]]"
   ]
  },
  {
   "cell_type": "code",
   "execution_count": null,
   "id": "d2d16098",
   "metadata": {},
   "outputs": [],
   "source": [
    "x_smote ,y_smote= smote.fit_resample(X1,Y1)"
   ]
  },
  {
   "cell_type": "code",
   "execution_count": null,
   "id": "313ab952",
   "metadata": {},
   "outputs": [],
   "source": [
    "rf_accu = cross_val_score(algorithm, X1, Y1, scoring='accuracy', cv=cv, n_jobs=-1)\n",
    "# report performance\n",
    "print('Accuracy RF: %.4f' % mean(rf_accu))"
   ]
  },
  {
   "cell_type": "code",
   "execution_count": null,
   "id": "a9497ce4",
   "metadata": {},
   "outputs": [],
   "source": [
    "rf_accu1 = cross_val_score(algorithm, x_smote, y_smote, scoring='accuracy', cv=cv, n_jobs=-1)\n",
    "# report performance\n",
    "print('Accuracy RF: %.4f' % mean(rf_accu1))"
   ]
  },
  {
   "cell_type": "code",
   "execution_count": null,
   "id": "4d51c6a5",
   "metadata": {},
   "outputs": [],
   "source": [
    "dt_acc = cross_val_score(dt_clf, X1, Y1, cv=cv).mean()\n",
    "print(\"Cross Validation Accuracy DT: %.4f\" % dt_acc)"
   ]
  },
  {
   "cell_type": "code",
   "execution_count": null,
   "id": "2b5a8ba2",
   "metadata": {},
   "outputs": [],
   "source": [
    "dt_acc1 = cross_val_score(dt_clf, x_smote, y_smote, cv=cv).mean()\n",
    "print(\"Cross Validation Accuracy DT: %.4f\" % dt_acc1)"
   ]
  },
  {
   "cell_type": "code",
   "execution_count": null,
   "id": "159666d3",
   "metadata": {},
   "outputs": [],
   "source": [
    "gb_accu = cross_val_score(gbMod, X1, Y1, cv=cv).mean()\n",
    "print(\"Cross Validation Accuracy GB: %.4f\" % gb_accu)"
   ]
  },
  {
   "cell_type": "code",
   "execution_count": null,
   "id": "f1d8e0c5",
   "metadata": {},
   "outputs": [],
   "source": [
    "gb_accu1 = cross_val_score(gbMod, x_smote, y_smote, cv=cv, n_jobs=-1).mean()\n",
    "print(\"Cross Validation Accuracy GB: %.4f\" % gb_accu1)"
   ]
  },
  {
   "cell_type": "code",
   "execution_count": null,
   "id": "23493d97",
   "metadata": {},
   "outputs": [],
   "source": [
    "mlnn_accu = cross_val_score(model1, X1, Y1, scoring='accuracy', cv=cv, n_jobs=-1)\n",
    "# report performance\n",
    "print('Accuracy of MLNN: %.3f' % mean(mlnn_accu))"
   ]
  },
  {
   "cell_type": "code",
   "execution_count": null,
   "id": "4b07b590",
   "metadata": {},
   "outputs": [],
   "source": [
    "mlnn_accu1 = cross_val_score(model1, x_smote, y_smote, scoring='accuracy', cv=cv, n_jobs=-1)\n",
    "# report performance\n",
    "print('Accuracy of MLNN: %.3f' % mean(mlnn_accu1))"
   ]
  },
  {
   "cell_type": "markdown",
   "id": "8fd07bf3",
   "metadata": {},
   "source": [
    "# Hyper-Parameter Tuning"
   ]
  },
  {
   "cell_type": "markdown",
   "id": "d6757eb2",
   "metadata": {},
   "source": [
    "#using randomized search"
   ]
  },
  {
   "cell_type": "code",
   "execution_count": null,
   "id": "15d3c78c",
   "metadata": {},
   "outputs": [],
   "source": [
    "from sklearn.model_selection import RandomizedSearchCV\n",
    "from scipy.stats import randint\n",
    "from sklearn.model_selection import GridSearchCV"
   ]
  },
  {
   "cell_type": "code",
   "execution_count": null,
   "id": "2f872c61",
   "metadata": {},
   "outputs": [],
   "source": [
    "rfHyperParams = {'max_features': randint(1,10),\n",
    "                 'min_samples_split': randint(1,10),\n",
    "                 'min_samples_leaf': randint(1,5),\n",
    "                 'bootstrap': randint(1,5),\n",
    "                 'n_estimators': randint(10, 500),\n",
    "                 'max_depth': randint(1,10)}"
   ]
  },
  {
   "cell_type": "code",
   "execution_count": null,
   "id": "c1723acf",
   "metadata": {},
   "outputs": [],
   "source": [
    "gridSearchRF = RandomizedSearchCV(estimator=algorithm, param_distributions=rfHyperParams, n_iter=10,\n",
    "                                   scoring='roc_auc', verbose=2).fit(x_smote, y_smote)"
   ]
  },
  {
   "cell_type": "code",
   "execution_count": null,
   "id": "579a1fde",
   "metadata": {},
   "outputs": [],
   "source": [
    "gridSearchRF.best_params_,gridSearchRF.best_score_"
   ]
  },
  {
   "cell_type": "code",
   "execution_count": null,
   "id": "885d57a8",
   "metadata": {},
   "outputs": [],
   "source": [
    "rfMod = RandomForestClassifier(max_depth=4, min_samples_split=6,\n",
    "                               min_samples_leaf=2\n",
    "                               )"
   ]
  },
  {
   "cell_type": "code",
   "execution_count": null,
   "id": "a65fa463",
   "metadata": {},
   "outputs": [],
   "source": [
    "rf_accu = cross_val_score(rfMod, x_re, y_re, scoring='accuracy', cv=cv, n_jobs=-1)\n",
    "# report performance\n",
    "print('Accuracy RF: %.4f' % mean(rf_accu))"
   ]
  },
  {
   "cell_type": "markdown",
   "id": "b0dd0bf6",
   "metadata": {},
   "source": [
    "# confusion matrix"
   ]
  },
  {
   "cell_type": "code",
   "execution_count": null,
   "id": "465eb08e",
   "metadata": {},
   "outputs": [],
   "source": [
    "from sklearn.metrics import confusion_matrix\n",
    "\n",
    "matrix=plot_confusion_matrix(algorithm,x_test,y_test,cmap=plt.cm.Reds)\n",
    "# matrix.ax_.set_title('Confusion Matrix',color='white')\n",
    "# plt.xlabel('True Label',color='white')\n",
    "# plt.ylabel('True Label',color='white')\n",
    "plt.gcf().axes[0].tick_params(color='white')\n",
    "plt.gcf().axes[1].tick_params(color='white')\n",
    "plt.gcf().set_size_inches(10,5)\n",
    "plt.show()\n",
    "# confusion_matrix(y_test, predict)\n",
    "# confusionchart(confusion_matrix(y_true, y_pred))\n",
    "# correct=27+2+27+207+6\n",
    "# incorrect=2+1\n",
    "# total=274 #the total is y_test length\n",
    "# accuray=correct/total"
   ]
  },
  {
   "cell_type": "code",
   "execution_count": null,
   "id": "f562ee38",
   "metadata": {},
   "outputs": [],
   "source": [
    "import numpy as np\n",
    "from sklearn.metrics import classification_report\n",
    "\n",
    "print(classification_report(y_test, predict))"
   ]
  },
  {
   "cell_type": "code",
   "execution_count": null,
   "id": "b15df5b4",
   "metadata": {},
   "outputs": [],
   "source": []
  },
  {
   "cell_type": "code",
   "execution_count": null,
   "id": "d507d4c2",
   "metadata": {},
   "outputs": [],
   "source": [
    "data6.columns"
   ]
  },
  {
   "cell_type": "code",
   "execution_count": null,
   "id": "8b56da66",
   "metadata": {},
   "outputs": [],
   "source": [
    "X1.columns"
   ]
  },
  {
   "cell_type": "code",
   "execution_count": null,
   "id": "a10c2dc2",
   "metadata": {},
   "outputs": [],
   "source": [
    "data3['Region'].unique()"
   ]
  },
  {
   "cell_type": "code",
   "execution_count": null,
   "id": "72df8591",
   "metadata": {},
   "outputs": [],
   "source": [
    "data3.head()"
   ]
  },
  {
   "cell_type": "markdown",
   "id": "89c9d6b7",
   "metadata": {},
   "source": [
    "# Prediction"
   ]
  },
  {
   "cell_type": "code",
   "execution_count": null,
   "id": "fb3f2828",
   "metadata": {},
   "outputs": [],
   "source": [
    "# X1 = data3[[\"Region\", \"Hus\", \"Premise\", \"Children\", \"P_test\", \"Referred_by\", \"S_type\", \"CEC\", \"Pregnant\", \"Referred\"]]\n",
    "# Y1 = data3[[\"Method\"]]\n",
    "print(data3['Method'].value_counts().sum())\n",
    "data3['Method'].count()\n",
    "data3['Referred'].value_counts()"
   ]
  },
  {
   "cell_type": "code",
   "execution_count": null,
   "id": "7be18ec4",
   "metadata": {},
   "outputs": [],
   "source": [
    "data2['Referred'].value_counts()"
   ]
  },
  {
   "cell_type": "code",
   "execution_count": null,
   "id": "d5e7d685",
   "metadata": {},
   "outputs": [],
   "source": [
    "data.columns"
   ]
  },
  {
   "cell_type": "code",
   "execution_count": null,
   "id": "7bdb8870",
   "metadata": {},
   "outputs": [],
   "source": [
    "new_data = [[0, 0, 1, 1, 0, 5, 1, 0,1,0]]\n",
    "# 0=Daily Pill\n",
    "# 1=IUCD        \n",
    "# 2=Implant 3 year Implanon\n",
    "# 3=Implant 5 year Jadelle\n",
    "# 4=Injection\n",
    "# 5=None"
   ]
  },
  {
   "cell_type": "code",
   "execution_count": null,
   "id": "3bb26442",
   "metadata": {},
   "outputs": [],
   "source": [
    "algorithm.fit(X1, Y1)\n",
    "new_output = algorithm.predict(new_data)"
   ]
  },
  {
   "cell_type": "code",
   "execution_count": null,
   "id": "54699d40",
   "metadata": {},
   "outputs": [],
   "source": [
    "new_output"
   ]
  },
  {
   "cell_type": "code",
   "execution_count": null,
   "id": "41350cdf",
   "metadata": {},
   "outputs": [],
   "source": [
    "data.columns"
   ]
  },
  {
   "cell_type": "code",
   "execution_count": null,
   "id": "9cca4bd2",
   "metadata": {},
   "outputs": [],
   "source": [
    "data6.columns"
   ]
  },
  {
   "cell_type": "code",
   "execution_count": null,
   "id": "5d5bb577",
   "metadata": {},
   "outputs": [],
   "source": [
    "data['used_ec_or_condoms_last_time_you_had_sex'].unique()"
   ]
  },
  {
   "cell_type": "code",
   "execution_count": null,
   "id": "497d0ff4",
   "metadata": {},
   "outputs": [],
   "source": [
    "new_data = [[0,0,2, 2, 5, 1, 0, 0, 1]]\n",
    "dt_clf.fit(X, Y)\n",
    "Referred_output = dt_clf.predict(new_data)\n",
    "Referred_output"
   ]
  },
  {
   "cell_type": "code",
   "execution_count": null,
   "id": "0ed7b267",
   "metadata": {},
   "outputs": [],
   "source": [
    "data2['Region'].value_counts()"
   ]
  },
  {
   "cell_type": "code",
   "execution_count": null,
   "id": "288fd167",
   "metadata": {},
   "outputs": [],
   "source": [
    "data3['Region'].value_counts()"
   ]
  },
  {
   "cell_type": "code",
   "execution_count": null,
   "id": "a8eb1397",
   "metadata": {},
   "outputs": [],
   "source": [
    "data2['Hus'].value_counts()"
   ]
  },
  {
   "cell_type": "code",
   "execution_count": null,
   "id": "63b092c6",
   "metadata": {},
   "outputs": [],
   "source": [
    "data3['Hus'].value_counts()"
   ]
  },
  {
   "cell_type": "code",
   "execution_count": null,
   "id": "655b5abf",
   "metadata": {},
   "outputs": [],
   "source": [
    "data2['Children'].value_counts()"
   ]
  },
  {
   "cell_type": "code",
   "execution_count": null,
   "id": "a44394d4",
   "metadata": {},
   "outputs": [],
   "source": [
    "data3['Children'].value_counts()"
   ]
  },
  {
   "cell_type": "code",
   "execution_count": null,
   "id": "5a9b664c",
   "metadata": {},
   "outputs": [],
   "source": [
    "data2['S_type'].value_counts()"
   ]
  },
  {
   "cell_type": "code",
   "execution_count": null,
   "id": "d08aa44d",
   "metadata": {},
   "outputs": [],
   "source": [
    "data3['S_type'].value_counts()"
   ]
  },
  {
   "cell_type": "code",
   "execution_count": null,
   "id": "da3403d7",
   "metadata": {},
   "outputs": [],
   "source": [
    "data2['Pregnant'].value_counts()"
   ]
  },
  {
   "cell_type": "code",
   "execution_count": null,
   "id": "3053e31d",
   "metadata": {},
   "outputs": [],
   "source": [
    "data3['Pregnant'].value_counts()"
   ]
  },
  {
   "cell_type": "code",
   "execution_count": null,
   "id": "5e622d8b",
   "metadata": {},
   "outputs": [],
   "source": [
    "# X = data3[[\"Region\", \"Hus\", \"Premise\", \"Children\", \"P_test\", \"Referred_by\", \"S_type\", \"CEC\", \"Pregnant\"]]\n",
    "# Y = data3[[\"Referred\"]]\n",
    "\n",
    "# X1 = data3[[\"Region\", \"Hus\", \"Premise\", \"Children\", \"P_test\", \"Referred_by\", \"S_type\", \"CEC\", \"Pregnant\", \"Referred\"]]\n",
    "# Y1 = data3[[\"Method\"]]\n",
    "\n",
    "def pridictReferred(Region,Hus,Premise,Children,P_test,Referred_by,S_type,CEC,Pregnant):\n",
    "    \n",
    "    data=[]\n",
    "    \n",
    "    data.append(Region) \n",
    "    \n",
    "    data.append(Hus)\n",
    "    \n",
    "    data.append(Premise)\n",
    "    \n",
    "    data.append(Children)\n",
    "    \n",
    "    data.append(P_test)\n",
    "    \n",
    "    data.append(Referred_by)\n",
    "    \n",
    "    data.append(S_type)\n",
    "    \n",
    "    data.append(CEC)\n",
    "    \n",
    "    data.append(Pregnant)\n",
    "    \n",
    "    result=dt_clf.predict([data])\n",
    "    return result\n",
    "\n",
    "def pridictMethod(Region,Hus,Premise,Children,P_test,Referred_by,S_type,CEC,Pregnant,Referred):\n",
    "    \n",
    "    data=[]\n",
    "    \n",
    "    data.append(Region) \n",
    "    \n",
    "    data.append(Hus)\n",
    "    \n",
    "    data.append(Premise)\n",
    "    \n",
    "    data.append(Children)\n",
    "    \n",
    "    data.append(P_test)\n",
    "    \n",
    "    data.append(Referred_by)\n",
    "    \n",
    "    data.append(S_type)\n",
    "    \n",
    "    data.append(CEC)\n",
    "    \n",
    "    data.append(Pregnant)\n",
    "    \n",
    "    data.append(Referred)\n",
    "    \n",
    "    result=algorithm.predict([data])\n",
    "    return result\n",
    "    \n",
    "# 'N_Age','N_Gender','N_Nationality','N_FlightID','N_CabinClass','Tiketed_Date'    \n",
    "def dataPredictor():\n",
    "    \n",
    "    regions=[\"Oromiya\",\"SNNP\",\"Sidama\"]\n",
    "   \n",
    "    i=1\n",
    "    for region in regions:\n",
    "        if(region==regionmenu.get()):\n",
    "            Region=i\n",
    "        i=i+1\n",
    "        \n",
    "    if(discussion_includes_husbandmenu.get()==\"YES\"):\n",
    "        Hus=1       \n",
    "    else:\n",
    "        Hus=0 \n",
    "        \n",
    "    Premises=[\"Health Post\",\"Home\",\"Meeting hall\"]\n",
    "   \n",
    "    i=1\n",
    "    for premise in Premises:\n",
    "        if(premise==Follow_up_locationlblmenu.get()):\n",
    "            Premise=i\n",
    "        i=i+1    \n",
    "        \n",
    "    NumChildren=[\"0\",\"1\",\"2\",\"3\",\"4\"]\n",
    "    \n",
    "    i=1\n",
    "    for child in NumChildren:\n",
    "        if(child==number_of_childrenlblmenu.get()):\n",
    "            Children=i\n",
    "        i=i+1  \n",
    "        \n",
    "    if(discussion_includes_husbandmenu.get()==\"YES\"):\n",
    "        P_test=1       \n",
    "    else:\n",
    "        P_test=0 \n",
    "        \n",
    "    Referreds=['WDA', 'Navigator', 'HEW', 'Husband', 'Friend/peer']\n",
    "    \n",
    "    i=1\n",
    "    for referred in Referreds:\n",
    "        if(referred==referred_bylblmenu.get()):\n",
    "            Referred_by=i\n",
    "        i=i+1  \n",
    "\n",
    "        \n",
    "    if(discussion_includes_husbandmenu.get()==\"Individual Session\"):\n",
    "        S_type=1       \n",
    "    else:\n",
    "        S_type=0   \n",
    "\n",
    "    CECs=['None', 'Used Condoms', 'Used EC']  \n",
    "    \n",
    "    i=1\n",
    "    for cec in CECs:\n",
    "        if(cec==CEClblmenu.get()):\n",
    "            CEC=i\n",
    "        i=i+1 \n",
    "    if(discussion_includes_husbandmenu.get()==\"YES\"):\n",
    "        P_test=1       \n",
    "    else:\n",
    "        P_test=0 \n",
    "    if(are_you_pregnantmenu.get()==\"Unknown\"):\n",
    "        Pregnant=1       \n",
    "    else:\n",
    "        Pregnant=0 \n",
    "    \n",
    "    referredResult=pridictReferred(Region,Hus,Premise,Children,P_test,Referred_by,S_type,CEC,Pregnant)\n",
    "    if(referredResult[0]==0):\n",
    "        ReferredlblMessege.config(text=\"The Referred is NO\")\n",
    "        \n",
    "    elif(referredResult[0]==1):\n",
    "        ReferredlblMessege.config(text=\"The Referred is YES\")\n",
    "        \n",
    "    methodResult=pridictMethod(Region,Hus,Premise,Children,P_test,Referred_by,S_type,CEC,Pregnant,referredResult[0])\n",
    "    \n",
    "    if(methodResult[0]==0):\n",
    "        \n",
    "        MethodlblMessege.config(text=\"The Method is Daily Pill\")\n",
    "        \n",
    "    elif(methodResult[0]==1):\n",
    "        \n",
    "        MethodlblMessege.config(text=\"The Method is IUCD\")\n",
    "        \n",
    "    elif(methodResult[0]==2):\n",
    "        \n",
    "        MethodlblMessege.config(text=\"The Method is Implant 3 year Implanon\")\n",
    "        \n",
    "    elif(methodResult[0]==3):\n",
    "        \n",
    "        MethodlblMessege.config(text=\"The Method is Implant 5 year Jadelle\")\n",
    "        \n",
    "    elif(methodResult[0]==4):\n",
    "        \n",
    "        MethodlblMessege.config(text=\"The Method is Injection\")\n",
    "        \n",
    "    elif(methodResult[0]==5):\n",
    "        \n",
    "        MethodlblMessege.config(text=\"The Method is None\")\n",
    "        \n",
    "def ErrorMessage(message):\n",
    "    \n",
    "    lblError.config(text=message)\n",
    "window = Tk()\n",
    "\n",
    "\n",
    "window.title(\"Welcome to refferd and method prediction system \")\n",
    "\n",
    "window.geometry('1000x600')\n",
    "\n",
    "lbl1 = Label(window, text=\"Let us predict refferd and method \",font=(50),fg=\"green\")\n",
    "\n",
    "lbl1.grid(column=1, row=1,padx=10, pady=10)\n",
    "\n",
    "\n",
    "regionlbl = Label(window, text=\"Region\",font=(12),fg=\"green\", anchor=\"w\", width=15)\n",
    "\n",
    "regionlbl.grid(column=0, row=4,padx=0, pady=10)\n",
    "\n",
    "regionlbl.grid(column=0, row=4,padx=0, pady=10)\n",
    "\n",
    "regionmenu= StringVar()\n",
    "regionmenu.set(\"Oromiya\")\n",
    "drop= OptionMenu(window, regionmenu, \"Oromiya\", \"Sidama\",\"SNNP\")\n",
    "drop.grid(row=4, column=1,padx=20, pady=10)\n",
    "drop.config(width = 25)\n",
    "drop.config(bg = \"White\")\n",
    "drop.grid()\n",
    "\n",
    "\n",
    "are_you_pregnantlbl = Label(window, text=\"Are you pregnant\",font=(12),fg=\"green\",anchor=\"w\", width=15)\n",
    "\n",
    "are_you_pregnantlbl.grid(column=0, row=5,padx=0, pady=5)\n",
    "\n",
    "are_you_pregnantlbl.grid(column=0, row=5,padx=0, pady=5)\n",
    "\n",
    "are_you_pregnantmenu= StringVar()\n",
    "are_you_pregnantmenu.set(\"Unknown\")\n",
    "drop= OptionMenu(window, are_you_pregnantmenu, \"Unknown\", \"Not pregnant\")\n",
    "drop.grid(row=5, column=1,padx=20, pady=10)\n",
    "drop.config(width = 25)\n",
    "drop.config(bg = \"White\")\n",
    "drop.grid()\n",
    "\n",
    "\n",
    "\n",
    "discussion_includes_husbandlbl = Label(window, text=\"Discussion includes husband\",font=(12),fg=\"green\",anchor=\"w\", width=15)\n",
    "\n",
    "discussion_includes_husbandlbl.grid(column=0, row=6,padx=20, pady=2)\n",
    "\n",
    "discussion_includes_husbandlbl.grid(column=0, row=6,padx=20, pady=2)\n",
    "\n",
    "discussion_includes_husbandmenu= StringVar()\n",
    "discussion_includes_husbandmenu.set(\"YES\")\n",
    "drop= OptionMenu(window, discussion_includes_husbandmenu, \"YES\", \"NO\")\n",
    "drop.grid(row=6, column=1,padx=20, pady=10)\n",
    "drop.config(width = 25)\n",
    "drop.config(bg = \"White\")\n",
    "drop.grid()\n",
    "\n",
    "\n",
    "Follow_up_locationlbl = Label(window, text=\"Follow up location\",font=(12),fg=\"green\",anchor=\"w\", width=15)\n",
    "\n",
    "Follow_up_locationlbl.grid(column=0, row=7,padx=20, pady=2)\n",
    "\n",
    "Follow_up_locationlbl.grid(column=0, row=7,padx=20, pady=2)\n",
    "\n",
    "Follow_up_locationlblmenu= StringVar()\n",
    "Follow_up_locationlblmenu.set(\"Home\")\n",
    "drop= OptionMenu(window, Follow_up_locationlblmenu, \"Home\",\"Health Post\",\"Meeting hall\")\n",
    "drop.grid(row=7, column=1,padx=20, pady=10)\n",
    "drop.config(width = 25)\n",
    "drop.config(bg = \"White\")\n",
    "drop.grid()\n",
    "\n",
    "\n",
    "number_of_childrenlbl = Label(window, text=\"number of children\",font=(12),fg=\"green\",anchor=\"w\", width=15)\n",
    "\n",
    "number_of_childrenlbl.grid(column=0, row=8,padx=20, pady=2)\n",
    "\n",
    "number_of_childrenlbl.grid(column=0, row=8,padx=20, pady=2)\n",
    "\n",
    "number_of_childrenlblmenu= StringVar()\n",
    "number_of_childrenlblmenu.set(\"0\")\n",
    "drop= OptionMenu(window, number_of_childrenlblmenu, \"0\", \"1\",\"2\",\"3\",\"4\")\n",
    "drop.grid(row=8, column=1)\n",
    "drop.config(width = 25)\n",
    "drop.config(bg = \"White\")\n",
    "drop.grid()\n",
    "\n",
    "\n",
    "pregnancy_testlbl = Label(window, text=\"pregnancy test\",font=(12),fg=\"green\",anchor=\"w\", width=15)\n",
    "\n",
    "pregnancy_testlbl.grid(column=0, row=9,padx=20, pady=2)\n",
    "\n",
    "pregnancy_testlbl.grid(column=0, row=9,padx=20, pady=2)\n",
    "\n",
    "pregnancy_testlblmenu= StringVar()\n",
    "pregnancy_testlblmenu.set(\"No-test given\")\n",
    "drop= OptionMenu(window, pregnancy_testlblmenu, 'No-test given', 'Tested-negative')\n",
    "drop.grid(row=9, column=1,padx=20, pady=10)\n",
    "drop.config(width = 25)\n",
    "drop.config(bg = \"White\")\n",
    "drop.grid()\n",
    "\n",
    "\n",
    "referred_bylbl = Label(window, text=\"Referred by\",font=(12),fg=\"green\",anchor=\"w\", width=15)\n",
    "\n",
    "referred_bylbl.grid(column=0, row=10,padx=20, pady=2)\n",
    "\n",
    "referred_bylbl.grid(column=0, row=10,padx=20, pady=2)\n",
    "\n",
    "referred_bylblmenu= StringVar()\n",
    "referred_bylblmenu.set(\"Navigator\")\n",
    "drop= OptionMenu(window, referred_bylblmenu, 'WDA', 'Navigator', 'HEW', 'Husband', 'Friend/peer',\n",
    "       'Community Leader', 'Friend/Peer')\n",
    "drop.grid(row=10, column=1,padx=20, pady=10)\n",
    "drop.config(width = 25)\n",
    "drop.config(bg = \"White\")\n",
    "drop.grid()\n",
    "\n",
    "Sessionlbl = Label(window, text=\"Session type\",font=(12),fg=\"green\",anchor=\"w\", width=15)\n",
    "\n",
    "Sessionlbl.grid(column=0, row=11,padx=20, pady=2)\n",
    "\n",
    "Sessionlbl.grid(column=0, row=11,padx=20, pady=2)\n",
    "\n",
    "Sessionlblmenu= StringVar()\n",
    "Sessionlblmenu.set(\"Individual Session\")\n",
    "drop= OptionMenu(window, Sessionlblmenu,'Individual Session', 'Group Session')\n",
    "drop.grid(row=11, column=1,padx=20, pady=10)\n",
    "drop.config(width = 25)\n",
    "drop.config(bg = \"White\")\n",
    "drop.grid()\n",
    "\n",
    "\n",
    "CEClbl = Label(window, text=\"CEC\",font=(12),fg=\"green\",anchor=\"w\", width=15)\n",
    "\n",
    "CEClbl.grid(column=0, row=12,padx=20, pady=2)\n",
    "\n",
    "CEClbl.grid(column=0, row=12,padx=20, pady=2)\n",
    "\n",
    "CEClblmenu= StringVar()\n",
    "CEClblmenu.set(\"None\")\n",
    "drop= OptionMenu(window, CEClblmenu,'None', 'Used Condoms', 'Used EC')\n",
    "drop.grid(row=12, column=1,padx=20, pady=10)\n",
    "drop.config(width = 25)\n",
    "drop.config(bg = \"White\")\n",
    "drop.grid()\n",
    "\n",
    "btn = Button(window, text=\"pridict\",font=(12), command=dataPredictor, bg=\"green\", fg=\"white\",anchor=\"e\")\n",
    "# btn = Button(window, text=\"pridict\",font=(12), bg=\"green\", fg=\"white\")\n",
    "\n",
    "btn.grid(column=1, row=13,padx=0)\n",
    "\n",
    "ReferredlblMessege=Label(window, text=\" \",font=(18), fg=\"blue\", anchor=\"w\", width=30)\n",
    "\n",
    "ReferredlblMessege.grid(column=2, row=4,padx=20, pady=0)\n",
    "\n",
    "MethodlblMessege=Label(window, text=\" \",font=(18), fg=\"blue\",anchor=\"w\", width=30)\n",
    "\n",
    "MethodlblMessege.grid(column=2, row=5,padx=20, pady=0)\n",
    "\n",
    "\n",
    "window.mainloop()\n",
    "\n"
   ]
  },
  {
   "cell_type": "code",
   "execution_count": null,
   "id": "f9215e65",
   "metadata": {},
   "outputs": [],
   "source": []
  }
 ],
 "metadata": {
  "kernelspec": {
   "display_name": "Python 3 (ipykernel)",
   "language": "python",
   "name": "python3"
  },
  "language_info": {
   "codemirror_mode": {
    "name": "ipython",
    "version": 3
   },
   "file_extension": ".py",
   "mimetype": "text/x-python",
   "name": "python",
   "nbconvert_exporter": "python",
   "pygments_lexer": "ipython3",
   "version": "3.9.7"
  }
 },
 "nbformat": 4,
 "nbformat_minor": 5
}
