{
 "cells": [
  {
   "cell_type": "markdown",
   "id": "3241d0d5",
   "metadata": {},
   "source": [
    "# importing libraries"
   ]
  },
  {
   "cell_type": "code",
   "execution_count": 1,
   "id": "55642354",
   "metadata": {},
   "outputs": [],
   "source": [
    "import numpy as np\n",
    "import pandas as pd\n",
    "import matplotlib.pyplot as plt \n",
    "import seaborn as sns\n",
    "import warnings\n",
    "from sklearn.preprocessing import LabelEncoder\n",
    "import tkinter\n",
    "from tkinter import *\n",
    "from PIL import ImageTk, Image\n",
    "import string"
   ]
  },
  {
   "cell_type": "markdown",
   "id": "4a6f3f77",
   "metadata": {},
   "source": [
    "# Importing Data"
   ]
  },
  {
   "cell_type": "code",
   "execution_count": 2,
   "id": "eb88bca6",
   "metadata": {},
   "outputs": [
    {
     "data": {
      "text/html": [
       "<div>\n",
       "<style scoped>\n",
       "    .dataframe tbody tr th:only-of-type {\n",
       "        vertical-align: middle;\n",
       "    }\n",
       "\n",
       "    .dataframe tbody tr th {\n",
       "        vertical-align: top;\n",
       "    }\n",
       "\n",
       "    .dataframe thead th {\n",
       "        text-align: right;\n",
       "    }\n",
       "</style>\n",
       "<table border=\"1\" class=\"dataframe\">\n",
       "  <thead>\n",
       "    <tr style=\"text-align: right;\">\n",
       "      <th></th>\n",
       "      <th>region</th>\n",
       "      <th>are_you_pregnant</th>\n",
       "      <th>discussion_includes_husband</th>\n",
       "      <th>gilr_referred_to_health_post_or_ msi_outreach_team_to_take_up_a_method</th>\n",
       "      <th>girl_age</th>\n",
       "      <th>location_of_smart_ start_follow_up</th>\n",
       "      <th>method_received</th>\n",
       "      <th>number_of_children</th>\n",
       "      <th>pregnancy_ test</th>\n",
       "      <th>referred_ by</th>\n",
       "      <th>session_type</th>\n",
       "      <th>used_ec_or_condoms_last_time_you_had_sex</th>\n",
       "    </tr>\n",
       "  </thead>\n",
       "  <tbody>\n",
       "    <tr>\n",
       "      <th>0</th>\n",
       "      <td>Oromiya</td>\n",
       "      <td>UN - Unknown</td>\n",
       "      <td>No</td>\n",
       "      <td>No</td>\n",
       "      <td>19</td>\n",
       "      <td>Home</td>\n",
       "      <td>None</td>\n",
       "      <td>0</td>\n",
       "      <td>No - test given</td>\n",
       "      <td>WDA</td>\n",
       "      <td>Individual Session</td>\n",
       "      <td>None</td>\n",
       "    </tr>\n",
       "    <tr>\n",
       "      <th>1</th>\n",
       "      <td>Oromiya</td>\n",
       "      <td>N - Not pregnant</td>\n",
       "      <td>No</td>\n",
       "      <td>No</td>\n",
       "      <td>23</td>\n",
       "      <td>Home</td>\n",
       "      <td>None</td>\n",
       "      <td>2</td>\n",
       "      <td>No - test given</td>\n",
       "      <td>Navigator</td>\n",
       "      <td>Group Session</td>\n",
       "      <td>None</td>\n",
       "    </tr>\n",
       "    <tr>\n",
       "      <th>2</th>\n",
       "      <td>Oromiya</td>\n",
       "      <td>N - Not pregnant</td>\n",
       "      <td>No</td>\n",
       "      <td>Yes</td>\n",
       "      <td>20</td>\n",
       "      <td>Home</td>\n",
       "      <td>Implant 5 year Jadelle</td>\n",
       "      <td>1</td>\n",
       "      <td>No - test given</td>\n",
       "      <td>Navigator</td>\n",
       "      <td>Group Session</td>\n",
       "      <td>None</td>\n",
       "    </tr>\n",
       "    <tr>\n",
       "      <th>3</th>\n",
       "      <td>Oromiya</td>\n",
       "      <td>N - Not pregnant</td>\n",
       "      <td>No</td>\n",
       "      <td>Yes</td>\n",
       "      <td>24</td>\n",
       "      <td>Home</td>\n",
       "      <td>Implant 3 year Implanon</td>\n",
       "      <td>2</td>\n",
       "      <td>No - test given</td>\n",
       "      <td>HEW</td>\n",
       "      <td>Group Session</td>\n",
       "      <td>None</td>\n",
       "    </tr>\n",
       "    <tr>\n",
       "      <th>4</th>\n",
       "      <td>Oromiya</td>\n",
       "      <td>N - Not pregnant</td>\n",
       "      <td>Yes</td>\n",
       "      <td>Yes</td>\n",
       "      <td>19</td>\n",
       "      <td>Health Post</td>\n",
       "      <td>IUCD</td>\n",
       "      <td>1</td>\n",
       "      <td>No - test given</td>\n",
       "      <td>Navigator</td>\n",
       "      <td>Group Session</td>\n",
       "      <td>None</td>\n",
       "    </tr>\n",
       "  </tbody>\n",
       "</table>\n",
       "</div>"
      ],
      "text/plain": [
       "   region   are_you_pregnant discussion_includes_husband   \\\n",
       "0  Oromiya      UN - Unknown                           No   \n",
       "1  Oromiya  N - Not pregnant                           No   \n",
       "2  Oromiya  N - Not pregnant                           No   \n",
       "3  Oromiya  N - Not pregnant                           No   \n",
       "4  Oromiya  N - Not pregnant                          Yes   \n",
       "\n",
       "  gilr_referred_to_health_post_or_ msi_outreach_team_to_take_up_a_method  \\\n",
       "0                                                 No                       \n",
       "1                                                 No                       \n",
       "2                                                Yes                       \n",
       "3                                                Yes                       \n",
       "4                                                Yes                       \n",
       "\n",
       "   girl_age location_of_smart_ start_follow_up          method_received  \\\n",
       "0        19                              Home                      None   \n",
       "1        23                              Home                      None   \n",
       "2        20                              Home    Implant 5 year Jadelle   \n",
       "3        24                              Home   Implant 3 year Implanon   \n",
       "4        19                       Health Post                      IUCD   \n",
       "\n",
       "   number_of_children  pregnancy_ test referred_ by        session_type  \\\n",
       "0                   0  No - test given          WDA  Individual Session   \n",
       "1                   2  No - test given    Navigator       Group Session   \n",
       "2                   1  No - test given    Navigator       Group Session   \n",
       "3                   2  No - test given          HEW       Group Session   \n",
       "4                   1  No - test given    Navigator       Group Session   \n",
       "\n",
       "  used_ec_or_condoms_last_time_you_had_sex  \n",
       "0                                     None  \n",
       "1                                     None  \n",
       "2                                     None  \n",
       "3                                     None  \n",
       "4                                     None  "
      ]
     },
     "execution_count": 2,
     "metadata": {},
     "output_type": "execute_result"
    }
   ],
   "source": [
    "data = pd.read_excel('OTF.xlsx') \n",
    "data.head()"
   ]
  },
  {
   "cell_type": "code",
   "execution_count": 104,
   "id": "a905aa65",
   "metadata": {},
   "outputs": [
    {
     "data": {
      "text/html": [
       "<div>\n",
       "<style scoped>\n",
       "    .dataframe tbody tr th:only-of-type {\n",
       "        vertical-align: middle;\n",
       "    }\n",
       "\n",
       "    .dataframe tbody tr th {\n",
       "        vertical-align: top;\n",
       "    }\n",
       "\n",
       "    .dataframe thead th {\n",
       "        text-align: right;\n",
       "    }\n",
       "</style>\n",
       "<table border=\"1\" class=\"dataframe\">\n",
       "  <thead>\n",
       "    <tr style=\"text-align: right;\">\n",
       "      <th></th>\n",
       "      <th>region</th>\n",
       "      <th>are_you_pregnant</th>\n",
       "      <th>discussion_includes_husband</th>\n",
       "      <th>gilr_referred_to_health_post_or_ msi_outreach_team_to_take_up_a_method</th>\n",
       "      <th>girl_age</th>\n",
       "      <th>location_of_smart_ start_follow_up</th>\n",
       "      <th>method_received</th>\n",
       "      <th>number_of_children</th>\n",
       "      <th>pregnancy_ test</th>\n",
       "      <th>referred_ by</th>\n",
       "      <th>session_type</th>\n",
       "      <th>used_ec_or_condoms_last_time_you_had_sex</th>\n",
       "    </tr>\n",
       "  </thead>\n",
       "  <tbody>\n",
       "    <tr>\n",
       "      <th>0</th>\n",
       "      <td>Oromiya</td>\n",
       "      <td>UN - Unknown</td>\n",
       "      <td>No</td>\n",
       "      <td>No</td>\n",
       "      <td>19</td>\n",
       "      <td>Home</td>\n",
       "      <td>None</td>\n",
       "      <td>0</td>\n",
       "      <td>No - test given</td>\n",
       "      <td>WDA</td>\n",
       "      <td>Individual Session</td>\n",
       "      <td>None</td>\n",
       "    </tr>\n",
       "    <tr>\n",
       "      <th>1</th>\n",
       "      <td>Oromiya</td>\n",
       "      <td>N - Not pregnant</td>\n",
       "      <td>No</td>\n",
       "      <td>No</td>\n",
       "      <td>23</td>\n",
       "      <td>Home</td>\n",
       "      <td>None</td>\n",
       "      <td>2</td>\n",
       "      <td>No - test given</td>\n",
       "      <td>Navigator</td>\n",
       "      <td>Group Session</td>\n",
       "      <td>None</td>\n",
       "    </tr>\n",
       "    <tr>\n",
       "      <th>2</th>\n",
       "      <td>Oromiya</td>\n",
       "      <td>N - Not pregnant</td>\n",
       "      <td>No</td>\n",
       "      <td>Yes</td>\n",
       "      <td>20</td>\n",
       "      <td>Home</td>\n",
       "      <td>Implant 5 year Jadelle</td>\n",
       "      <td>1</td>\n",
       "      <td>No - test given</td>\n",
       "      <td>Navigator</td>\n",
       "      <td>Group Session</td>\n",
       "      <td>None</td>\n",
       "    </tr>\n",
       "    <tr>\n",
       "      <th>3</th>\n",
       "      <td>Oromiya</td>\n",
       "      <td>N - Not pregnant</td>\n",
       "      <td>No</td>\n",
       "      <td>Yes</td>\n",
       "      <td>24</td>\n",
       "      <td>Home</td>\n",
       "      <td>Implant 3 year Implanon</td>\n",
       "      <td>2</td>\n",
       "      <td>No - test given</td>\n",
       "      <td>HEW</td>\n",
       "      <td>Group Session</td>\n",
       "      <td>None</td>\n",
       "    </tr>\n",
       "    <tr>\n",
       "      <th>4</th>\n",
       "      <td>Oromiya</td>\n",
       "      <td>N - Not pregnant</td>\n",
       "      <td>Yes</td>\n",
       "      <td>Yes</td>\n",
       "      <td>19</td>\n",
       "      <td>Health Post</td>\n",
       "      <td>IUCD</td>\n",
       "      <td>1</td>\n",
       "      <td>No - test given</td>\n",
       "      <td>Navigator</td>\n",
       "      <td>Group Session</td>\n",
       "      <td>None</td>\n",
       "    </tr>\n",
       "  </tbody>\n",
       "</table>\n",
       "</div>"
      ],
      "text/plain": [
       "   region   are_you_pregnant discussion_includes_husband   \\\n",
       "0  Oromiya      UN - Unknown                           No   \n",
       "1  Oromiya  N - Not pregnant                           No   \n",
       "2  Oromiya  N - Not pregnant                           No   \n",
       "3  Oromiya  N - Not pregnant                           No   \n",
       "4  Oromiya  N - Not pregnant                          Yes   \n",
       "\n",
       "  gilr_referred_to_health_post_or_ msi_outreach_team_to_take_up_a_method  \\\n",
       "0                                                 No                       \n",
       "1                                                 No                       \n",
       "2                                                Yes                       \n",
       "3                                                Yes                       \n",
       "4                                                Yes                       \n",
       "\n",
       "   girl_age location_of_smart_ start_follow_up          method_received  \\\n",
       "0        19                              Home                      None   \n",
       "1        23                              Home                      None   \n",
       "2        20                              Home    Implant 5 year Jadelle   \n",
       "3        24                              Home   Implant 3 year Implanon   \n",
       "4        19                       Health Post                      IUCD   \n",
       "\n",
       "   number_of_children  pregnancy_ test referred_ by        session_type  \\\n",
       "0                   0  No - test given          WDA  Individual Session   \n",
       "1                   2  No - test given    Navigator       Group Session   \n",
       "2                   1  No - test given    Navigator       Group Session   \n",
       "3                   2  No - test given          HEW       Group Session   \n",
       "4                   1  No - test given    Navigator       Group Session   \n",
       "\n",
       "  used_ec_or_condoms_last_time_you_had_sex  \n",
       "0                                     None  \n",
       "1                                     None  \n",
       "2                                     None  \n",
       "3                                     None  \n",
       "4                                     None  "
      ]
     },
     "execution_count": 104,
     "metadata": {},
     "output_type": "execute_result"
    }
   ],
   "source": [
    "data.head()"
   ]
  },
  {
   "cell_type": "code",
   "execution_count": 3,
   "id": "c973006c",
   "metadata": {
    "scrolled": true
   },
   "outputs": [
    {
     "data": {
      "image/png": "[encoded data removed]",
      "text/plain": [
       "<Figure size 720x432 with 1 Axes>"
      ]
     },
     "metadata": {},
     "output_type": "display_data"
    }
   ],
   "source": [
    "# different contraceptive methods\n",
    "warnings.filterwarnings('ignore')\n",
    "plt.rcParams['figure.figsize'] = (10, 6)\n",
    "plt.style.use('Solarize_Light2')\n",
    "\n",
    "data_n = data['method_received'].value_counts()\n",
    "data_n.head(10).plot.bar(color = 'teal')\n",
    "\n",
    "plt.title('Contraceptive Methods Recieved',fontsize = 30, color = 'black')\n",
    "plt.xticks(rotation = 90)\n",
    "plt.show()"
   ]
  },
  {
   "cell_type": "code",
   "execution_count": 4,
   "id": "55eb4533",
   "metadata": {},
   "outputs": [
    {
     "data": {
      "image/png": "[encoded data removed]",
      "text/plain": [
       "<Figure size 720x432 with 1 Axes>"
      ]
     },
     "metadata": {},
     "output_type": "display_data"
    }
   ],
   "source": [
    "# different contraceptive methods\n",
    "warnings.filterwarnings('ignore')\n",
    "plt.rcParams['figure.figsize'] = (10, 6)\n",
    "plt.style.use('Solarize_Light2')\n",
    "\n",
    "data_n = data['are_you_pregnant'].value_counts()\n",
    "data_n.head(10).plot.bar(color = 'teal')\n",
    "plt.title('Pregnancy Status ',fontsize = 30, color = 'black')\n",
    "plt.xticks(rotation = 90)\n",
    "plt.show()"
   ]
  },
  {
   "cell_type": "markdown",
   "id": "1302c8b1",
   "metadata": {},
   "source": [
    "# Data Cleaning"
   ]
  },
  {
   "cell_type": "code",
   "execution_count": 5,
   "id": "ed2d1abd",
   "metadata": {},
   "outputs": [
    {
     "data": {
      "text/plain": [
       "region                                                                    0\n",
       "are_you_pregnant                                                          0\n",
       "discussion_includes_husband                                               0\n",
       "gilr_referred_to_health_post_or_ msi_outreach_team_to_take_up_a_method    0\n",
       "girl_age                                                                  0\n",
       "location_of_smart_ start_follow_up                                        0\n",
       "method_received                                                           0\n",
       "number_of_children                                                        0\n",
       "pregnancy_ test                                                           0\n",
       "referred_ by                                                              0\n",
       "session_type                                                              0\n",
       "used_ec_or_condoms_last_time_you_had_sex                                  0\n",
       "dtype: int64"
      ]
     },
     "execution_count": 5,
     "metadata": {},
     "output_type": "execute_result"
    }
   ],
   "source": [
    "data.isnull().sum()"
   ]
  },
  {
   "cell_type": "code",
   "execution_count": 6,
   "id": "4adb9cbf",
   "metadata": {},
   "outputs": [
    {
     "data": {
      "text/plain": [
       "<AxesSubplot:>"
      ]
     },
     "execution_count": 6,
     "metadata": {},
     "output_type": "execute_result"
    },
    {
     "data": {
      "image/png": "[encoded data removed]",
      "text/plain": [
       "<Figure size 720x432 with 1 Axes>"
      ]
     },
     "metadata": {},
     "output_type": "display_data"
    }
   ],
   "source": [
    "data.girl_age.hist()"
   ]
  },
  {
   "cell_type": "code",
   "execution_count": 7,
   "id": "9480c719",
   "metadata": {},
   "outputs": [],
   "source": [
    "#define values\n",
    "values = [15, 16, 17, 18, 19, 20, 21, 22, 23, 24]\n",
    "\n",
    "#drop rows that contain any value in the list\n",
    "data1 = data[data.girl_age.isin(values) == True]"
   ]
  },
  {
   "cell_type": "markdown",
   "id": "f8808ec8",
   "metadata": {},
   "source": [
    "# Referred"
   ]
  },
  {
   "cell_type": "code",
   "execution_count": 8,
   "id": "d8008a62",
   "metadata": {},
   "outputs": [],
   "source": [
    "#define values\n",
    "region_values = ['Sidama']\n",
    "\n",
    "#drop rows that contain any value in the list\n",
    "data2 = data1[data1['region '].isin(region_values) == False]"
   ]
  },
  {
   "cell_type": "code",
   "execution_count": 9,
   "id": "6288a8ca",
   "metadata": {},
   "outputs": [
    {
     "data": {
      "text/html": [
       "<div>\n",
       "<style scoped>\n",
       "    .dataframe tbody tr th:only-of-type {\n",
       "        vertical-align: middle;\n",
       "    }\n",
       "\n",
       "    .dataframe tbody tr th {\n",
       "        vertical-align: top;\n",
       "    }\n",
       "\n",
       "    .dataframe thead th {\n",
       "        text-align: right;\n",
       "    }\n",
       "</style>\n",
       "<table border=\"1\" class=\"dataframe\">\n",
       "  <thead>\n",
       "    <tr style=\"text-align: right;\">\n",
       "      <th></th>\n",
       "      <th>region</th>\n",
       "      <th>are_you_pregnant</th>\n",
       "      <th>discussion_includes_husband</th>\n",
       "      <th>gilr_referred_to_health_post_or_ msi_outreach_team_to_take_up_a_method</th>\n",
       "      <th>girl_age</th>\n",
       "      <th>location_of_smart_ start_follow_up</th>\n",
       "      <th>method_received</th>\n",
       "      <th>number_of_children</th>\n",
       "      <th>pregnancy_ test</th>\n",
       "      <th>referred_ by</th>\n",
       "      <th>session_type</th>\n",
       "      <th>used_ec_or_condoms_last_time_you_had_sex</th>\n",
       "    </tr>\n",
       "  </thead>\n",
       "  <tbody>\n",
       "    <tr>\n",
       "      <th>0</th>\n",
       "      <td>Oromiya</td>\n",
       "      <td>UN - Unknown</td>\n",
       "      <td>No</td>\n",
       "      <td>No</td>\n",
       "      <td>19</td>\n",
       "      <td>Home</td>\n",
       "      <td>None</td>\n",
       "      <td>0</td>\n",
       "      <td>No - test given</td>\n",
       "      <td>WDA</td>\n",
       "      <td>Individual Session</td>\n",
       "      <td>None</td>\n",
       "    </tr>\n",
       "    <tr>\n",
       "      <th>1</th>\n",
       "      <td>Oromiya</td>\n",
       "      <td>N - Not pregnant</td>\n",
       "      <td>No</td>\n",
       "      <td>No</td>\n",
       "      <td>23</td>\n",
       "      <td>Home</td>\n",
       "      <td>None</td>\n",
       "      <td>2</td>\n",
       "      <td>No - test given</td>\n",
       "      <td>Navigator</td>\n",
       "      <td>Group Session</td>\n",
       "      <td>None</td>\n",
       "    </tr>\n",
       "    <tr>\n",
       "      <th>2</th>\n",
       "      <td>Oromiya</td>\n",
       "      <td>N - Not pregnant</td>\n",
       "      <td>No</td>\n",
       "      <td>Yes</td>\n",
       "      <td>20</td>\n",
       "      <td>Home</td>\n",
       "      <td>Implant 5 year Jadelle</td>\n",
       "      <td>1</td>\n",
       "      <td>No - test given</td>\n",
       "      <td>Navigator</td>\n",
       "      <td>Group Session</td>\n",
       "      <td>None</td>\n",
       "    </tr>\n",
       "    <tr>\n",
       "      <th>3</th>\n",
       "      <td>Oromiya</td>\n",
       "      <td>N - Not pregnant</td>\n",
       "      <td>No</td>\n",
       "      <td>Yes</td>\n",
       "      <td>24</td>\n",
       "      <td>Home</td>\n",
       "      <td>Implant 3 year Implanon</td>\n",
       "      <td>2</td>\n",
       "      <td>No - test given</td>\n",
       "      <td>HEW</td>\n",
       "      <td>Group Session</td>\n",
       "      <td>None</td>\n",
       "    </tr>\n",
       "    <tr>\n",
       "      <th>4</th>\n",
       "      <td>Oromiya</td>\n",
       "      <td>N - Not pregnant</td>\n",
       "      <td>Yes</td>\n",
       "      <td>Yes</td>\n",
       "      <td>19</td>\n",
       "      <td>Health Post</td>\n",
       "      <td>IUCD</td>\n",
       "      <td>1</td>\n",
       "      <td>No - test given</td>\n",
       "      <td>Navigator</td>\n",
       "      <td>Group Session</td>\n",
       "      <td>None</td>\n",
       "    </tr>\n",
       "    <tr>\n",
       "      <th>...</th>\n",
       "      <td>...</td>\n",
       "      <td>...</td>\n",
       "      <td>...</td>\n",
       "      <td>...</td>\n",
       "      <td>...</td>\n",
       "      <td>...</td>\n",
       "      <td>...</td>\n",
       "      <td>...</td>\n",
       "      <td>...</td>\n",
       "      <td>...</td>\n",
       "      <td>...</td>\n",
       "      <td>...</td>\n",
       "    </tr>\n",
       "    <tr>\n",
       "      <th>33007</th>\n",
       "      <td>SNNP</td>\n",
       "      <td>N - Not pregnant</td>\n",
       "      <td>No</td>\n",
       "      <td>Yes</td>\n",
       "      <td>22</td>\n",
       "      <td>Meeting hall</td>\n",
       "      <td>Implant 3 year Implanon</td>\n",
       "      <td>3</td>\n",
       "      <td>No - test given</td>\n",
       "      <td>WDA</td>\n",
       "      <td>Group Session</td>\n",
       "      <td>None</td>\n",
       "    </tr>\n",
       "    <tr>\n",
       "      <th>33008</th>\n",
       "      <td>SNNP</td>\n",
       "      <td>N - Not pregnant</td>\n",
       "      <td>No</td>\n",
       "      <td>Yes</td>\n",
       "      <td>22</td>\n",
       "      <td>Meeting hall</td>\n",
       "      <td>Implant 5 year Jadelle</td>\n",
       "      <td>3</td>\n",
       "      <td>No - test given</td>\n",
       "      <td>WDA</td>\n",
       "      <td>Group Session</td>\n",
       "      <td>None</td>\n",
       "    </tr>\n",
       "    <tr>\n",
       "      <th>33009</th>\n",
       "      <td>SNNP</td>\n",
       "      <td>N - Not pregnant</td>\n",
       "      <td>Yes</td>\n",
       "      <td>Yes</td>\n",
       "      <td>18</td>\n",
       "      <td>Home</td>\n",
       "      <td>Implant 5 year Jadelle</td>\n",
       "      <td>2</td>\n",
       "      <td>No - test given</td>\n",
       "      <td>Navigator</td>\n",
       "      <td>Group Session</td>\n",
       "      <td>None</td>\n",
       "    </tr>\n",
       "    <tr>\n",
       "      <th>33010</th>\n",
       "      <td>SNNP</td>\n",
       "      <td>N - Not pregnant</td>\n",
       "      <td>Yes</td>\n",
       "      <td>Yes</td>\n",
       "      <td>24</td>\n",
       "      <td>Home</td>\n",
       "      <td>Injection</td>\n",
       "      <td>4</td>\n",
       "      <td>No - test given</td>\n",
       "      <td>Navigator</td>\n",
       "      <td>Group Session</td>\n",
       "      <td>None</td>\n",
       "    </tr>\n",
       "    <tr>\n",
       "      <th>33011</th>\n",
       "      <td>SNNP</td>\n",
       "      <td>N - Not pregnant</td>\n",
       "      <td>Yes</td>\n",
       "      <td>Yes</td>\n",
       "      <td>19</td>\n",
       "      <td>Home</td>\n",
       "      <td>Injection</td>\n",
       "      <td>2</td>\n",
       "      <td>No - test given</td>\n",
       "      <td>Navigator</td>\n",
       "      <td>Group Session</td>\n",
       "      <td>None</td>\n",
       "    </tr>\n",
       "  </tbody>\n",
       "</table>\n",
       "<p>28090 rows × 12 columns</p>\n",
       "</div>"
      ],
      "text/plain": [
       "       region   are_you_pregnant discussion_includes_husband   \\\n",
       "0      Oromiya      UN - Unknown                           No   \n",
       "1      Oromiya  N - Not pregnant                           No   \n",
       "2      Oromiya  N - Not pregnant                           No   \n",
       "3      Oromiya  N - Not pregnant                           No   \n",
       "4      Oromiya  N - Not pregnant                          Yes   \n",
       "...        ...               ...                          ...   \n",
       "33007     SNNP  N - Not pregnant                           No   \n",
       "33008     SNNP  N - Not pregnant                           No   \n",
       "33009     SNNP  N - Not pregnant                          Yes   \n",
       "33010     SNNP  N - Not pregnant                          Yes   \n",
       "33011     SNNP  N - Not pregnant                          Yes   \n",
       "\n",
       "      gilr_referred_to_health_post_or_ msi_outreach_team_to_take_up_a_method  \\\n",
       "0                                                     No                       \n",
       "1                                                     No                       \n",
       "2                                                    Yes                       \n",
       "3                                                    Yes                       \n",
       "4                                                    Yes                       \n",
       "...                                                  ...                       \n",
       "33007                                                Yes                       \n",
       "33008                                                Yes                       \n",
       "33009                                                Yes                       \n",
       "33010                                                Yes                       \n",
       "33011                                                Yes                       \n",
       "\n",
       "       girl_age location_of_smart_ start_follow_up          method_received  \\\n",
       "0            19                              Home                      None   \n",
       "1            23                              Home                      None   \n",
       "2            20                              Home    Implant 5 year Jadelle   \n",
       "3            24                              Home   Implant 3 year Implanon   \n",
       "4            19                       Health Post                      IUCD   \n",
       "...         ...                                ...                      ...   \n",
       "33007        22                       Meeting hall  Implant 3 year Implanon   \n",
       "33008        22                       Meeting hall   Implant 5 year Jadelle   \n",
       "33009        18                              Home    Implant 5 year Jadelle   \n",
       "33010        24                              Home                 Injection   \n",
       "33011        19                              Home                 Injection   \n",
       "\n",
       "       number_of_children  pregnancy_ test referred_ by        session_type  \\\n",
       "0                       0  No - test given          WDA  Individual Session   \n",
       "1                       2  No - test given    Navigator       Group Session   \n",
       "2                       1  No - test given    Navigator       Group Session   \n",
       "3                       2  No - test given          HEW       Group Session   \n",
       "4                       1  No - test given    Navigator       Group Session   \n",
       "...                   ...              ...          ...                 ...   \n",
       "33007                   3  No - test given          WDA       Group Session   \n",
       "33008                   3  No - test given          WDA       Group Session   \n",
       "33009                   2  No - test given    Navigator       Group Session   \n",
       "33010                   4  No - test given    Navigator       Group Session   \n",
       "33011                   2  No - test given    Navigator       Group Session   \n",
       "\n",
       "      used_ec_or_condoms_last_time_you_had_sex  \n",
       "0                                         None  \n",
       "1                                         None  \n",
       "2                                         None  \n",
       "3                                         None  \n",
       "4                                         None  \n",
       "...                                        ...  \n",
       "33007                                     None  \n",
       "33008                                     None  \n",
       "33009                                     None  \n",
       "33010                                     None  \n",
       "33011                                     None  \n",
       "\n",
       "[28090 rows x 12 columns]"
      ]
     },
     "execution_count": 9,
     "metadata": {},
     "output_type": "execute_result"
    }
   ],
   "source": [
    "data2"
   ]
  },
  {
   "cell_type": "markdown",
   "id": "02c969a4",
   "metadata": {},
   "source": [
    "# Normalization"
   ]
  },
  {
   "cell_type": "code",
   "execution_count": 10,
   "id": "861ea4ce",
   "metadata": {},
   "outputs": [
    {
     "data": {
      "text/html": [
       "<div>\n",
       "<style scoped>\n",
       "    .dataframe tbody tr th:only-of-type {\n",
       "        vertical-align: middle;\n",
       "    }\n",
       "\n",
       "    .dataframe tbody tr th {\n",
       "        vertical-align: top;\n",
       "    }\n",
       "\n",
       "    .dataframe thead th {\n",
       "        text-align: right;\n",
       "    }\n",
       "</style>\n",
       "<table border=\"1\" class=\"dataframe\">\n",
       "  <thead>\n",
       "    <tr style=\"text-align: right;\">\n",
       "      <th></th>\n",
       "      <th>Pregnant Count</th>\n",
       "    </tr>\n",
       "  </thead>\n",
       "  <tbody>\n",
       "    <tr>\n",
       "      <th>N - Not pregnant</th>\n",
       "      <td>26943</td>\n",
       "    </tr>\n",
       "    <tr>\n",
       "      <th>UN - Unknown</th>\n",
       "      <td>6069</td>\n",
       "    </tr>\n",
       "  </tbody>\n",
       "</table>\n",
       "</div>"
      ],
      "text/plain": [
       "                  Pregnant Count\n",
       "N - Not pregnant           26943\n",
       "UN - Unknown                6069"
      ]
     },
     "execution_count": 10,
     "metadata": {},
     "output_type": "execute_result"
    }
   ],
   "source": [
    "t = data1['are_you_pregnant'].value_counts()\n",
    "table = pd.DataFrame(data=t.values, index=t.index, columns=['Pregnant Count'])\n",
    "\n",
    "table.rename({'index': 'Division'}, axis='columns', inplace=True)\n",
    "table\n"
   ]
  },
  {
   "cell_type": "code",
   "execution_count": 11,
   "id": "baf53220",
   "metadata": {},
   "outputs": [],
   "source": [
    "data2.are_you_pregnant.replace({'N - Not pregnan': 'NP',\n",
    "                            'UN - Unknown': 'UN',\n",
    "                               'ghvg':'UN'}, inplace= True)"
   ]
  },
  {
   "cell_type": "code",
   "execution_count": 12,
   "id": "77138140",
   "metadata": {},
   "outputs": [
    {
     "data": {
      "text/plain": [
       "Index(['Region', 'Pregnant', 'Hus', 'Referred', 'Age', 'Premise', 'Method',\n",
       "       'Children', 'P_test', 'Referred_by', 'S_type', 'CEC'],\n",
       "      dtype='object')"
      ]
     },
     "execution_count": 12,
     "metadata": {},
     "output_type": "execute_result"
    }
   ],
   "source": [
    "data2.rename(columns = {\"gilr_referred_to_health_post_or_ msi_outreach_team_to_take_up_a_method\":\"Referred\", \"location_of_smart_ start_follow_up\":\"Premise\", \"pregnancy_ test\":\"P_test\", \"region \":\"Region\", \"discussion_includes_husband \":\"Hus\", \"referred_ by\":\"Referred_by\", \"girl_age\":\"Age\", \"method_received\":\"Method\", \"number_of_children\":\"Children\", \"referred_by\":\"Referred_by\", \"session_type\":\"S_type\", \"used_ec_or_condoms_last_time_you_had_sex\":\"CEC\", \"are_you_pregnant\":\"Pregnant\"}, inplace= True)\n",
    "data2.columns"
   ]
  },
  {
   "cell_type": "code",
   "execution_count": 13,
   "id": "f88e15b0",
   "metadata": {
    "scrolled": false
   },
   "outputs": [
    {
     "data": {
      "text/html": [
       "<div>\n",
       "<style scoped>\n",
       "    .dataframe tbody tr th:only-of-type {\n",
       "        vertical-align: middle;\n",
       "    }\n",
       "\n",
       "    .dataframe tbody tr th {\n",
       "        vertical-align: top;\n",
       "    }\n",
       "\n",
       "    .dataframe thead th {\n",
       "        text-align: right;\n",
       "    }\n",
       "</style>\n",
       "<table border=\"1\" class=\"dataframe\">\n",
       "  <thead>\n",
       "    <tr style=\"text-align: right;\">\n",
       "      <th></th>\n",
       "      <th>Reffered by Count</th>\n",
       "    </tr>\n",
       "  </thead>\n",
       "  <tbody>\n",
       "    <tr>\n",
       "      <th>Navigator</th>\n",
       "      <td>13229</td>\n",
       "    </tr>\n",
       "    <tr>\n",
       "      <th>WDA</th>\n",
       "      <td>9103</td>\n",
       "    </tr>\n",
       "    <tr>\n",
       "      <th>HEW</th>\n",
       "      <td>4120</td>\n",
       "    </tr>\n",
       "    <tr>\n",
       "      <th>Friend/peer</th>\n",
       "      <td>2895</td>\n",
       "    </tr>\n",
       "    <tr>\n",
       "      <th>Community Leader</th>\n",
       "      <td>2864</td>\n",
       "    </tr>\n",
       "    <tr>\n",
       "      <th>Husband</th>\n",
       "      <td>496</td>\n",
       "    </tr>\n",
       "    <tr>\n",
       "      <th>Friend/Peer</th>\n",
       "      <td>305</td>\n",
       "    </tr>\n",
       "  </tbody>\n",
       "</table>\n",
       "</div>"
      ],
      "text/plain": [
       "                  Reffered by Count\n",
       "Navigator                     13229\n",
       "WDA                            9103\n",
       "HEW                            4120\n",
       "Friend/peer                    2895\n",
       "Community Leader               2864\n",
       "Husband                         496\n",
       "Friend/Peer                     305"
      ]
     },
     "execution_count": 13,
     "metadata": {},
     "output_type": "execute_result"
    }
   ],
   "source": [
    "r = data1['referred_ by'].value_counts()\n",
    "table = pd.DataFrame(data=r.values, index=r.index, columns=['Reffered by Count'])\n",
    "\n",
    "table.rename({'index': 'Division'}, axis='columns', inplace=True)\n",
    "table"
   ]
  },
  {
   "cell_type": "code",
   "execution_count": 14,
   "id": "6478e02b",
   "metadata": {},
   "outputs": [],
   "source": [
    "data2.Referred_by.replace({'Friend/peer': 'Friend/Peer'}, inplace= True)"
   ]
  },
  {
   "cell_type": "code",
   "execution_count": 15,
   "id": "4b57eaa0",
   "metadata": {},
   "outputs": [
    {
     "data": {
      "text/html": [
       "<div>\n",
       "<style scoped>\n",
       "    .dataframe tbody tr th:only-of-type {\n",
       "        vertical-align: middle;\n",
       "    }\n",
       "\n",
       "    .dataframe tbody tr th {\n",
       "        vertical-align: top;\n",
       "    }\n",
       "\n",
       "    .dataframe thead th {\n",
       "        text-align: right;\n",
       "    }\n",
       "</style>\n",
       "<table border=\"1\" class=\"dataframe\">\n",
       "  <thead>\n",
       "    <tr style=\"text-align: right;\">\n",
       "      <th></th>\n",
       "      <th>Reffered by Count</th>\n",
       "    </tr>\n",
       "  </thead>\n",
       "  <tbody>\n",
       "    <tr>\n",
       "      <th>Navigator</th>\n",
       "      <td>12273</td>\n",
       "    </tr>\n",
       "    <tr>\n",
       "      <th>WDA</th>\n",
       "      <td>6655</td>\n",
       "    </tr>\n",
       "    <tr>\n",
       "      <th>HEW</th>\n",
       "      <td>3857</td>\n",
       "    </tr>\n",
       "    <tr>\n",
       "      <th>Friend/Peer</th>\n",
       "      <td>2968</td>\n",
       "    </tr>\n",
       "    <tr>\n",
       "      <th>Community Leader</th>\n",
       "      <td>1865</td>\n",
       "    </tr>\n",
       "    <tr>\n",
       "      <th>Husband</th>\n",
       "      <td>472</td>\n",
       "    </tr>\n",
       "  </tbody>\n",
       "</table>\n",
       "</div>"
      ],
      "text/plain": [
       "                  Reffered by Count\n",
       "Navigator                     12273\n",
       "WDA                            6655\n",
       "HEW                            3857\n",
       "Friend/Peer                    2968\n",
       "Community Leader               1865\n",
       "Husband                         472"
      ]
     },
     "execution_count": 15,
     "metadata": {},
     "output_type": "execute_result"
    }
   ],
   "source": [
    "r = data2['Referred_by'].value_counts()\n",
    "table = pd.DataFrame(data=r.values, index=r.index, columns=['Reffered by Count'])\n",
    "\n",
    "table.rename({'index': 'Division'}, axis='columns', inplace=True)\n",
    "table"
   ]
  },
  {
   "cell_type": "code",
   "execution_count": 16,
   "id": "12c51b30",
   "metadata": {
    "scrolled": false
   },
   "outputs": [
    {
     "data": {
      "text/html": [
       "<div>\n",
       "<style scoped>\n",
       "    .dataframe tbody tr th:only-of-type {\n",
       "        vertical-align: middle;\n",
       "    }\n",
       "\n",
       "    .dataframe tbody tr th {\n",
       "        vertical-align: top;\n",
       "    }\n",
       "\n",
       "    .dataframe thead th {\n",
       "        text-align: right;\n",
       "    }\n",
       "</style>\n",
       "<table border=\"1\" class=\"dataframe\">\n",
       "  <thead>\n",
       "    <tr style=\"text-align: right;\">\n",
       "      <th></th>\n",
       "      <th>Region</th>\n",
       "      <th>Pregnant</th>\n",
       "      <th>Hus</th>\n",
       "      <th>Age</th>\n",
       "      <th>Premise</th>\n",
       "      <th>Children</th>\n",
       "      <th>P_test</th>\n",
       "      <th>Referred_by</th>\n",
       "      <th>S_type</th>\n",
       "      <th>CEC</th>\n",
       "      <th>Referred</th>\n",
       "      <th>Method</th>\n",
       "    </tr>\n",
       "  </thead>\n",
       "  <tbody>\n",
       "    <tr>\n",
       "      <th>0</th>\n",
       "      <td>Oromiya</td>\n",
       "      <td>UN</td>\n",
       "      <td>No</td>\n",
       "      <td>19</td>\n",
       "      <td>Home</td>\n",
       "      <td>0</td>\n",
       "      <td>No - test given</td>\n",
       "      <td>WDA</td>\n",
       "      <td>Individual Session</td>\n",
       "      <td>None</td>\n",
       "      <td>No</td>\n",
       "      <td>None</td>\n",
       "    </tr>\n",
       "    <tr>\n",
       "      <th>1</th>\n",
       "      <td>Oromiya</td>\n",
       "      <td>N - Not pregnant</td>\n",
       "      <td>No</td>\n",
       "      <td>23</td>\n",
       "      <td>Home</td>\n",
       "      <td>2</td>\n",
       "      <td>No - test given</td>\n",
       "      <td>Navigator</td>\n",
       "      <td>Group Session</td>\n",
       "      <td>None</td>\n",
       "      <td>No</td>\n",
       "      <td>None</td>\n",
       "    </tr>\n",
       "    <tr>\n",
       "      <th>2</th>\n",
       "      <td>Oromiya</td>\n",
       "      <td>N - Not pregnant</td>\n",
       "      <td>No</td>\n",
       "      <td>20</td>\n",
       "      <td>Home</td>\n",
       "      <td>1</td>\n",
       "      <td>No - test given</td>\n",
       "      <td>Navigator</td>\n",
       "      <td>Group Session</td>\n",
       "      <td>None</td>\n",
       "      <td>Yes</td>\n",
       "      <td>Implant 5 year Jadelle</td>\n",
       "    </tr>\n",
       "    <tr>\n",
       "      <th>3</th>\n",
       "      <td>Oromiya</td>\n",
       "      <td>N - Not pregnant</td>\n",
       "      <td>No</td>\n",
       "      <td>24</td>\n",
       "      <td>Home</td>\n",
       "      <td>2</td>\n",
       "      <td>No - test given</td>\n",
       "      <td>HEW</td>\n",
       "      <td>Group Session</td>\n",
       "      <td>None</td>\n",
       "      <td>Yes</td>\n",
       "      <td>Implant 3 year Implanon</td>\n",
       "    </tr>\n",
       "    <tr>\n",
       "      <th>4</th>\n",
       "      <td>Oromiya</td>\n",
       "      <td>N - Not pregnant</td>\n",
       "      <td>Yes</td>\n",
       "      <td>19</td>\n",
       "      <td>Health Post</td>\n",
       "      <td>1</td>\n",
       "      <td>No - test given</td>\n",
       "      <td>Navigator</td>\n",
       "      <td>Group Session</td>\n",
       "      <td>None</td>\n",
       "      <td>Yes</td>\n",
       "      <td>IUCD</td>\n",
       "    </tr>\n",
       "  </tbody>\n",
       "</table>\n",
       "</div>"
      ],
      "text/plain": [
       "    Region          Pregnant  Hus  Age       Premise  Children  \\\n",
       "0  Oromiya                UN   No   19         Home          0   \n",
       "1  Oromiya  N - Not pregnant   No   23         Home          2   \n",
       "2  Oromiya  N - Not pregnant   No   20         Home          1   \n",
       "3  Oromiya  N - Not pregnant   No   24         Home          2   \n",
       "4  Oromiya  N - Not pregnant  Yes   19  Health Post          1   \n",
       "\n",
       "            P_test Referred_by              S_type   CEC Referred  \\\n",
       "0  No - test given         WDA  Individual Session  None       No   \n",
       "1  No - test given   Navigator       Group Session  None       No   \n",
       "2  No - test given   Navigator       Group Session  None      Yes   \n",
       "3  No - test given         HEW       Group Session  None      Yes   \n",
       "4  No - test given   Navigator       Group Session  None      Yes   \n",
       "\n",
       "                    Method  \n",
       "0                     None  \n",
       "1                     None  \n",
       "2   Implant 5 year Jadelle  \n",
       "3  Implant 3 year Implanon  \n",
       "4                     IUCD  "
      ]
     },
     "execution_count": 16,
     "metadata": {},
     "output_type": "execute_result"
    }
   ],
   "source": [
    "cols = ['Region', 'Pregnant', 'Hus', 'Age', 'Premise', 'Children', 'P_test', 'Referred_by', 'S_type', 'CEC', 'Referred', 'Method']\n",
    "data3 = data2[cols]\n",
    "data3.head(5)"
   ]
  },
  {
   "cell_type": "markdown",
   "id": "3f9a4972",
   "metadata": {},
   "source": [
    "# Data Transformation"
   ]
  },
  {
   "cell_type": "code",
   "execution_count": 17,
   "id": "b88986e3",
   "metadata": {},
   "outputs": [],
   "source": [
    "label_encoder = LabelEncoder()"
   ]
  },
  {
   "cell_type": "code",
   "execution_count": 18,
   "id": "1b8bd592",
   "metadata": {},
   "outputs": [],
   "source": [
    "data3.Region = label_encoder.fit_transform(data3['Region'])\n",
    "data3.Hus = label_encoder.fit_transform(data3['Hus'])\n",
    "data3.Premise = label_encoder.fit_transform(data3['Premise'])\n",
    "data3.Children = label_encoder.fit_transform(data3['Children'])\n",
    "data3.P_test = label_encoder.fit_transform(data3['P_test'])\n",
    "data3.Referred_by = label_encoder.fit_transform(data3['Referred_by'])\n",
    "data3.S_type = label_encoder.fit_transform(data3['S_type'])\n",
    "data3.CEC = label_encoder.fit_transform(data3['CEC'])\n",
    "data3.Pregnant = label_encoder.fit_transform(data3['Pregnant'])\n",
    "data3.Referred = label_encoder.fit_transform(data3['Referred'])\n",
    "data3.Method = label_encoder.fit_transform(data3['Method'])"
   ]
  },
  {
   "cell_type": "code",
   "execution_count": 19,
   "id": "35b76fb8",
   "metadata": {},
   "outputs": [
    {
     "data": {
      "text/html": [
       "<div>\n",
       "<style scoped>\n",
       "    .dataframe tbody tr th:only-of-type {\n",
       "        vertical-align: middle;\n",
       "    }\n",
       "\n",
       "    .dataframe tbody tr th {\n",
       "        vertical-align: top;\n",
       "    }\n",
       "\n",
       "    .dataframe thead th {\n",
       "        text-align: right;\n",
       "    }\n",
       "</style>\n",
       "<table border=\"1\" class=\"dataframe\">\n",
       "  <thead>\n",
       "    <tr style=\"text-align: right;\">\n",
       "      <th></th>\n",
       "      <th>Region</th>\n",
       "      <th>Pregnant</th>\n",
       "      <th>Hus</th>\n",
       "      <th>Age</th>\n",
       "      <th>Premise</th>\n",
       "      <th>Children</th>\n",
       "      <th>P_test</th>\n",
       "      <th>Referred_by</th>\n",
       "      <th>S_type</th>\n",
       "      <th>CEC</th>\n",
       "      <th>Referred</th>\n",
       "      <th>Method</th>\n",
       "    </tr>\n",
       "  </thead>\n",
       "  <tbody>\n",
       "    <tr>\n",
       "      <th>0</th>\n",
       "      <td>0</td>\n",
       "      <td>1</td>\n",
       "      <td>0</td>\n",
       "      <td>19</td>\n",
       "      <td>1</td>\n",
       "      <td>0</td>\n",
       "      <td>0</td>\n",
       "      <td>5</td>\n",
       "      <td>1</td>\n",
       "      <td>0</td>\n",
       "      <td>0</td>\n",
       "      <td>5</td>\n",
       "    </tr>\n",
       "    <tr>\n",
       "      <th>1</th>\n",
       "      <td>0</td>\n",
       "      <td>0</td>\n",
       "      <td>0</td>\n",
       "      <td>23</td>\n",
       "      <td>1</td>\n",
       "      <td>2</td>\n",
       "      <td>0</td>\n",
       "      <td>4</td>\n",
       "      <td>0</td>\n",
       "      <td>0</td>\n",
       "      <td>0</td>\n",
       "      <td>5</td>\n",
       "    </tr>\n",
       "    <tr>\n",
       "      <th>2</th>\n",
       "      <td>0</td>\n",
       "      <td>0</td>\n",
       "      <td>0</td>\n",
       "      <td>20</td>\n",
       "      <td>1</td>\n",
       "      <td>1</td>\n",
       "      <td>0</td>\n",
       "      <td>4</td>\n",
       "      <td>0</td>\n",
       "      <td>0</td>\n",
       "      <td>1</td>\n",
       "      <td>3</td>\n",
       "    </tr>\n",
       "    <tr>\n",
       "      <th>3</th>\n",
       "      <td>0</td>\n",
       "      <td>0</td>\n",
       "      <td>0</td>\n",
       "      <td>24</td>\n",
       "      <td>1</td>\n",
       "      <td>2</td>\n",
       "      <td>0</td>\n",
       "      <td>2</td>\n",
       "      <td>0</td>\n",
       "      <td>0</td>\n",
       "      <td>1</td>\n",
       "      <td>2</td>\n",
       "    </tr>\n",
       "    <tr>\n",
       "      <th>4</th>\n",
       "      <td>0</td>\n",
       "      <td>0</td>\n",
       "      <td>1</td>\n",
       "      <td>19</td>\n",
       "      <td>0</td>\n",
       "      <td>1</td>\n",
       "      <td>0</td>\n",
       "      <td>4</td>\n",
       "      <td>0</td>\n",
       "      <td>0</td>\n",
       "      <td>1</td>\n",
       "      <td>1</td>\n",
       "    </tr>\n",
       "  </tbody>\n",
       "</table>\n",
       "</div>"
      ],
      "text/plain": [
       "   Region  Pregnant  Hus  Age  Premise  Children  P_test  Referred_by  S_type  \\\n",
       "0       0         1    0   19        1         0       0            5       1   \n",
       "1       0         0    0   23        1         2       0            4       0   \n",
       "2       0         0    0   20        1         1       0            4       0   \n",
       "3       0         0    0   24        1         2       0            2       0   \n",
       "4       0         0    1   19        0         1       0            4       0   \n",
       "\n",
       "   CEC  Referred  Method  \n",
       "0    0         0       5  \n",
       "1    0         0       5  \n",
       "2    0         1       3  \n",
       "3    0         1       2  \n",
       "4    0         1       1  "
      ]
     },
     "execution_count": 19,
     "metadata": {},
     "output_type": "execute_result"
    }
   ],
   "source": [
    "data3.head()"
   ]
  },
  {
   "cell_type": "markdown",
   "id": "53637056",
   "metadata": {},
   "source": [
    "# 1. girl referred to health post or msi outreach team to take up a method"
   ]
  },
  {
   "cell_type": "code",
   "execution_count": 20,
   "id": "b63e0ac7",
   "metadata": {},
   "outputs": [],
   "source": [
    "data4 = data3.drop(columns=[\"Method\"], axis = 1)"
   ]
  },
  {
   "cell_type": "code",
   "execution_count": 21,
   "id": "806ba855",
   "metadata": {},
   "outputs": [],
   "source": [
    "x = data3[[\"Region\", \"Hus\", \"Age\", \"Premise\", \"Children\", \"P_test\", \"Referred_by\", \"S_type\", \"CEC\", \"Pregnant\"]]\n",
    "y = data3[[\"Referred\"]]"
   ]
  },
  {
   "cell_type": "markdown",
   "id": "1e1a522e",
   "metadata": {},
   "source": [
    "# Class Balancing"
   ]
  },
  {
   "cell_type": "code",
   "execution_count": 22,
   "id": "5db7dff6",
   "metadata": {},
   "outputs": [
    {
     "data": {
      "image/png": "[encoded data removed]",
      "text/plain": [
       "<Figure size 720x432 with 1 Axes>"
      ]
     },
     "metadata": {},
     "output_type": "display_data"
    }
   ],
   "source": [
    "warnings.filterwarnings('ignore')\n",
    "class_count = data3['Referred'].value_counts()\n",
    "sns.set(style=\"darkgrid\")\n",
    "sns.barplot(class_count.index, class_count.values, alpha=0.9)\n",
    "plt.title('Frequency Distribution of Class')\n",
    "plt.ylabel('Number of girls', fontsize=12)\n",
    "plt.xlabel('Referred', fontsize=12)\n",
    "plt.show()"
   ]
  },
  {
   "cell_type": "markdown",
   "id": "d5d505a6",
   "metadata": {},
   "source": [
    "#over-sampling with smote"
   ]
  },
  {
   "cell_type": "code",
   "execution_count": 23,
   "id": "7248a92a",
   "metadata": {},
   "outputs": [],
   "source": [
    "# pip install imblearn"
   ]
  },
  {
   "cell_type": "code",
   "execution_count": 24,
   "id": "5b96b9c7",
   "metadata": {},
   "outputs": [],
   "source": [
    "from imblearn import under_sampling, over_sampling\n",
    "from imblearn.over_sampling import SMOTE"
   ]
  },
  {
   "cell_type": "code",
   "execution_count": 25,
   "id": "5251ea43",
   "metadata": {},
   "outputs": [],
   "source": [
    "smote = SMOTE()\n",
    "X_re ,Y_re= smote.fit_resample(x,y)"
   ]
  },
  {
   "cell_type": "code",
   "execution_count": 26,
   "id": "c148ca06",
   "metadata": {},
   "outputs": [
    {
     "data": {
      "text/plain": [
       "45442"
      ]
     },
     "execution_count": 26,
     "metadata": {},
     "output_type": "execute_result"
    }
   ],
   "source": [
    "len(X_re)"
   ]
  },
  {
   "cell_type": "markdown",
   "id": "cf716835",
   "metadata": {},
   "source": [
    "#under sampling with random under sampler"
   ]
  },
  {
   "cell_type": "code",
   "execution_count": 27,
   "id": "a8d60df4",
   "metadata": {},
   "outputs": [],
   "source": [
    "from imblearn.under_sampling import RandomUnderSampler"
   ]
  },
  {
   "cell_type": "code",
   "execution_count": 28,
   "id": "3b8fba2c",
   "metadata": {},
   "outputs": [],
   "source": [
    "under = RandomUnderSampler()\n",
    "X_res ,Y_res= under.fit_resample(x, y)"
   ]
  },
  {
   "cell_type": "code",
   "execution_count": 29,
   "id": "70509837",
   "metadata": {},
   "outputs": [
    {
     "data": {
      "text/plain": [
       "10738"
      ]
     },
     "execution_count": 29,
     "metadata": {},
     "output_type": "execute_result"
    }
   ],
   "source": [
    "len(X_res)"
   ]
  },
  {
   "cell_type": "markdown",
   "id": "a635e020",
   "metadata": {},
   "source": [
    "# Cross Validation"
   ]
  },
  {
   "cell_type": "code",
   "execution_count": 30,
   "id": "a6fb752d",
   "metadata": {},
   "outputs": [],
   "source": [
    "# evaluate Models using 10-fold cross-validation\n",
    "from numpy import mean\n",
    "#from numpy import std\n",
    "from sklearn.datasets import make_classification\n",
    "from sklearn.model_selection import KFold\n",
    "from sklearn.model_selection import cross_val_score\n",
    "# prepare the cross-validation procedure\n",
    "cv = KFold(n_splits=10, random_state=1, shuffle=True)\n",
    "#cv2 = KFold(n_splits=5, random_state=1, shuffle=True)\n",
    "# create model"
   ]
  },
  {
   "cell_type": "markdown",
   "id": "cf4f1780",
   "metadata": {},
   "source": [
    "# Algorithm"
   ]
  },
  {
   "cell_type": "markdown",
   "id": "762c23b4",
   "metadata": {},
   "source": [
    "#Decision Tree"
   ]
  },
  {
   "cell_type": "code",
   "execution_count": 31,
   "id": "669a53cb",
   "metadata": {},
   "outputs": [],
   "source": [
    "from sklearn.tree import DecisionTreeClassifier,export_graphviz\n",
    "dt_clf = DecisionTreeClassifier()"
   ]
  },
  {
   "cell_type": "code",
   "execution_count": 32,
   "id": "eee3ceb7",
   "metadata": {},
   "outputs": [
    {
     "name": "stdout",
     "output_type": "stream",
     "text": [
      "Cross Validation Accuracy DT: 0.8368\n"
     ]
    }
   ],
   "source": [
    "#with unbalanced data\n",
    "dt_cv_accuracy = cross_val_score(dt_clf, x, y, cv=cv).mean()\n",
    "print(\"Cross Validation Accuracy DT: %.4f\" % dt_cv_accuracy)"
   ]
  },
  {
   "cell_type": "code",
   "execution_count": 33,
   "id": "0b78b692",
   "metadata": {},
   "outputs": [
    {
     "name": "stdout",
     "output_type": "stream",
     "text": [
      "Cross Validation Accuracy DT: 0.7810\n"
     ]
    }
   ],
   "source": [
    "#balanced class with smote\n",
    "dt_cv_accuracy1 = cross_val_score(dt_clf, X_re, Y_re, cv=cv).mean()\n",
    "print(\"Cross Validation Accuracy DT: %.4f\" % dt_cv_accuracy1)"
   ]
  },
  {
   "cell_type": "code",
   "execution_count": 34,
   "id": "fb3fd915",
   "metadata": {},
   "outputs": [
    {
     "name": "stdout",
     "output_type": "stream",
     "text": [
      "Cross Validation Accuracy DT: 0.7202\n"
     ]
    }
   ],
   "source": [
    "#balanced data with random under sampler\n",
    "dt_cv_accuracy2 = cross_val_score(dt_clf, X_res, Y_res, cv=cv).mean()\n",
    "print(\"Cross Validation Accuracy DT: %.4f\" % dt_cv_accuracy2)"
   ]
  },
  {
   "cell_type": "markdown",
   "id": "8414bd03",
   "metadata": {},
   "source": [
    "#Gradiant Boosting"
   ]
  },
  {
   "cell_type": "code",
   "execution_count": 35,
   "id": "4052b86d",
   "metadata": {},
   "outputs": [],
   "source": [
    "from sklearn.ensemble import GradientBoostingClassifier\n",
    "gbMod = GradientBoostingClassifier()"
   ]
  },
  {
   "cell_type": "code",
   "execution_count": 36,
   "id": "8c006bde",
   "metadata": {},
   "outputs": [
    {
     "name": "stdout",
     "output_type": "stream",
     "text": [
      "Cross Validation Accuracy GB: 0.8448\n"
     ]
    }
   ],
   "source": [
    "#with unbalanced data\n",
    "gb_accuracy = cross_val_score(gbMod, x, y, cv=cv).mean()\n",
    "print(\"Cross Validation Accuracy GB: %.4f\" % gb_accuracy)"
   ]
  },
  {
   "cell_type": "code",
   "execution_count": 37,
   "id": "ffff601b",
   "metadata": {},
   "outputs": [
    {
     "name": "stdout",
     "output_type": "stream",
     "text": [
      "Cross Validation Accuracy GB: 0.7470\n"
     ]
    }
   ],
   "source": [
    "#balanced data with smote\n",
    "gb_accuracy1 = cross_val_score(gbMod, X_re, Y_re, cv=cv).mean()\n",
    "print(\"Cross Validation Accuracy GB: %.4f\" % gb_accuracy1)"
   ]
  },
  {
   "cell_type": "code",
   "execution_count": 38,
   "id": "a155a41f",
   "metadata": {},
   "outputs": [
    {
     "name": "stdout",
     "output_type": "stream",
     "text": [
      "Cross Validation Accuracy GB: 0.7395\n"
     ]
    }
   ],
   "source": [
    "#balanced data with random under sampler\n",
    "gb_accuracy2 = cross_val_score(gbMod, X_res, Y_res, cv=cv).mean()\n",
    "print(\"Cross Validation Accuracy GB: %.4f\" % gb_accuracy2)"
   ]
  },
  {
   "cell_type": "markdown",
   "id": "0842adaa",
   "metadata": {},
   "source": [
    "#Random Forest"
   ]
  },
  {
   "cell_type": "code",
   "execution_count": 39,
   "id": "cebd4820",
   "metadata": {},
   "outputs": [],
   "source": [
    "from sklearn.ensemble import RandomForestClassifier \n",
    "algorithm =  RandomForestClassifier()"
   ]
  },
  {
   "cell_type": "code",
   "execution_count": 40,
   "id": "441c31d5",
   "metadata": {},
   "outputs": [
    {
     "name": "stdout",
     "output_type": "stream",
     "text": [
      "Accuracy RF: 0.8433\n"
     ]
    }
   ],
   "source": [
    "#with unbalanced data\n",
    "scores = cross_val_score(algorithm, x, y, scoring='accuracy', cv=cv)\n",
    "# report performance\n",
    "print('Accuracy RF: %.4f' % mean(scores))"
   ]
  },
  {
   "cell_type": "code",
   "execution_count": 41,
   "id": "f186b7d7",
   "metadata": {},
   "outputs": [
    {
     "name": "stdout",
     "output_type": "stream",
     "text": [
      "Accuracy RF: 0.7821\n"
     ]
    }
   ],
   "source": [
    "#balanced data with smote\n",
    "scores1 = cross_val_score(algorithm, X_re, Y_re, scoring='accuracy', cv=cv)\n",
    "# report performance\n",
    "print('Accuracy RF: %.4f' % mean(scores1))"
   ]
  },
  {
   "cell_type": "code",
   "execution_count": 42,
   "id": "4f0803bf",
   "metadata": {},
   "outputs": [
    {
     "name": "stdout",
     "output_type": "stream",
     "text": [
      "Accuracy RF: 0.7256\n"
     ]
    }
   ],
   "source": [
    "#balanced data with random under sampler\n",
    "scores2 = cross_val_score(algorithm, X_res, Y_res, scoring='accuracy', cv=cv, n_jobs=-1)\n",
    "# report performance\n",
    "print('Accuracy RF: %.4f' % mean(scores2))"
   ]
  },
  {
   "cell_type": "markdown",
   "id": "5f34a573",
   "metadata": {},
   "source": [
    "#Multi-layer neural network"
   ]
  },
  {
   "cell_type": "code",
   "execution_count": 43,
   "id": "e85a4948",
   "metadata": {},
   "outputs": [],
   "source": [
    "# Import MLPClassifer \n",
    "from sklearn.neural_network import MLPClassifier"
   ]
  },
  {
   "cell_type": "code",
   "execution_count": 44,
   "id": "910a55b6",
   "metadata": {},
   "outputs": [
    {
     "name": "stdout",
     "output_type": "stream",
     "text": [
      "Accuracy of MLNN: 0.8400\n"
     ]
    }
   ],
   "source": [
    "#without class balancing\n",
    "model1 = MLPClassifier(hidden_layer_sizes=(5,2),#number of attritube * class values under square root \n",
    "                    random_state=1,\n",
    "                    verbose=False,\n",
    "                    learning_rate_init=0.01)\n",
    "# evaluate model\n",
    "scores = cross_val_score(model1, x, y, scoring='accuracy', cv=cv, n_jobs=-1)\n",
    "# report performance\n",
    "print('Accuracy of MLNN: %.4f' % mean(scores))"
   ]
  },
  {
   "cell_type": "code",
   "execution_count": 45,
   "id": "0ec0e45c",
   "metadata": {},
   "outputs": [
    {
     "name": "stdout",
     "output_type": "stream",
     "text": [
      "Accuracy of MLNN: 0.7351\n"
     ]
    }
   ],
   "source": [
    "# evaluate model\n",
    "scores1 = cross_val_score(model1, X_re, Y_re, scoring='accuracy', cv=cv, n_jobs=-1)\n",
    "# report performance\n",
    "print('Accuracy of MLNN: %.4f' % mean(scores1))"
   ]
  },
  {
   "cell_type": "code",
   "execution_count": 46,
   "id": "8f04ba67",
   "metadata": {},
   "outputs": [
    {
     "name": "stdout",
     "output_type": "stream",
     "text": [
      "Accuracy of MLNN: 0.7242\n"
     ]
    }
   ],
   "source": [
    "# evaluate model\n",
    "scores2 = cross_val_score(model1, X_res, Y_res, scoring='accuracy', cv=cv, n_jobs=-1)\n",
    "# report performance\n",
    "print('Accuracy of MLNN: %.4f' % mean(scores2))"
   ]
  },
  {
   "cell_type": "markdown",
   "id": "18db03a4",
   "metadata": {},
   "source": [
    "# Feature Selection"
   ]
  },
  {
   "cell_type": "markdown",
   "id": "80a7983d",
   "metadata": {},
   "source": [
    "#chi2 test for feature selection"
   ]
  },
  {
   "cell_type": "code",
   "execution_count": 47,
   "id": "68ccac3f",
   "metadata": {},
   "outputs": [],
   "source": [
    "from sklearn.feature_selection import SelectKBest, chi2\n",
    "\n",
    "feature_selector = SelectKBest(chi2, k = \"all\")\n",
    "fit = feature_selector.fit(x,y)\n",
    "\n",
    "p_values = pd.DataFrame(fit.pvalues_)\n",
    "scores = pd.DataFrame(fit.scores_)\n",
    "input_variable_names = pd.DataFrame(x.columns)\n",
    "summary_stats = pd.concat([input_variable_names, p_values, scores], axis = 1)\n",
    "summary_stats.columns = [\"input_variable\", \"p_value\", \"chi2_score\"]\n",
    "summary_stats.sort_values(by = \"p_value\", inplace = True)\n",
    "\n",
    "p_value_threshold = 0.05\n",
    "score_threshold = 5\n",
    "\n",
    "selected_variables = summary_stats.loc[(summary_stats[\"chi2_score\"] >= score_threshold) &\n",
    "                                       (summary_stats[\"p_value\"] <= p_value_threshold)]\n",
    "selected_variables1 = selected_variables[\"input_variable\"]\n",
    "X_new = x[selected_variables]"
   ]
  },
  {
   "cell_type": "code",
   "execution_count": 48,
   "id": "28e2d6d7",
   "metadata": {},
   "outputs": [
    {
     "data": {
      "text/plain": [
       "9       Pregnant\n",
       "5         P_test\n",
       "1            Hus\n",
       "4       Children\n",
       "6    Referred_by\n",
       "8            CEC\n",
       "0         Region\n",
       "3        Premise\n",
       "2            Age\n",
       "Name: input_variable, dtype: object"
      ]
     },
     "execution_count": 48,
     "metadata": {},
     "output_type": "execute_result"
    }
   ],
   "source": [
    "selected_variables1"
   ]
  },
  {
   "cell_type": "code",
   "execution_count": 49,
   "id": "f7c1db48",
   "metadata": {},
   "outputs": [],
   "source": [
    "X = data3[[\"Region\", \"Hus\", \"Premise\", \"Children\", \"P_test\", \"Referred_by\", \"S_type\", \"CEC\", \"Pregnant\"]]\n",
    "Y = data3[[\"Referred\"]]"
   ]
  },
  {
   "cell_type": "markdown",
   "id": "40ed4b90",
   "metadata": {},
   "source": [
    "#Decision tree"
   ]
  },
  {
   "cell_type": "code",
   "execution_count": 50,
   "id": "0dc03b10",
   "metadata": {},
   "outputs": [
    {
     "name": "stdout",
     "output_type": "stream",
     "text": [
      "Cross Validation Accuracy DT: 0.8463\n"
     ]
    }
   ],
   "source": [
    "dt_cv_accuracy1 = cross_val_score(dt_clf, X, Y, cv=cv).mean()\n",
    "print(\"Cross Validation Accuracy DT: %.4f\" % dt_cv_accuracy1)"
   ]
  },
  {
   "cell_type": "markdown",
   "id": "0e4e80f5",
   "metadata": {},
   "source": [
    "#Gradiant boosting"
   ]
  },
  {
   "cell_type": "code",
   "execution_count": 51,
   "id": "27dcddc8",
   "metadata": {},
   "outputs": [
    {
     "name": "stdout",
     "output_type": "stream",
     "text": [
      "Cross Validation Accuracy DT: 0.8470\n"
     ]
    }
   ],
   "source": [
    "gb_accuracy1 = cross_val_score(gbMod, X, Y, cv=cv).mean()\n",
    "print(\"Cross Validation Accuracy DT: %.4f\" % gb_accuracy1)"
   ]
  },
  {
   "cell_type": "markdown",
   "id": "0b145eae",
   "metadata": {},
   "source": [
    "#Random Forest"
   ]
  },
  {
   "cell_type": "code",
   "execution_count": 52,
   "id": "450012c4",
   "metadata": {},
   "outputs": [
    {
     "name": "stdout",
     "output_type": "stream",
     "text": [
      "Accuracy RF: 0.8475\n"
     ]
    }
   ],
   "source": [
    "scores1 = cross_val_score(algorithm, X, Y, scoring='accuracy', cv=cv, n_jobs=-1)\n",
    "# report performance\n",
    "print('Accuracy RF: %.4f' % mean(scores1))"
   ]
  },
  {
   "cell_type": "markdown",
   "id": "3bbfaa15",
   "metadata": {},
   "source": [
    "#Multi-layer neural network"
   ]
  },
  {
   "cell_type": "code",
   "execution_count": 53,
   "id": "9fa3755c",
   "metadata": {},
   "outputs": [
    {
     "name": "stdout",
     "output_type": "stream",
     "text": [
      "Accuracy of MLNN: 0.809\n"
     ]
    }
   ],
   "source": [
    "# evaluate model\n",
    "scores = cross_val_score(model1, X, Y, scoring='accuracy', cv=cv, n_jobs=-1)\n",
    "# report performance\n",
    "print('Accuracy of MLNN: %.3f' % mean(scores))"
   ]
  },
  {
   "cell_type": "markdown",
   "id": "0dd3f0f8",
   "metadata": {},
   "source": [
    "# 2. contraceptive method received"
   ]
  },
  {
   "cell_type": "code",
   "execution_count": 54,
   "id": "96573f32",
   "metadata": {},
   "outputs": [],
   "source": [
    "x1 = data3[[\"Region\", \"Hus\", \"Age\", \"Premise\", \"Children\", \"P_test\", \"Referred_by\", \"S_type\", \"CEC\", \"Pregnant\", \"Referred\"]]\n",
    "y1 = data3[[\"Method\"]]"
   ]
  },
  {
   "cell_type": "code",
   "execution_count": 55,
   "id": "a7d5d54e",
   "metadata": {},
   "outputs": [],
   "source": [
    "#define values\n",
    "values = ['None', 'none']\n",
    "\n",
    "#drop rows that contain any value in the list\n",
    "data6 = data2[data2.Method.isin(values) == False]"
   ]
  },
  {
   "cell_type": "code",
   "execution_count": 56,
   "id": "9da91ca5",
   "metadata": {},
   "outputs": [
    {
     "data": {
      "text/html": [
       "<div>\n",
       "<style scoped>\n",
       "    .dataframe tbody tr th:only-of-type {\n",
       "        vertical-align: middle;\n",
       "    }\n",
       "\n",
       "    .dataframe tbody tr th {\n",
       "        vertical-align: top;\n",
       "    }\n",
       "\n",
       "    .dataframe thead th {\n",
       "        text-align: right;\n",
       "    }\n",
       "</style>\n",
       "<table border=\"1\" class=\"dataframe\">\n",
       "  <thead>\n",
       "    <tr style=\"text-align: right;\">\n",
       "      <th></th>\n",
       "      <th>Region</th>\n",
       "      <th>Pregnant</th>\n",
       "      <th>Hus</th>\n",
       "      <th>Referred</th>\n",
       "      <th>Age</th>\n",
       "      <th>Premise</th>\n",
       "      <th>Method</th>\n",
       "      <th>Children</th>\n",
       "      <th>P_test</th>\n",
       "      <th>Referred_by</th>\n",
       "      <th>S_type</th>\n",
       "      <th>CEC</th>\n",
       "    </tr>\n",
       "  </thead>\n",
       "  <tbody>\n",
       "    <tr>\n",
       "      <th>2</th>\n",
       "      <td>Oromiya</td>\n",
       "      <td>N - Not pregnant</td>\n",
       "      <td>No</td>\n",
       "      <td>Yes</td>\n",
       "      <td>20</td>\n",
       "      <td>Home</td>\n",
       "      <td>Implant 5 year Jadelle</td>\n",
       "      <td>1</td>\n",
       "      <td>No - test given</td>\n",
       "      <td>Navigator</td>\n",
       "      <td>Group Session</td>\n",
       "      <td>None</td>\n",
       "    </tr>\n",
       "    <tr>\n",
       "      <th>3</th>\n",
       "      <td>Oromiya</td>\n",
       "      <td>N - Not pregnant</td>\n",
       "      <td>No</td>\n",
       "      <td>Yes</td>\n",
       "      <td>24</td>\n",
       "      <td>Home</td>\n",
       "      <td>Implant 3 year Implanon</td>\n",
       "      <td>2</td>\n",
       "      <td>No - test given</td>\n",
       "      <td>HEW</td>\n",
       "      <td>Group Session</td>\n",
       "      <td>None</td>\n",
       "    </tr>\n",
       "    <tr>\n",
       "      <th>4</th>\n",
       "      <td>Oromiya</td>\n",
       "      <td>N - Not pregnant</td>\n",
       "      <td>Yes</td>\n",
       "      <td>Yes</td>\n",
       "      <td>19</td>\n",
       "      <td>Health Post</td>\n",
       "      <td>IUCD</td>\n",
       "      <td>1</td>\n",
       "      <td>No - test given</td>\n",
       "      <td>Navigator</td>\n",
       "      <td>Group Session</td>\n",
       "      <td>None</td>\n",
       "    </tr>\n",
       "    <tr>\n",
       "      <th>5</th>\n",
       "      <td>Oromiya</td>\n",
       "      <td>N - Not pregnant</td>\n",
       "      <td>Yes</td>\n",
       "      <td>Yes</td>\n",
       "      <td>19</td>\n",
       "      <td>Health Post</td>\n",
       "      <td>Implant 3 year Implanon</td>\n",
       "      <td>1</td>\n",
       "      <td>No - test given</td>\n",
       "      <td>WDA</td>\n",
       "      <td>Group Session</td>\n",
       "      <td>None</td>\n",
       "    </tr>\n",
       "    <tr>\n",
       "      <th>6</th>\n",
       "      <td>Oromiya</td>\n",
       "      <td>N - Not pregnant</td>\n",
       "      <td>No</td>\n",
       "      <td>Yes</td>\n",
       "      <td>22</td>\n",
       "      <td>Health Post</td>\n",
       "      <td>Implant 5 year Jadelle</td>\n",
       "      <td>1</td>\n",
       "      <td>No - test given</td>\n",
       "      <td>Navigator</td>\n",
       "      <td>Group Session</td>\n",
       "      <td>None</td>\n",
       "    </tr>\n",
       "    <tr>\n",
       "      <th>...</th>\n",
       "      <td>...</td>\n",
       "      <td>...</td>\n",
       "      <td>...</td>\n",
       "      <td>...</td>\n",
       "      <td>...</td>\n",
       "      <td>...</td>\n",
       "      <td>...</td>\n",
       "      <td>...</td>\n",
       "      <td>...</td>\n",
       "      <td>...</td>\n",
       "      <td>...</td>\n",
       "      <td>...</td>\n",
       "    </tr>\n",
       "    <tr>\n",
       "      <th>33007</th>\n",
       "      <td>SNNP</td>\n",
       "      <td>N - Not pregnant</td>\n",
       "      <td>No</td>\n",
       "      <td>Yes</td>\n",
       "      <td>22</td>\n",
       "      <td>Meeting hall</td>\n",
       "      <td>Implant 3 year Implanon</td>\n",
       "      <td>3</td>\n",
       "      <td>No - test given</td>\n",
       "      <td>WDA</td>\n",
       "      <td>Group Session</td>\n",
       "      <td>None</td>\n",
       "    </tr>\n",
       "    <tr>\n",
       "      <th>33008</th>\n",
       "      <td>SNNP</td>\n",
       "      <td>N - Not pregnant</td>\n",
       "      <td>No</td>\n",
       "      <td>Yes</td>\n",
       "      <td>22</td>\n",
       "      <td>Meeting hall</td>\n",
       "      <td>Implant 5 year Jadelle</td>\n",
       "      <td>3</td>\n",
       "      <td>No - test given</td>\n",
       "      <td>WDA</td>\n",
       "      <td>Group Session</td>\n",
       "      <td>None</td>\n",
       "    </tr>\n",
       "    <tr>\n",
       "      <th>33009</th>\n",
       "      <td>SNNP</td>\n",
       "      <td>N - Not pregnant</td>\n",
       "      <td>Yes</td>\n",
       "      <td>Yes</td>\n",
       "      <td>18</td>\n",
       "      <td>Home</td>\n",
       "      <td>Implant 5 year Jadelle</td>\n",
       "      <td>2</td>\n",
       "      <td>No - test given</td>\n",
       "      <td>Navigator</td>\n",
       "      <td>Group Session</td>\n",
       "      <td>None</td>\n",
       "    </tr>\n",
       "    <tr>\n",
       "      <th>33010</th>\n",
       "      <td>SNNP</td>\n",
       "      <td>N - Not pregnant</td>\n",
       "      <td>Yes</td>\n",
       "      <td>Yes</td>\n",
       "      <td>24</td>\n",
       "      <td>Home</td>\n",
       "      <td>Injection</td>\n",
       "      <td>4</td>\n",
       "      <td>No - test given</td>\n",
       "      <td>Navigator</td>\n",
       "      <td>Group Session</td>\n",
       "      <td>None</td>\n",
       "    </tr>\n",
       "    <tr>\n",
       "      <th>33011</th>\n",
       "      <td>SNNP</td>\n",
       "      <td>N - Not pregnant</td>\n",
       "      <td>Yes</td>\n",
       "      <td>Yes</td>\n",
       "      <td>19</td>\n",
       "      <td>Home</td>\n",
       "      <td>Injection</td>\n",
       "      <td>2</td>\n",
       "      <td>No - test given</td>\n",
       "      <td>Navigator</td>\n",
       "      <td>Group Session</td>\n",
       "      <td>None</td>\n",
       "    </tr>\n",
       "  </tbody>\n",
       "</table>\n",
       "<p>22721 rows × 12 columns</p>\n",
       "</div>"
      ],
      "text/plain": [
       "        Region          Pregnant  Hus Referred  Age       Premise  \\\n",
       "2      Oromiya  N - Not pregnant   No      Yes   20         Home    \n",
       "3      Oromiya  N - Not pregnant   No      Yes   24         Home    \n",
       "4      Oromiya  N - Not pregnant  Yes      Yes   19  Health Post    \n",
       "5      Oromiya  N - Not pregnant  Yes      Yes   19  Health Post    \n",
       "6      Oromiya  N - Not pregnant   No      Yes   22  Health Post    \n",
       "...        ...               ...  ...      ...  ...           ...   \n",
       "33007     SNNP  N - Not pregnant   No      Yes   22  Meeting hall   \n",
       "33008     SNNP  N - Not pregnant   No      Yes   22  Meeting hall   \n",
       "33009     SNNP  N - Not pregnant  Yes      Yes   18         Home    \n",
       "33010     SNNP  N - Not pregnant  Yes      Yes   24         Home    \n",
       "33011     SNNP  N - Not pregnant  Yes      Yes   19         Home    \n",
       "\n",
       "                        Method  Children           P_test Referred_by  \\\n",
       "2       Implant 5 year Jadelle         1  No - test given   Navigator   \n",
       "3      Implant 3 year Implanon         2  No - test given         HEW   \n",
       "4                         IUCD         1  No - test given   Navigator   \n",
       "5      Implant 3 year Implanon         1  No - test given         WDA   \n",
       "6       Implant 5 year Jadelle         1  No - test given   Navigator   \n",
       "...                        ...       ...              ...         ...   \n",
       "33007  Implant 3 year Implanon         3  No - test given         WDA   \n",
       "33008   Implant 5 year Jadelle         3  No - test given         WDA   \n",
       "33009   Implant 5 year Jadelle         2  No - test given   Navigator   \n",
       "33010                Injection         4  No - test given   Navigator   \n",
       "33011                Injection         2  No - test given   Navigator   \n",
       "\n",
       "              S_type   CEC  \n",
       "2      Group Session  None  \n",
       "3      Group Session  None  \n",
       "4      Group Session  None  \n",
       "5      Group Session  None  \n",
       "6      Group Session  None  \n",
       "...              ...   ...  \n",
       "33007  Group Session  None  \n",
       "33008  Group Session  None  \n",
       "33009  Group Session  None  \n",
       "33010  Group Session  None  \n",
       "33011  Group Session  None  \n",
       "\n",
       "[22721 rows x 12 columns]"
      ]
     },
     "execution_count": 56,
     "metadata": {},
     "output_type": "execute_result"
    }
   ],
   "source": [
    "data6"
   ]
  },
  {
   "cell_type": "code",
   "execution_count": 57,
   "id": "e75bf8a9",
   "metadata": {},
   "outputs": [],
   "source": [
    "data6.Region = label_encoder.fit_transform(data6['Region'])\n",
    "data6.Hus = label_encoder.fit_transform(data6['Hus'])\n",
    "data6.Premise = label_encoder.fit_transform(data6['Premise'])\n",
    "data6.Children = label_encoder.fit_transform(data6['Children'])\n",
    "data6.P_test = label_encoder.fit_transform(data6['P_test'])\n",
    "data6.Referred_by = label_encoder.fit_transform(data6['Referred_by'])\n",
    "data6.S_type = label_encoder.fit_transform(data6['S_type'])\n",
    "data6.CEC = label_encoder.fit_transform(data6['CEC'])\n",
    "data6.Pregnant = label_encoder.fit_transform(data6['Pregnant'])\n",
    "data6.Referred = label_encoder.fit_transform(data6['Referred'])\n",
    "data6.Method = label_encoder.fit_transform(data6['Method'])"
   ]
  },
  {
   "cell_type": "markdown",
   "id": "aa91f4bf",
   "metadata": {},
   "source": [
    "# Class balancing"
   ]
  },
  {
   "cell_type": "code",
   "execution_count": 58,
   "id": "26b61ab3",
   "metadata": {},
   "outputs": [
    {
     "data": {
      "image/png": "[encoded data removed]",
      "text/plain": [
       "<Figure size 720x432 with 1 Axes>"
      ]
     },
     "metadata": {},
     "output_type": "display_data"
    }
   ],
   "source": [
    "warnings.filterwarnings('ignore')\n",
    "class_count = data6['Method'].value_counts()\n",
    "sns.set(style=\"darkgrid\")\n",
    "sns.barplot(class_count.index, class_count.values, alpha=0.9)\n",
    "plt.title('Frequency Distribution of Class')\n",
    "plt.ylabel('Number of girls', fontsize=12)\n",
    "plt.xlabel('Contraceptive method', fontsize=12)\n",
    "plt.show()"
   ]
  },
  {
   "cell_type": "markdown",
   "id": "864d84c7",
   "metadata": {},
   "source": [
    "#over sampling"
   ]
  },
  {
   "cell_type": "code",
   "execution_count": 59,
   "id": "2ffd231f",
   "metadata": {},
   "outputs": [],
   "source": [
    "x_re ,y_re= smote.fit_resample(x1,y1)"
   ]
  },
  {
   "cell_type": "markdown",
   "id": "834d0140",
   "metadata": {},
   "source": [
    "#under sampling"
   ]
  },
  {
   "cell_type": "code",
   "execution_count": 60,
   "id": "3d74057c",
   "metadata": {},
   "outputs": [],
   "source": [
    "x_res ,y_res= under.fit_resample(x1, y1)"
   ]
  },
  {
   "cell_type": "markdown",
   "id": "6dec5e1f",
   "metadata": {},
   "source": [
    "#Decision Tree"
   ]
  },
  {
   "cell_type": "code",
   "execution_count": 61,
   "id": "70eda3be",
   "metadata": {},
   "outputs": [
    {
     "name": "stdout",
     "output_type": "stream",
     "text": [
      "Cross Validation Accuracy DT: 0.5854\n"
     ]
    }
   ],
   "source": [
    "dt_accuracy = cross_val_score(dt_clf, x1, y1, cv=cv).mean()\n",
    "print(\"Cross Validation Accuracy DT: %.4f\" % dt_accuracy)"
   ]
  },
  {
   "cell_type": "code",
   "execution_count": 62,
   "id": "5e7e35ba",
   "metadata": {},
   "outputs": [
    {
     "name": "stdout",
     "output_type": "stream",
     "text": [
      "Cross Validation Accuracy DT: 0.6237\n"
     ]
    }
   ],
   "source": [
    "dt_accuracy1 = cross_val_score(dt_clf, x_re, y_re, cv=cv).mean()\n",
    "print(\"Cross Validation Accuracy DT: %.4f\" % dt_accuracy1)"
   ]
  },
  {
   "cell_type": "code",
   "execution_count": 63,
   "id": "227b7afb",
   "metadata": {},
   "outputs": [
    {
     "name": "stdout",
     "output_type": "stream",
     "text": [
      "Cross Validation Accuracy DT: 0.3991\n"
     ]
    }
   ],
   "source": [
    "dt_accuracy2 = cross_val_score(dt_clf, x_res, y_res, cv=cv).mean()\n",
    "print(\"Cross Validation Accuracy DT: %.4f\" % dt_accuracy2)"
   ]
  },
  {
   "cell_type": "code",
   "execution_count": 64,
   "id": "d37707d6",
   "metadata": {},
   "outputs": [],
   "source": [
    "#Gradiant Boosting"
   ]
  },
  {
   "cell_type": "code",
   "execution_count": 65,
   "id": "18e9420c",
   "metadata": {},
   "outputs": [
    {
     "name": "stdout",
     "output_type": "stream",
     "text": [
      "Cross Validation Accuracy DT: 0.6056\n"
     ]
    }
   ],
   "source": [
    "gb_acc = cross_val_score(gbMod, x1, y1, cv=cv).mean()\n",
    "print(\"Cross Validation Accuracy DT: %.4f\" % gb_acc)"
   ]
  },
  {
   "cell_type": "code",
   "execution_count": 66,
   "id": "f8bbad6c",
   "metadata": {},
   "outputs": [
    {
     "name": "stdout",
     "output_type": "stream",
     "text": [
      "Cross Validation Accuracy DT: 0.5470\n"
     ]
    }
   ],
   "source": [
    "gb_acc1 = cross_val_score(gbMod, x_re, y_re, cv=cv, n_jobs=-1).mean()\n",
    "print(\"Cross Validation Accuracy DT: %.4f\" % gb_acc1)"
   ]
  },
  {
   "cell_type": "code",
   "execution_count": 67,
   "id": "526b46f6",
   "metadata": {},
   "outputs": [
    {
     "name": "stdout",
     "output_type": "stream",
     "text": [
      "Cross Validation Accuracy DT: 0.4530\n"
     ]
    }
   ],
   "source": [
    "gb_acc2 = cross_val_score(gbMod, x_res, y_res, cv=cv,  n_jobs=-1).mean()\n",
    "print(\"Cross Validation Accuracy DT: %.4f\" % gb_acc2)"
   ]
  },
  {
   "cell_type": "code",
   "execution_count": 68,
   "id": "df0312c0",
   "metadata": {},
   "outputs": [],
   "source": [
    "#Random Forest"
   ]
  },
  {
   "cell_type": "code",
   "execution_count": 69,
   "id": "d91b5648",
   "metadata": {},
   "outputs": [
    {
     "name": "stdout",
     "output_type": "stream",
     "text": [
      "Accuracy RF: 0.5939\n"
     ]
    }
   ],
   "source": [
    "rf_acc = cross_val_score(algorithm, x1, y1, scoring='accuracy', cv=cv, n_jobs=-1)\n",
    "# report performance\n",
    "print('Accuracy RF: %.4f' % mean(rf_acc))"
   ]
  },
  {
   "cell_type": "code",
   "execution_count": 70,
   "id": "d02d6efa",
   "metadata": {},
   "outputs": [
    {
     "name": "stdout",
     "output_type": "stream",
     "text": [
      "Accuracy RF: 0.6259\n"
     ]
    }
   ],
   "source": [
    "rf_acc1 = cross_val_score(algorithm, x_re, y_re, scoring='accuracy', cv=cv, n_jobs=-1)\n",
    "# report performance\n",
    "print('Accuracy RF: %.4f' % mean(rf_acc1))"
   ]
  },
  {
   "cell_type": "code",
   "execution_count": 71,
   "id": "e997283b",
   "metadata": {},
   "outputs": [
    {
     "name": "stdout",
     "output_type": "stream",
     "text": [
      "Accuracy RF: 0.4231\n"
     ]
    }
   ],
   "source": [
    "rf_acc2 = cross_val_score(algorithm, x_res, y_res, scoring='accuracy', cv=cv, n_jobs=-1)\n",
    "# report performance\n",
    "print('Accuracy RF: %.4f' % mean(rf_acc2))"
   ]
  },
  {
   "cell_type": "code",
   "execution_count": 72,
   "id": "79ef3af9",
   "metadata": {},
   "outputs": [],
   "source": [
    "#Multi-layer neural network"
   ]
  },
  {
   "cell_type": "code",
   "execution_count": 73,
   "id": "c5d109c4",
   "metadata": {},
   "outputs": [
    {
     "name": "stdout",
     "output_type": "stream",
     "text": [
      "Accuracy of MLNN: 0.5747\n"
     ]
    }
   ],
   "source": [
    "# evaluate model\n",
    "mlnn_acc = cross_val_score(model1, x1, y1, scoring='accuracy', cv=cv, n_jobs=-1)\n",
    "# report performance\n",
    "print('Accuracy of MLNN: %.4f' % mean(mlnn_acc))"
   ]
  },
  {
   "cell_type": "code",
   "execution_count": 74,
   "id": "28dadc4e",
   "metadata": {},
   "outputs": [
    {
     "name": "stdout",
     "output_type": "stream",
     "text": [
      "Accuracy of MLNN: 0.4469\n"
     ]
    }
   ],
   "source": [
    "# evaluate model\n",
    "mlnn_acc1 = cross_val_score(model1, x_re, y_re, scoring='accuracy', cv=cv, n_jobs=-1)\n",
    "# report performance\n",
    "print('Accuracy of MLNN: %.4f' % mean(mlnn_acc1))"
   ]
  },
  {
   "cell_type": "code",
   "execution_count": 75,
   "id": "93f76e49",
   "metadata": {},
   "outputs": [
    {
     "name": "stdout",
     "output_type": "stream",
     "text": [
      "Accuracy of MLNN: 0.4017\n"
     ]
    }
   ],
   "source": [
    "# evaluate model\n",
    "mlnn_acc1 = cross_val_score(model1, x_res, y_res, scoring='accuracy', cv=cv, n_jobs=-1)\n",
    "# report performance\n",
    "print('Accuracy of MLNN: %.4f' % mean(mlnn_acc1))"
   ]
  },
  {
   "cell_type": "markdown",
   "id": "a61556d8",
   "metadata": {},
   "source": [
    "# Feature Selection"
   ]
  },
  {
   "cell_type": "code",
   "execution_count": 76,
   "id": "62ded731",
   "metadata": {},
   "outputs": [],
   "source": [
    "from sklearn.feature_selection import SelectKBest, chi2\n",
    "\n",
    "feature_selector = SelectKBest(chi2, k = \"all\")\n",
    "fit = feature_selector.fit(x1,y1)\n",
    "\n",
    "p_values = pd.DataFrame(fit.pvalues_)\n",
    "scores = pd.DataFrame(fit.scores_)\n",
    "input_variable_names = pd.DataFrame(x1.columns)\n",
    "summary_stats = pd.concat([input_variable_names, p_values, scores], axis = 1)\n",
    "summary_stats.columns = [\"input_variable\", \"p_value\", \"chi2_score\"]\n",
    "summary_stats.sort_values(by = \"p_value\", inplace = True)\n",
    "\n",
    "p_value_threshold = 0.05\n",
    "score_threshold = 5\n",
    "\n",
    "selected_variabless = summary_stats.loc[(summary_stats[\"chi2_score\"] >= score_threshold) &\n",
    "                                       (summary_stats[\"p_value\"] <= p_value_threshold)]\n",
    "selected_variables2 = selected_variabless[\"input_variable\"]\n",
    "X_new = x1[selected_variabless]"
   ]
  },
  {
   "cell_type": "code",
   "execution_count": 77,
   "id": "1304d31f",
   "metadata": {},
   "outputs": [
    {
     "data": {
      "text/plain": [
       "0          Region\n",
       "9        Pregnant\n",
       "10       Referred\n",
       "5          P_test\n",
       "4        Children\n",
       "6     Referred_by\n",
       "1             Hus\n",
       "3         Premise\n",
       "8             CEC\n",
       "7          S_type\n",
       "2             Age\n",
       "Name: input_variable, dtype: object"
      ]
     },
     "execution_count": 77,
     "metadata": {},
     "output_type": "execute_result"
    }
   ],
   "source": [
    "selected_variables2"
   ]
  },
  {
   "cell_type": "code",
   "execution_count": 78,
   "id": "19c3e746",
   "metadata": {},
   "outputs": [],
   "source": [
    "X1 = data3[[\"Region\", \"Hus\", \"Premise\", \"Children\", \"P_test\", \"Referred_by\", \"S_type\", \"CEC\", \"Pregnant\", \"Referred\"]]\n",
    "Y1 = data3[[\"Method\"]]"
   ]
  },
  {
   "cell_type": "code",
   "execution_count": 79,
   "id": "d2d16098",
   "metadata": {},
   "outputs": [],
   "source": [
    "x_smote ,y_smote= smote.fit_resample(X1,Y1)"
   ]
  },
  {
   "cell_type": "code",
   "execution_count": 80,
   "id": "313ab952",
   "metadata": {},
   "outputs": [
    {
     "name": "stdout",
     "output_type": "stream",
     "text": [
      "Accuracy RF: 0.6024\n"
     ]
    }
   ],
   "source": [
    "rf_accu = cross_val_score(algorithm, X1, Y1, scoring='accuracy', cv=cv, n_jobs=-1)\n",
    "# report performance\n",
    "print('Accuracy RF: %.4f' % mean(rf_accu))"
   ]
  },
  {
   "cell_type": "code",
   "execution_count": 81,
   "id": "a9497ce4",
   "metadata": {},
   "outputs": [
    {
     "name": "stdout",
     "output_type": "stream",
     "text": [
      "Accuracy RF: 0.5706\n"
     ]
    }
   ],
   "source": [
    "rf_accu1 = cross_val_score(algorithm, x_smote, y_smote, scoring='accuracy', cv=cv, n_jobs=-1)\n",
    "# report performance\n",
    "print('Accuracy RF: %.4f' % mean(rf_accu1))"
   ]
  },
  {
   "cell_type": "code",
   "execution_count": 82,
   "id": "4d51c6a5",
   "metadata": {},
   "outputs": [
    {
     "name": "stdout",
     "output_type": "stream",
     "text": [
      "Cross Validation Accuracy DT: 0.6020\n"
     ]
    }
   ],
   "source": [
    "dt_acc = cross_val_score(dt_clf, X1, Y1, cv=cv).mean()\n",
    "print(\"Cross Validation Accuracy DT: %.4f\" % dt_acc)"
   ]
  },
  {
   "cell_type": "code",
   "execution_count": 83,
   "id": "2b5a8ba2",
   "metadata": {},
   "outputs": [
    {
     "name": "stdout",
     "output_type": "stream",
     "text": [
      "Cross Validation Accuracy DT: 0.5702\n"
     ]
    }
   ],
   "source": [
    "dt_acc1 = cross_val_score(dt_clf, x_smote, y_smote, cv=cv).mean()\n",
    "print(\"Cross Validation Accuracy DT: %.4f\" % dt_acc1)"
   ]
  },
  {
   "cell_type": "code",
   "execution_count": 84,
   "id": "159666d3",
   "metadata": {},
   "outputs": [
    {
     "name": "stdout",
     "output_type": "stream",
     "text": [
      "Cross Validation Accuracy GB: 0.6037\n"
     ]
    }
   ],
   "source": [
    "gb_accu = cross_val_score(gbMod, X1, Y1, cv=cv).mean()\n",
    "print(\"Cross Validation Accuracy GB: %.4f\" % gb_accu)"
   ]
  },
  {
   "cell_type": "code",
   "execution_count": 85,
   "id": "f1d8e0c5",
   "metadata": {},
   "outputs": [
    {
     "name": "stdout",
     "output_type": "stream",
     "text": [
      "Cross Validation Accuracy GB: 0.5219\n"
     ]
    }
   ],
   "source": [
    "gb_accu1 = cross_val_score(gbMod, x_smote, y_smote, cv=cv, n_jobs=-1).mean()\n",
    "print(\"Cross Validation Accuracy GB: %.4f\" % gb_accu1)"
   ]
  },
  {
   "cell_type": "code",
   "execution_count": 86,
   "id": "23493d97",
   "metadata": {},
   "outputs": [
    {
     "name": "stdout",
     "output_type": "stream",
     "text": [
      "Accuracy of MLNN: 0.589\n"
     ]
    }
   ],
   "source": [
    "mlnn_accu = cross_val_score(model1, X1, Y1, scoring='accuracy', cv=cv, n_jobs=-1)\n",
    "# report performance\n",
    "print('Accuracy of MLNN: %.3f' % mean(mlnn_accu))"
   ]
  },
  {
   "cell_type": "code",
   "execution_count": 87,
   "id": "4b07b590",
   "metadata": {},
   "outputs": [
    {
     "name": "stdout",
     "output_type": "stream",
     "text": [
      "Accuracy of MLNN: 0.462\n"
     ]
    }
   ],
   "source": [
    "mlnn_accu1 = cross_val_score(model1, x_smote, y_smote, scoring='accuracy', cv=cv, n_jobs=-1)\n",
    "# report performance\n",
    "print('Accuracy of MLNN: %.3f' % mean(mlnn_accu1))"
   ]
  },
  {
   "cell_type": "markdown",
   "id": "8fd07bf3",
   "metadata": {},
   "source": [
    "# Hyper-Parameter Tuning"
   ]
  },
  {
   "cell_type": "markdown",
   "id": "d6757eb2",
   "metadata": {},
   "source": [
    "#using randomized search"
   ]
  },
  {
   "cell_type": "code",
   "execution_count": 88,
   "id": "15d3c78c",
   "metadata": {},
   "outputs": [],
   "source": [
    "from sklearn.model_selection import RandomizedSearchCV\n",
    "from scipy.stats import randint\n",
    "from sklearn.model_selection import GridSearchCV"
   ]
  },
  {
   "cell_type": "code",
   "execution_count": 89,
   "id": "2f872c61",
   "metadata": {},
   "outputs": [],
   "source": [
    "rfHyperParams = {'max_features': randint(1,10),\n",
    "                 'min_samples_split': randint(1,10),\n",
    "                 'min_samples_leaf': randint(1,5),\n",
    "                 'bootstrap': randint(1,5),\n",
    "                 'n_estimators': randint(10, 500),\n",
    "                 'max_depth': randint(1,10)}"
   ]
  },
  {
   "cell_type": "code",
   "execution_count": 90,
   "id": "c1723acf",
   "metadata": {},
   "outputs": [
    {
     "name": "stdout",
     "output_type": "stream",
     "text": [
      "Fitting 5 folds for each of 10 candidates, totalling 50 fits\n",
      "[CV] END bootstrap=2, max_depth=5, max_features=1, min_samples_leaf=1, min_samples_split=5, n_estimators=288; total time=   5.3s\n",
      "[CV] END bootstrap=2, max_depth=5, max_features=1, min_samples_leaf=1, min_samples_split=5, n_estimators=288; total time=   5.3s\n",
      "[CV] END bootstrap=2, max_depth=5, max_features=1, min_samples_leaf=1, min_samples_split=5, n_estimators=288; total time=   5.8s\n",
      "[CV] END bootstrap=2, max_depth=5, max_features=1, min_samples_leaf=1, min_samples_split=5, n_estimators=288; total time=   5.6s\n",
      "[CV] END bootstrap=2, max_depth=5, max_features=1, min_samples_leaf=1, min_samples_split=5, n_estimators=288; total time=   5.2s\n",
      "[CV] END bootstrap=4, max_depth=9, max_features=6, min_samples_leaf=1, min_samples_split=2, n_estimators=178; total time=   6.9s\n",
      "[CV] END bootstrap=4, max_depth=9, max_features=6, min_samples_leaf=1, min_samples_split=2, n_estimators=178; total time=   6.9s\n",
      "[CV] END bootstrap=4, max_depth=9, max_features=6, min_samples_leaf=1, min_samples_split=2, n_estimators=178; total time=   6.9s\n",
      "[CV] END bootstrap=4, max_depth=9, max_features=6, min_samples_leaf=1, min_samples_split=2, n_estimators=178; total time=   7.0s\n",
      "[CV] END bootstrap=4, max_depth=9, max_features=6, min_samples_leaf=1, min_samples_split=2, n_estimators=178; total time=   7.0s\n",
      "[CV] END bootstrap=1, max_depth=4, max_features=9, min_samples_leaf=2, min_samples_split=2, n_estimators=213; total time=   7.4s\n",
      "[CV] END bootstrap=1, max_depth=4, max_features=9, min_samples_leaf=2, min_samples_split=2, n_estimators=213; total time=   7.6s\n",
      "[CV] END bootstrap=1, max_depth=4, max_features=9, min_samples_leaf=2, min_samples_split=2, n_estimators=213; total time=   7.6s\n",
      "[CV] END bootstrap=1, max_depth=4, max_features=9, min_samples_leaf=2, min_samples_split=2, n_estimators=213; total time=   7.4s\n",
      "[CV] END bootstrap=1, max_depth=4, max_features=9, min_samples_leaf=2, min_samples_split=2, n_estimators=213; total time=   7.8s\n",
      "[CV] END bootstrap=3, max_depth=2, max_features=9, min_samples_leaf=2, min_samples_split=3, n_estimators=107; total time=   2.8s\n",
      "[CV] END bootstrap=3, max_depth=2, max_features=9, min_samples_leaf=2, min_samples_split=3, n_estimators=107; total time=   2.9s\n",
      "[CV] END bootstrap=3, max_depth=2, max_features=9, min_samples_leaf=2, min_samples_split=3, n_estimators=107; total time=   2.8s\n",
      "[CV] END bootstrap=3, max_depth=2, max_features=9, min_samples_leaf=2, min_samples_split=3, n_estimators=107; total time=   2.9s\n",
      "[CV] END bootstrap=3, max_depth=2, max_features=9, min_samples_leaf=2, min_samples_split=3, n_estimators=107; total time=   2.8s\n",
      "[CV] END bootstrap=1, max_depth=7, max_features=4, min_samples_leaf=4, min_samples_split=2, n_estimators=471; total time=  13.6s\n",
      "[CV] END bootstrap=1, max_depth=7, max_features=4, min_samples_leaf=4, min_samples_split=2, n_estimators=471; total time=  14.1s\n",
      "[CV] END bootstrap=1, max_depth=7, max_features=4, min_samples_leaf=4, min_samples_split=2, n_estimators=471; total time=  13.8s\n",
      "[CV] END bootstrap=1, max_depth=7, max_features=4, min_samples_leaf=4, min_samples_split=2, n_estimators=471; total time=  14.4s\n",
      "[CV] END bootstrap=1, max_depth=7, max_features=4, min_samples_leaf=4, min_samples_split=2, n_estimators=471; total time=  13.7s\n",
      "[CV] END bootstrap=1, max_depth=9, max_features=2, min_samples_leaf=3, min_samples_split=2, n_estimators=213; total time=   5.2s\n",
      "[CV] END bootstrap=1, max_depth=9, max_features=2, min_samples_leaf=3, min_samples_split=2, n_estimators=213; total time=   5.4s\n",
      "[CV] END bootstrap=1, max_depth=9, max_features=2, min_samples_leaf=3, min_samples_split=2, n_estimators=213; total time=   5.3s\n",
      "[CV] END bootstrap=1, max_depth=9, max_features=2, min_samples_leaf=3, min_samples_split=2, n_estimators=213; total time=   5.3s\n",
      "[CV] END bootstrap=1, max_depth=9, max_features=2, min_samples_leaf=3, min_samples_split=2, n_estimators=213; total time=   5.4s\n",
      "[CV] END bootstrap=3, max_depth=5, max_features=7, min_samples_leaf=1, min_samples_split=5, n_estimators=135; total time=   4.3s\n",
      "[CV] END bootstrap=3, max_depth=5, max_features=7, min_samples_leaf=1, min_samples_split=5, n_estimators=135; total time=   4.4s\n",
      "[CV] END bootstrap=3, max_depth=5, max_features=7, min_samples_leaf=1, min_samples_split=5, n_estimators=135; total time=   4.4s\n",
      "[CV] END bootstrap=3, max_depth=5, max_features=7, min_samples_leaf=1, min_samples_split=5, n_estimators=135; total time=   4.8s\n",
      "[CV] END bootstrap=3, max_depth=5, max_features=7, min_samples_leaf=1, min_samples_split=5, n_estimators=135; total time=   4.5s\n",
      "[CV] END bootstrap=4, max_depth=4, max_features=8, min_samples_leaf=1, min_samples_split=6, n_estimators=78; total time=   2.3s\n",
      "[CV] END bootstrap=4, max_depth=4, max_features=8, min_samples_leaf=1, min_samples_split=6, n_estimators=78; total time=   2.4s\n",
      "[CV] END bootstrap=4, max_depth=4, max_features=8, min_samples_leaf=1, min_samples_split=6, n_estimators=78; total time=   2.4s\n",
      "[CV] END bootstrap=4, max_depth=4, max_features=8, min_samples_leaf=1, min_samples_split=6, n_estimators=78; total time=   2.4s\n",
      "[CV] END bootstrap=4, max_depth=4, max_features=8, min_samples_leaf=1, min_samples_split=6, n_estimators=78; total time=   2.5s\n",
      "[CV] END bootstrap=3, max_depth=8, max_features=1, min_samples_leaf=1, min_samples_split=6, n_estimators=225; total time=   4.8s\n",
      "[CV] END bootstrap=3, max_depth=8, max_features=1, min_samples_leaf=1, min_samples_split=6, n_estimators=225; total time=   5.1s\n",
      "[CV] END bootstrap=3, max_depth=8, max_features=1, min_samples_leaf=1, min_samples_split=6, n_estimators=225; total time=   4.9s\n",
      "[CV] END bootstrap=3, max_depth=8, max_features=1, min_samples_leaf=1, min_samples_split=6, n_estimators=225; total time=   4.9s\n",
      "[CV] END bootstrap=3, max_depth=8, max_features=1, min_samples_leaf=1, min_samples_split=6, n_estimators=225; total time=   4.9s\n",
      "[CV] END bootstrap=2, max_depth=5, max_features=9, min_samples_leaf=2, min_samples_split=1, n_estimators=343; total time=   0.2s\n",
      "[CV] END bootstrap=2, max_depth=5, max_features=9, min_samples_leaf=2, min_samples_split=1, n_estimators=343; total time=   0.2s\n",
      "[CV] END bootstrap=2, max_depth=5, max_features=9, min_samples_leaf=2, min_samples_split=1, n_estimators=343; total time=   0.2s\n",
      "[CV] END bootstrap=2, max_depth=5, max_features=9, min_samples_leaf=2, min_samples_split=1, n_estimators=343; total time=   0.2s\n",
      "[CV] END bootstrap=2, max_depth=5, max_features=9, min_samples_leaf=2, min_samples_split=1, n_estimators=343; total time=   0.2s\n"
     ]
    }
   ],
   "source": [
    "gridSearchRF = RandomizedSearchCV(estimator=algorithm, param_distributions=rfHyperParams, n_iter=10,\n",
    "                                   scoring='roc_auc', verbose=2).fit(x_smote, y_smote)"
   ]
  },
  {
   "cell_type": "code",
   "execution_count": 91,
   "id": "579a1fde",
   "metadata": {},
   "outputs": [
    {
     "data": {
      "text/plain": [
       "({'bootstrap': 2,\n",
       "  'max_depth': 5,\n",
       "  'max_features': 1,\n",
       "  'min_samples_leaf': 1,\n",
       "  'min_samples_split': 5,\n",
       "  'n_estimators': 288},\n",
       " nan)"
      ]
     },
     "execution_count": 91,
     "metadata": {},
     "output_type": "execute_result"
    }
   ],
   "source": [
    "gridSearchRF.best_params_,gridSearchRF.best_score_"
   ]
  },
  {
   "cell_type": "code",
   "execution_count": 92,
   "id": "885d57a8",
   "metadata": {},
   "outputs": [],
   "source": [
    "rfMod = RandomForestClassifier(max_depth=4, min_samples_split=6,\n",
    "                               min_samples_leaf=2\n",
    "                               )"
   ]
  },
  {
   "cell_type": "code",
   "execution_count": 93,
   "id": "a65fa463",
   "metadata": {},
   "outputs": [
    {
     "name": "stdout",
     "output_type": "stream",
     "text": [
      "Accuracy RF: 0.4882\n"
     ]
    }
   ],
   "source": [
    "rf_accu = cross_val_score(rfMod, x_re, y_re, scoring='accuracy', cv=cv, n_jobs=-1)\n",
    "# report performance\n",
    "print('Accuracy RF: %.4f' % mean(rf_accu))"
   ]
  },
  {
   "cell_type": "code",
   "execution_count": 94,
   "id": "d507d4c2",
   "metadata": {},
   "outputs": [
    {
     "data": {
      "text/plain": [
       "Index(['Region', 'Pregnant', 'Hus', 'Referred', 'Age', 'Premise', 'Method',\n",
       "       'Children', 'P_test', 'Referred_by', 'S_type', 'CEC'],\n",
       "      dtype='object')"
      ]
     },
     "execution_count": 94,
     "metadata": {},
     "output_type": "execute_result"
    }
   ],
   "source": [
    "data6.columns"
   ]
  },
  {
   "cell_type": "code",
   "execution_count": 100,
   "id": "8b56da66",
   "metadata": {},
   "outputs": [
    {
     "data": {
      "text/plain": [
       "Index(['Region', 'Hus', 'Premise', 'Children', 'P_test', 'Referred_by',\n",
       "       'S_type', 'CEC', 'Pregnant', 'Referred'],\n",
       "      dtype='object')"
      ]
     },
     "execution_count": 100,
     "metadata": {},
     "output_type": "execute_result"
    }
   ],
   "source": [
    "X1.columns"
   ]
  },
  {
   "cell_type": "code",
   "execution_count": 103,
   "id": "a10c2dc2",
   "metadata": {},
   "outputs": [
    {
     "data": {
      "text/plain": [
       "array([0, 1])"
      ]
     },
     "execution_count": 103,
     "metadata": {},
     "output_type": "execute_result"
    }
   ],
   "source": [
    "data3['Region'].unique()"
   ]
  },
  {
   "cell_type": "markdown",
   "id": "89c9d6b7",
   "metadata": {},
   "source": [
    "# Prediction"
   ]
  },
  {
   "cell_type": "code",
   "execution_count": 96,
   "id": "7bdb8870",
   "metadata": {},
   "outputs": [],
   "source": [
    "new_data = [[2, 0, 1, 1, 0, 5, 1, 0, 0, 1],\n",
    "            [2, 1, 1, 2, 0, 5, 0, 0, 0, 1]\n",
    "           ]"
   ]
  },
  {
   "cell_type": "code",
   "execution_count": 97,
   "id": "3bb26442",
   "metadata": {},
   "outputs": [],
   "source": [
    "algorithm.fit(X1, Y1)\n",
    "new_output = algorithm.predict(new_data)"
   ]
  },
  {
   "cell_type": "code",
   "execution_count": 98,
   "id": "54699d40",
   "metadata": {},
   "outputs": [
    {
     "data": {
      "text/plain": [
       "array([3, 3])"
      ]
     },
     "execution_count": 98,
     "metadata": {},
     "output_type": "execute_result"
    }
   ],
   "source": [
    "new_output"
   ]
  },
  {
   "cell_type": "code",
   "execution_count": 108,
   "id": "41350cdf",
   "metadata": {},
   "outputs": [
    {
     "data": {
      "text/plain": [
       "Index(['region ', 'are_you_pregnant', 'discussion_includes_husband ',\n",
       "       'gilr_referred_to_health_post_or_ msi_outreach_team_to_take_up_a_method',\n",
       "       'girl_age', 'location_of_smart_ start_follow_up', 'method_received',\n",
       "       'number_of_children', 'pregnancy_ test', 'referred_ by', 'session_type',\n",
       "       'used_ec_or_condoms_last_time_you_had_sex'],\n",
       "      dtype='object')"
      ]
     },
     "execution_count": 108,
     "metadata": {},
     "output_type": "execute_result"
    }
   ],
   "source": [
    "data.columns"
   ]
  },
  {
   "cell_type": "code",
   "execution_count": 118,
   "id": "9cca4bd2",
   "metadata": {},
   "outputs": [
    {
     "data": {
      "text/plain": [
       "Index(['Region', 'Pregnant', 'Hus', 'Referred', 'Age', 'Premise', 'Method',\n",
       "       'Children', 'P_test', 'Referred_by', 'S_type', 'CEC'],\n",
       "      dtype='object')"
      ]
     },
     "execution_count": 118,
     "metadata": {},
     "output_type": "execute_result"
    }
   ],
   "source": [
    "data6.columns"
   ]
  },
  {
   "cell_type": "code",
   "execution_count": 123,
   "id": "5d5bb577",
   "metadata": {},
   "outputs": [
    {
     "data": {
      "text/plain": [
       "array(['None', 'Used Condoms', 'Used EC'], dtype=object)"
      ]
     },
     "execution_count": 123,
     "metadata": {},
     "output_type": "execute_result"
    }
   ],
   "source": [
    "data['used_ec_or_condoms_last_time_you_had_sex'].unique()"
   ]
  },
  {
   "cell_type": "code",
   "execution_count": null,
   "id": "497d0ff4",
   "metadata": {},
   "outputs": [],
   "source": []
  },
  {
   "cell_type": "code",
   "execution_count": 132,
   "id": "5e622d8b",
   "metadata": {},
   "outputs": [],
   "source": [
    "\n",
    "window = Tk()\n",
    "\n",
    "\n",
    "window.title(\"Welcome to Ticket used prediction system \")\n",
    "\n",
    "window.geometry('900x600')\n",
    "\n",
    "lbl1 = Label(window, text=\"Let us predict the ticket status\",font=(50),fg=\"green\")\n",
    "\n",
    "lbl1.grid(column=1, row=1,padx=10, pady=10)\n",
    "\n",
    "\n",
    "regionlbl = Label(window, text=\"Region\",font=(12),fg=\"green\")\n",
    "\n",
    "regionlbl.grid(column=0, row=4,padx=0, pady=10)\n",
    "\n",
    "regionlbl.grid(column=0, row=4,padx=0, pady=10)\n",
    "\n",
    "regionmenu= StringVar()\n",
    "regionmenu.set(\"Oromiya\")\n",
    "drop= OptionMenu(window, regionmenu, \"Oromiya\", \"Sidama\",\"SNNP\")\n",
    "drop.grid(row=4, column=1,padx=20, pady=10)\n",
    "drop.config(width = 25)\n",
    "drop.config(bg = \"White\")\n",
    "drop.grid()\n",
    "\n",
    "\n",
    "are_you_pregnantlbl = Label(window, text=\"Are you pregnant\",font=(12),fg=\"green\")\n",
    "\n",
    "are_you_pregnantlbl.grid(column=0, row=5,padx=0, pady=5)\n",
    "\n",
    "are_you_pregnantlbl.grid(column=0, row=5,padx=0, pady=5)\n",
    "\n",
    "are_you_pregnantmenu= StringVar()\n",
    "are_you_pregnantmenu.set(\"Unknown\")\n",
    "drop= OptionMenu(window, are_you_pregnantmenu, \"Unknown\", \"Not pregnant\")\n",
    "drop.grid(row=5, column=1,padx=20, pady=10)\n",
    "drop.config(width = 25)\n",
    "drop.config(bg = \"White\")\n",
    "drop.grid()\n",
    "\n",
    "\n",
    "\n",
    "discussion_includes_husbandlbl = Label(window, text=\"Discussion includes husband\",font=(12),fg=\"green\")\n",
    "\n",
    "discussion_includes_husbandlbl.grid(column=0, row=6,padx=20, pady=2)\n",
    "\n",
    "discussion_includes_husbandlbl.grid(column=0, row=6,padx=20, pady=2)\n",
    "\n",
    "discussion_includes_husbandmenu= StringVar()\n",
    "discussion_includes_husbandmenu.set(\"YES\")\n",
    "drop= OptionMenu(window, discussion_includes_husbandmenu, \"YES\", \"NO\")\n",
    "drop.grid(row=6, column=1,padx=20, pady=10)\n",
    "drop.config(width = 25)\n",
    "drop.config(bg = \"White\")\n",
    "drop.grid()\n",
    "\n",
    "\n",
    "Follow_up_locationlbl = Label(window, text=\"Follow up location\",font=(12),fg=\"green\")\n",
    "\n",
    "Follow_up_locationlbl.grid(column=0, row=7,padx=20, pady=2)\n",
    "\n",
    "Follow_up_locationlbl.grid(column=0, row=7,padx=20, pady=2)\n",
    "\n",
    "Follow_up_locationlblmenu= StringVar()\n",
    "Follow_up_locationlblmenu.set(\"Home\")\n",
    "drop= OptionMenu(window, Follow_up_locationlblmenu, \"Home\",\"Health Post\",\"Meeting hall\")\n",
    "drop.grid(row=7, column=1,padx=20, pady=10)\n",
    "drop.config(width = 25)\n",
    "drop.config(bg = \"White\")\n",
    "drop.grid()\n",
    "\n",
    "\n",
    "number_of_childrenlbl = Label(window, text=\"number of children\",font=(12),fg=\"green\")\n",
    "\n",
    "number_of_childrenlbl.grid(column=0, row=8,padx=20, pady=2)\n",
    "\n",
    "number_of_childrenlbl.grid(column=0, row=8,padx=20, pady=2)\n",
    "\n",
    "number_of_childrenlblmenu= StringVar()\n",
    "number_of_childrenlblmenu.set(\"0\")\n",
    "drop= OptionMenu(window, number_of_childrenlblmenu, \"0\", \"1\",\"2\",\"3\",\"4\")\n",
    "drop.grid(row=8, column=1)\n",
    "drop.config(width = 25)\n",
    "drop.config(bg = \"White\")\n",
    "drop.grid()\n",
    "\n",
    "\n",
    "pregnancy_testlbl = Label(window, text=\"pregnancyt est\",font=(12),fg=\"green\")\n",
    "\n",
    "pregnancy_testlbl.grid(column=0, row=9,padx=20, pady=2)\n",
    "\n",
    "pregnancy_testlbl.grid(column=0, row=9,padx=20, pady=2)\n",
    "\n",
    "pregnancy_testlblmenu= StringVar()\n",
    "pregnancy_testlblmenu.set(\"No-test given\")\n",
    "drop= OptionMenu(window, pregnancy_testlblmenu, 'No-test given', 'Tested-negative')\n",
    "drop.grid(row=9, column=1,padx=20, pady=10)\n",
    "drop.config(width = 25)\n",
    "drop.config(bg = \"White\")\n",
    "drop.grid()\n",
    "\n",
    "\n",
    "referred_bylbl = Label(window, text=\"Referred by\",font=(12),fg=\"green\")\n",
    "\n",
    "referred_bylbl.grid(column=0, row=10,padx=20, pady=2)\n",
    "\n",
    "referred_bylbl.grid(column=0, row=10,padx=20, pady=2)\n",
    "\n",
    "referred_bylblmenu= StringVar()\n",
    "referred_bylblmenu.set(\"Navigator\")\n",
    "drop= OptionMenu(window, referred_bylblmenu, 'WDA', 'Navigator', 'HEW', 'Husband', 'Friend/peer',\n",
    "       'Community Leader', 'Friend/Peer')\n",
    "drop.grid(row=10, column=1,padx=20, pady=10)\n",
    "drop.config(width = 25)\n",
    "drop.config(bg = \"White\")\n",
    "drop.grid()\n",
    "\n",
    "Sessionlbl = Label(window, text=\"Session type\",font=(12),fg=\"green\")\n",
    "\n",
    "Sessionlbl.grid(column=0, row=11,padx=20, pady=2)\n",
    "\n",
    "Sessionlbl.grid(column=0, row=11,padx=20, pady=2)\n",
    "\n",
    "Sessionlblmenu= StringVar()\n",
    "Sessionlblmenu.set(\"Individual Session\")\n",
    "drop= OptionMenu(window, Sessionlblmenu,'Individual Session', 'Group Session')\n",
    "drop.grid(row=11, column=1,padx=20, pady=10)\n",
    "drop.config(width = 25)\n",
    "drop.config(bg = \"White\")\n",
    "drop.grid()\n",
    "\n",
    "\n",
    "CEClbl = Label(window, text=\"CEC\",font=(12),fg=\"green\")\n",
    "\n",
    "CEClbl.grid(column=0, row=12,padx=20, pady=2)\n",
    "\n",
    "CEClbl.grid(column=0, row=12,padx=20, pady=2)\n",
    "\n",
    "CEClblmenu= StringVar()\n",
    "CEClblmenu.set(\"None\")\n",
    "drop= OptionMenu(window, CEClblmenu,'None', 'Used Condoms', 'Used EC')\n",
    "drop.grid(row=12, column=1,padx=20, pady=10)\n",
    "drop.config(width = 25)\n",
    "drop.config(bg = \"White\")\n",
    "drop.grid()\n",
    "\n",
    "btn = Button(window, text=\"pridict\",font=(12), command=dataPredictor, bg=\"green\", fg=\"white\")\n",
    "\n",
    "btn.grid(column=1, row=13,padx=0)\n",
    "\n",
    "lblMessege=Label(window, text=\" \",font=(18), fg=\"blue\")\n",
    "\n",
    "lblMessege.grid(column=1, row=14,padx=0, pady=0)\n",
    "\n",
    "\n",
    "window.mainloop()\n",
    "\n"
   ]
  },
  {
   "cell_type": "code",
   "execution_count": null,
   "id": "f9215e65",
   "metadata": {},
   "outputs": [],
   "source": []
  }
 ],
 "metadata": {
  "kernelspec": {
   "display_name": "Python 3 (ipykernel)",
   "language": "python",
   "name": "python3"
  },
  "language_info": {
   "codemirror_mode": {
    "name": "ipython",
    "version": 3
   },
   "file_extension": ".py",
   "mimetype": "text/x-python",
   "name": "python",
   "nbconvert_exporter": "python",
   "pygments_lexer": "ipython3",
   "version": "3.9.7"
  }
 },
 "nbformat": 4,
 "nbformat_minor": 5
}
